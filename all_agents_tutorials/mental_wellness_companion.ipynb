{
 "cells": [
  {
   "cell_type": "markdown",
   "metadata": {},
   "source": [
    "# Mental Wellness Companion Using LangGraph and Gemini API\n",
    "## Overview \n",
    "This AI Agent aims to create a virtual companion focused on mental wellness. The agent will interact with users through natural language, understand their emotions, and provide personalized responses or exercises."
   ]
  },
  {
   "cell_type": "markdown",
   "metadata": {},
   "source": [
    "## Motivation\n",
    "In this modern era, many people are facing mental health challenges, and most feel uncomfortable sharing their struggles or seeking guidance to address their issues. In fact, some people are unaware of their mental health condition; they believe they are fine but might actually be experiencing mental illness. This AI Agent aims to assess their mental condition and, based on the evaluation, provide motivational content or stress-relief exercises to help improve their well-being—all without the need to disclose their situation to anyone."
   ]
  },
  {
   "cell_type": "markdown",
   "metadata": {},
   "source": [
    "## Key Components\n",
    "1. **Mood Analysis Module**: Leverages Google Generative AI to categorize user input into emotional states (Positive/Negative), enabling targeted support strategies.\n",
    "\n",
    "2. **Dynamic Response Routing**: Implements an intelligent routing mechanism that dynamically selects intervention paths based on detected mood, ensuring personalized emotional support.\n",
    "\n",
    "3. **Motivational Quote Generation**: Dynamically generates contextually relevant motivational quotes tailored to the user's specific emotional condition using generative AI.\n",
    "\n",
    "4. **Stress Relief Intervention**: Provides personalized, condition-specific stress relief exercises when negative emotional states are detected, offering immediate supportive guidance.\n",
    "\n",
    "5. **Success Story Contextualization**: Generates relatable success stories that align with the user's emotional experience, promoting hope and resilience through narrative inspiration.\n",
    "\n",
    "6. **Modular State-Based Workflow**: Utilizes LangGraph's StateGraph to create a flexible, extensible workflow with clear state transitions and conditional logic for emotional support."
   ]
  },
  {
   "cell_type": "markdown",
   "metadata": {},
   "source": [
    "### Installing Required Libraries"
   ]
  },
  {
   "cell_type": "code",
   "execution_count": 37,
   "metadata": {},
   "outputs": [
    {
     "name": "stdout",
     "output_type": "stream",
     "text": [
      "Requirement already satisfied: langgraph in c:\\users\\hp\\appdata\\local\\anaconda3\\envs\\streamlit\\lib\\site-packages (0.2.53)\n",
      "Requirement already satisfied: langchain_core in c:\\users\\hp\\appdata\\local\\anaconda3\\envs\\streamlit\\lib\\site-packages (0.3.21)\n",
      "Requirement already satisfied: langchain-google-genai in c:\\users\\hp\\appdata\\local\\anaconda3\\envs\\streamlit\\lib\\site-packages (2.0.6)\n",
      "Requirement already satisfied: langgraph-checkpoint<3.0.0,>=2.0.4 in c:\\users\\hp\\appdata\\local\\anaconda3\\envs\\streamlit\\lib\\site-packages (from langgraph) (2.0.4)\n",
      "Requirement already satisfied: langgraph-sdk<0.2.0,>=0.1.32 in c:\\users\\hp\\appdata\\local\\anaconda3\\envs\\streamlit\\lib\\site-packages (from langgraph) (0.1.33)\n",
      "Requirement already satisfied: PyYAML>=5.3 in c:\\users\\hp\\appdata\\local\\anaconda3\\envs\\streamlit\\lib\\site-packages (from langchain_core) (6.0.2)\n",
      "Requirement already satisfied: jsonpatch<2.0,>=1.33 in c:\\users\\hp\\appdata\\local\\anaconda3\\envs\\streamlit\\lib\\site-packages (from langchain_core) (1.33)\n",
      "Requirement already satisfied: langsmith<0.2.0,>=0.1.125 in c:\\users\\hp\\appdata\\local\\anaconda3\\envs\\streamlit\\lib\\site-packages (from langchain_core) (0.1.136)\n",
      "Requirement already satisfied: packaging<25,>=23.2 in c:\\users\\hp\\appdata\\local\\anaconda3\\envs\\streamlit\\lib\\site-packages (from langchain_core) (24.1)\n",
      "Requirement already satisfied: pydantic<3.0.0,>=2.5.2 in c:\\users\\hp\\appdata\\local\\anaconda3\\envs\\streamlit\\lib\\site-packages (from langchain_core) (2.9.2)\n",
      "Requirement already satisfied: tenacity!=8.4.0,<10.0.0,>=8.1.0 in c:\\users\\hp\\appdata\\local\\anaconda3\\envs\\streamlit\\lib\\site-packages (from langchain_core) (9.0.0)\n",
      "Requirement already satisfied: typing-extensions>=4.7 in c:\\users\\hp\\appdata\\local\\anaconda3\\envs\\streamlit\\lib\\site-packages (from langchain_core) (4.12.2)\n",
      "Requirement already satisfied: filetype<2.0.0,>=1.2.0 in c:\\users\\hp\\appdata\\local\\anaconda3\\envs\\streamlit\\lib\\site-packages (from langchain-google-genai) (1.2.0)\n",
      "Requirement already satisfied: google-generativeai<0.9.0,>=0.8.0 in c:\\users\\hp\\appdata\\local\\anaconda3\\envs\\streamlit\\lib\\site-packages (from langchain-google-genai) (0.8.3)\n",
      "Requirement already satisfied: google-ai-generativelanguage==0.6.10 in c:\\users\\hp\\appdata\\local\\anaconda3\\envs\\streamlit\\lib\\site-packages (from google-generativeai<0.9.0,>=0.8.0->langchain-google-genai) (0.6.10)\n",
      "Requirement already satisfied: google-api-core in c:\\users\\hp\\appdata\\local\\anaconda3\\envs\\streamlit\\lib\\site-packages (from google-generativeai<0.9.0,>=0.8.0->langchain-google-genai) (2.22.0)\n",
      "Requirement already satisfied: google-api-python-client in c:\\users\\hp\\appdata\\local\\anaconda3\\envs\\streamlit\\lib\\site-packages (from google-generativeai<0.9.0,>=0.8.0->langchain-google-genai) (2.151.0)\n",
      "Requirement already satisfied: google-auth>=2.15.0 in c:\\users\\hp\\appdata\\local\\anaconda3\\envs\\streamlit\\lib\\site-packages (from google-generativeai<0.9.0,>=0.8.0->langchain-google-genai) (2.35.0)\n",
      "Requirement already satisfied: protobuf in c:\\users\\hp\\appdata\\local\\anaconda3\\envs\\streamlit\\lib\\site-packages (from google-generativeai<0.9.0,>=0.8.0->langchain-google-genai) (5.28.3)\n",
      "Requirement already satisfied: tqdm in c:\\users\\hp\\appdata\\local\\anaconda3\\envs\\streamlit\\lib\\site-packages (from google-generativeai<0.9.0,>=0.8.0->langchain-google-genai) (4.66.6)\n",
      "Requirement already satisfied: proto-plus<2.0.0dev,>=1.22.3 in c:\\users\\hp\\appdata\\local\\anaconda3\\envs\\streamlit\\lib\\site-packages (from google-ai-generativelanguage==0.6.10->google-generativeai<0.9.0,>=0.8.0->langchain-google-genai) (1.25.0)\n",
      "Requirement already satisfied: jsonpointer>=1.9 in c:\\users\\hp\\appdata\\local\\anaconda3\\envs\\streamlit\\lib\\site-packages (from jsonpatch<2.0,>=1.33->langchain_core) (3.0.0)\n",
      "Requirement already satisfied: msgpack<2.0.0,>=1.1.0 in c:\\users\\hp\\appdata\\local\\anaconda3\\envs\\streamlit\\lib\\site-packages (from langgraph-checkpoint<3.0.0,>=2.0.4->langgraph) (1.1.0)\n",
      "Requirement already satisfied: httpx>=0.25.2 in c:\\users\\hp\\appdata\\local\\anaconda3\\envs\\streamlit\\lib\\site-packages (from langgraph-sdk<0.2.0,>=0.1.32->langgraph) (0.27.2)\n",
      "Requirement already satisfied: httpx-sse>=0.4.0 in c:\\users\\hp\\appdata\\local\\anaconda3\\envs\\streamlit\\lib\\site-packages (from langgraph-sdk<0.2.0,>=0.1.32->langgraph) (0.4.0)\n",
      "Requirement already satisfied: orjson>=3.10.1 in c:\\users\\hp\\appdata\\local\\anaconda3\\envs\\streamlit\\lib\\site-packages (from langgraph-sdk<0.2.0,>=0.1.32->langgraph) (3.10.9)\n",
      "Requirement already satisfied: requests<3,>=2 in c:\\users\\hp\\appdata\\local\\anaconda3\\envs\\streamlit\\lib\\site-packages (from langsmith<0.2.0,>=0.1.125->langchain_core) (2.32.3)\n",
      "Requirement already satisfied: requests-toolbelt<2.0.0,>=1.0.0 in c:\\users\\hp\\appdata\\local\\anaconda3\\envs\\streamlit\\lib\\site-packages (from langsmith<0.2.0,>=0.1.125->langchain_core) (1.0.0)\n",
      "Requirement already satisfied: annotated-types>=0.6.0 in c:\\users\\hp\\appdata\\local\\anaconda3\\envs\\streamlit\\lib\\site-packages (from pydantic<3.0.0,>=2.5.2->langchain_core) (0.7.0)\n",
      "Requirement already satisfied: pydantic-core==2.23.4 in c:\\users\\hp\\appdata\\local\\anaconda3\\envs\\streamlit\\lib\\site-packages (from pydantic<3.0.0,>=2.5.2->langchain_core) (2.23.4)\n",
      "Requirement already satisfied: googleapis-common-protos<2.0.dev0,>=1.56.2 in c:\\users\\hp\\appdata\\local\\anaconda3\\envs\\streamlit\\lib\\site-packages (from google-api-core->google-generativeai<0.9.0,>=0.8.0->langchain-google-genai) (1.65.0)\n",
      "Requirement already satisfied: cachetools<6.0,>=2.0.0 in c:\\users\\hp\\appdata\\local\\anaconda3\\envs\\streamlit\\lib\\site-packages (from google-auth>=2.15.0->google-generativeai<0.9.0,>=0.8.0->langchain-google-genai) (5.5.0)\n",
      "Requirement already satisfied: pyasn1-modules>=0.2.1 in c:\\users\\hp\\appdata\\local\\anaconda3\\envs\\streamlit\\lib\\site-packages (from google-auth>=2.15.0->google-generativeai<0.9.0,>=0.8.0->langchain-google-genai) (0.4.1)\n",
      "Requirement already satisfied: rsa<5,>=3.1.4 in c:\\users\\hp\\appdata\\local\\anaconda3\\envs\\streamlit\\lib\\site-packages (from google-auth>=2.15.0->google-generativeai<0.9.0,>=0.8.0->langchain-google-genai) (4.9)\n",
      "Requirement already satisfied: anyio in c:\\users\\hp\\appdata\\local\\anaconda3\\envs\\streamlit\\lib\\site-packages (from httpx>=0.25.2->langgraph-sdk<0.2.0,>=0.1.32->langgraph) (4.6.0)\n",
      "Requirement already satisfied: certifi in c:\\users\\hp\\appdata\\local\\anaconda3\\envs\\streamlit\\lib\\site-packages (from httpx>=0.25.2->langgraph-sdk<0.2.0,>=0.1.32->langgraph) (2024.8.30)\n",
      "Requirement already satisfied: httpcore==1.* in c:\\users\\hp\\appdata\\local\\anaconda3\\envs\\streamlit\\lib\\site-packages (from httpx>=0.25.2->langgraph-sdk<0.2.0,>=0.1.32->langgraph) (1.0.6)\n",
      "Requirement already satisfied: idna in c:\\users\\hp\\appdata\\local\\anaconda3\\envs\\streamlit\\lib\\site-packages (from httpx>=0.25.2->langgraph-sdk<0.2.0,>=0.1.32->langgraph) (3.10)\n",
      "Requirement already satisfied: sniffio in c:\\users\\hp\\appdata\\local\\anaconda3\\envs\\streamlit\\lib\\site-packages (from httpx>=0.25.2->langgraph-sdk<0.2.0,>=0.1.32->langgraph) (1.3.1)\n",
      "Requirement already satisfied: h11<0.15,>=0.13 in c:\\users\\hp\\appdata\\local\\anaconda3\\envs\\streamlit\\lib\\site-packages (from httpcore==1.*->httpx>=0.25.2->langgraph-sdk<0.2.0,>=0.1.32->langgraph) (0.14.0)\n",
      "Requirement already satisfied: charset-normalizer<4,>=2 in c:\\users\\hp\\appdata\\local\\anaconda3\\envs\\streamlit\\lib\\site-packages (from requests<3,>=2->langsmith<0.2.0,>=0.1.125->langchain_core) (3.4.0)\n",
      "Requirement already satisfied: urllib3<3,>=1.21.1 in c:\\users\\hp\\appdata\\local\\anaconda3\\envs\\streamlit\\lib\\site-packages (from requests<3,>=2->langsmith<0.2.0,>=0.1.125->langchain_core) (2.2.3)\n",
      "Requirement already satisfied: httplib2<1.dev0,>=0.19.0 in c:\\users\\hp\\appdata\\local\\anaconda3\\envs\\streamlit\\lib\\site-packages (from google-api-python-client->google-generativeai<0.9.0,>=0.8.0->langchain-google-genai) (0.22.0)\n",
      "Requirement already satisfied: google-auth-httplib2<1.0.0,>=0.2.0 in c:\\users\\hp\\appdata\\local\\anaconda3\\envs\\streamlit\\lib\\site-packages (from google-api-python-client->google-generativeai<0.9.0,>=0.8.0->langchain-google-genai) (0.2.0)\n",
      "Requirement already satisfied: uritemplate<5,>=3.0.1 in c:\\users\\hp\\appdata\\local\\anaconda3\\envs\\streamlit\\lib\\site-packages (from google-api-python-client->google-generativeai<0.9.0,>=0.8.0->langchain-google-genai) (4.1.1)\n",
      "Requirement already satisfied: colorama in c:\\users\\hp\\appdata\\local\\anaconda3\\envs\\streamlit\\lib\\site-packages (from tqdm->google-generativeai<0.9.0,>=0.8.0->langchain-google-genai) (0.4.6)\n",
      "Requirement already satisfied: grpcio<2.0dev,>=1.33.2 in c:\\users\\hp\\appdata\\local\\anaconda3\\envs\\streamlit\\lib\\site-packages (from google-api-core[grpc]!=2.0.*,!=2.1.*,!=2.10.*,!=2.2.*,!=2.3.*,!=2.4.*,!=2.5.*,!=2.6.*,!=2.7.*,!=2.8.*,!=2.9.*,<3.0.0dev,>=1.34.1->google-ai-generativelanguage==0.6.10->google-generativeai<0.9.0,>=0.8.0->langchain-google-genai) (1.67.1)\n",
      "Requirement already satisfied: grpcio-status<2.0.dev0,>=1.33.2 in c:\\users\\hp\\appdata\\local\\anaconda3\\envs\\streamlit\\lib\\site-packages (from google-api-core[grpc]!=2.0.*,!=2.1.*,!=2.10.*,!=2.2.*,!=2.3.*,!=2.4.*,!=2.5.*,!=2.6.*,!=2.7.*,!=2.8.*,!=2.9.*,<3.0.0dev,>=1.34.1->google-ai-generativelanguage==0.6.10->google-generativeai<0.9.0,>=0.8.0->langchain-google-genai) (1.67.1)\n",
      "Requirement already satisfied: pyparsing!=3.0.0,!=3.0.1,!=3.0.2,!=3.0.3,<4,>=2.4.2 in c:\\users\\hp\\appdata\\local\\anaconda3\\envs\\streamlit\\lib\\site-packages (from httplib2<1.dev0,>=0.19.0->google-api-python-client->google-generativeai<0.9.0,>=0.8.0->langchain-google-genai) (3.2.0)\n",
      "Requirement already satisfied: pyasn1<0.7.0,>=0.4.6 in c:\\users\\hp\\appdata\\local\\anaconda3\\envs\\streamlit\\lib\\site-packages (from pyasn1-modules>=0.2.1->google-auth>=2.15.0->google-generativeai<0.9.0,>=0.8.0->langchain-google-genai) (0.6.1)\n"
     ]
    }
   ],
   "source": [
    "! pip install langgraph langchain_core langchain-google-genai"
   ]
  },
  {
   "cell_type": "markdown",
   "metadata": {},
   "source": [
    "### Importing Necessary Libraries"
   ]
  },
  {
   "cell_type": "code",
   "execution_count": 38,
   "metadata": {},
   "outputs": [],
   "source": [
    "from langchain_google_genai import ChatGoogleGenerativeAI\n",
    "from langgraph.graph import START,StateGraph,END\n",
    "from langgraph.graph.state import CompiledStateGraph\n",
    "from langchain_core.prompts import PromptTemplate\n",
    "from IPython.display import Image,display\n",
    "from typing_extensions import TypedDict\n",
    "import os\n",
    "from dotenv import load_dotenv"
   ]
  },
  {
   "cell_type": "markdown",
   "metadata": {},
   "source": [
    "### Main Code Logic"
   ]
  },
  {
   "cell_type": "code",
   "execution_count": 39,
   "metadata": {},
   "outputs": [],
   "source": [
    "# Loading All Environment Variables\n",
    "load_dotenv()\n",
    "\n",
    "gemini_key = os.getenv('GEMINI_API_KEY')\n",
    "\n",
    "llm : ChatGoogleGenerativeAI = ChatGoogleGenerativeAI(model=\"gemini-1.5-flash\",api_key=gemini_key)\n",
    "\n",
    "class State(TypedDict):\n",
    "    text:str\n",
    "    mood:str\n",
    "    motivational_quote:str\n",
    "    exercises:str\n",
    "    success_story:str\n",
    "    \n",
    "# Function for Analyzing Mood\n",
    "def analyze_mood(state:State):\n",
    "    prompt = PromptTemplate(input_variables='text',template='Chat if this is the persons condition: {text}. Chat categorize this in the following categorizes: Positive and Negative. Donot give description of it just categorize it into categories defined before. And If its Neutral between Positive and Negative then consider it to positive.')\n",
    "    message = prompt.format(text=state['text'])\n",
    "    mood = llm.invoke(message).content\n",
    "    return {\"mood\":mood}\n",
    "\n",
    "# Function for generating motivational_quotye\n",
    "def motivational_quote_generator(state:State):\n",
    "    prompt = PromptTemplate(input_variables='text',template='Generate a motivational quote according to the persons condition . If its condition is this :{text}')\n",
    "    message = prompt.format(text=state['text'])\n",
    "    motivational_quote = llm.invoke(message).content\n",
    "    return {\"motivational_quote\":motivational_quote}\n",
    "\n",
    "# Function for generating stress relief exercises\n",
    "def stress_relief_exercises_generator(state:State):\n",
    "    prompt = PromptTemplate(input_variables='text',template='If this is the persons condition:{text} . Give him atleast 3 exercises that will help the person to heal from this condition and become normal. And note give the response in format')\n",
    "    message = prompt.format(text=state['text'])\n",
    "    exercises = llm.invoke(message).content \n",
    "    return {\"exercises\" : exercises}\n",
    "\n",
    "# Function for generating success stories\n",
    "def success_story_generator(state:State):\n",
    "    prompt =PromptTemplate(input_variables='text',template='If this is the condition of a person:{text}. Generate a short success story of a person which is relatatable to this persons condition') \n",
    "    message = prompt.format(text=state['text'])\n",
    "    success_story=llm.invoke(message).content\n",
    "    return {\"success_story\":success_story}\n",
    "\n",
    "# Function for route handling in the graph\n",
    "def route_handler(state:State):\n",
    "    if state['mood'].lower().strip() == 'negative':\n",
    "        return 'stress_relief_exercises'\n",
    "    return 'motivational_quotes'  "
   ]
  },
  {
   "cell_type": "markdown",
   "metadata": {},
   "source": [
    "### Initializing and Defining the Workflow Graph"
   ]
  },
  {
   "cell_type": "code",
   "execution_count": 40,
   "metadata": {},
   "outputs": [],
   "source": [
    "# Initializing the StateGraph\n",
    "workflow :StateGraph = StateGraph(State)\n",
    "\n",
    "# Defining Nodes\n",
    "workflow.add_node('mood_detector',analyze_mood)\n",
    "workflow.add_node('motivational_quotes',motivational_quote_generator)\n",
    "workflow.add_node('stress_relief_exercises',stress_relief_exercises_generator)\n",
    "workflow.add_node('success_stories',success_story_generator)\n",
    "\n",
    "# Connecting Nodes through Edges\n",
    "\n",
    "workflow.set_entry_point('mood_detector')\n",
    "workflow.add_conditional_edges('mood_detector',route_handler,{\n",
    "    \"stress_relief_exercises\":'stress_relief_exercises',\n",
    "    \"motivational_quotes\":\"motivational_quotes\"\n",
    "})\n",
    "workflow.add_edge(\"motivational_quotes\",END)\n",
    "workflow.add_edge('stress_relief_exercises','success_stories')\n",
    "workflow.add_edge('success_stories',END)\n",
    "\n",
    "graph:CompiledStateGraph = workflow.compile()\n"
   ]
  },
  {
   "cell_type": "markdown",
   "metadata": {},
   "source": [
    "### Visualizing the Workflow Graph"
   ]
  },
  {
   "cell_type": "code",
   "execution_count": 41,
   "metadata": {},
   "outputs": [
    {
     "data": {
      "image/png": "[encoded data removed]",
      "text/plain": [
       "<IPython.core.display.Image object>"
      ]
     },
     "metadata": {},
     "output_type": "display_data"
    }
   ],
   "source": [
    "display(Image(graph.get_graph().draw_mermaid_png()))"
   ]
  },
  {
   "cell_type": "markdown",
   "metadata": {},
   "source": [
    "### Invoking Graph"
   ]
  },
  {
   "cell_type": "code",
   "execution_count": 42,
   "metadata": {},
   "outputs": [
    {
     "name": "stdout",
     "output_type": "stream",
     "text": [
      "text : Hi! I am feeling very good and happy because I won the first prize in a hackathon\n",
      "mood : Positive\n",
      "\n",
      "motivational_quote : \"This win isn't just a prize; it's a testament to your talent and dedication.  Keep that fire burning, and the world will see what amazing things you can create!\"\n",
      "\n"
     ]
    }
   ],
   "source": [
    "content = \"Hi! I am feeling very good and happy because I won the first prize in a hackathon\"\n",
    "result = graph.invoke({\"text\": content})\n",
    "\n",
    "for key, value in result.items():\n",
    "    print(f\"{key} : {value}\")"
   ]
  },
  {
   "cell_type": "code",
   "execution_count": 43,
   "metadata": {},
   "outputs": [
    {
     "name": "stdout",
     "output_type": "stream",
     "text": [
      "text : Hi! I am not feeling good because I was unable to get any position in the hackathon\n",
      "mood : Negative\n",
      "\n",
      "exercises : **Exercise 1: Perspective Shift - Identifying Limiting Beliefs**\n",
      "\n",
      "* **Action:** Write down all the negative thoughts and beliefs that arose from not winning the hackathon.  Examples: \"I'm not good enough,\" \"I'll never succeed,\" \"I wasted my time.\"  Then, challenge each thought.  Is it truly accurate? What evidence supports it? What evidence contradicts it?  Rewrite each negative thought into a more balanced and realistic statement. For example, change \"I'm not good enough\" to \"I didn't win this time, but I learned valuable skills and can improve for next time.\"\n",
      "\n",
      "* **Goal:** To identify and reframe negative self-talk, replacing it with more constructive and rational thinking. This helps reduce feelings of inadequacy and disappointment.\n",
      "\n",
      "* **Frequency:** Do this exercise once daily for at least three days.\n",
      "\n",
      "\n",
      "**Exercise 2:  Focusing on the Positive & Growth Mindset**\n",
      "\n",
      "* **Action:**  Create a list of everything you *did* accomplish during the hackathon.  This might include specific skills you learned, problems you solved, connections you made, or even just the experience of participating.  Also, list three things you are proud of achieving in other areas of your life, unrelated to the hackathon.\n",
      "\n",
      "* **Goal:** To shift focus from the negative outcome to positive achievements and build self-esteem.  This reinforces a growth mindset, emphasizing learning and improvement over solely focusing on winning.\n",
      "\n",
      "* **Frequency:** Do this exercise once or twice a week.\n",
      "\n",
      "\n",
      "**Exercise 3:  Action Planning for Future Success**\n",
      "\n",
      "* **Action:** Identify three specific actions you can take to improve your chances of success in future hackathons or similar events.  These might include practicing specific coding skills, joining a team, researching past projects, or seeking mentorship.  Write down a timeline for completing each action.\n",
      "\n",
      "* **Goal:** To transform disappointment into proactive steps towards future success. This creates a sense of agency and control, reducing feelings of helplessness.\n",
      "\n",
      "* **Frequency:** Do this exercise once, then review and update your plan regularly.\n",
      "\n",
      "success_story : Maya slumped onto her chair, the glow of her laptop screen mocking her.  She hadn't placed in the hackathon.  Again.  The sting of disappointment was familiar, a bitter taste she'd swallowed too many times.  She'd poured her heart and soul into her project, sacrificing sleep and social life.  This time, it felt especially crushing.\n",
      "\n",
      "But Maya wasn't one to give up easily.  She remembered the quiet pride she felt building her first simple website, the thrill of solving a coding problem that had stumped her for days.  That feeling, that spark of accomplishment, was worth more than any prize.\n",
      "\n",
      "Instead of wallowing, Maya analyzed her code, seeking areas for improvement. She reached out to mentors, seeking feedback, embracing the learning process.  She joined online communities, collaborating on smaller projects, learning from others’ successes and failures.  Slowly, her skills sharpened.  She began to win smaller competitions, gaining confidence with each victory.  Finally, a year later, she not only placed in a major hackathon, but won the grand prize.  Her winning project, a testament to her perseverance and improved skills, went on to receive national recognition.  The journey hadn't been easy, but the sweetness of success tasted all the better for the struggles she'd overcome.\n",
      "\n"
     ]
    }
   ],
   "source": [
    "content = \"Hi! I am not feeling good because I was unable to get any position in the hackathon\"\n",
    "result = graph.invoke({\"text\": content})\n",
    "\n",
    "for key, value in result.items():\n",
    "    print(f\"{key} : {value}\")"
   ]
  }
 ],
 "metadata": {
  "kernelspec": {
   "display_name": "streamlit",
   "language": "python",
   "name": "python3"
  },
  "language_info": {
   "codemirror_mode": {
    "name": "ipython",
    "version": 3
   },
   "file_extension": ".py",
   "mimetype": "text/x-python",
   "name": "python",
   "nbconvert_exporter": "python",
   "pygments_lexer": "ipython3",
   "version": "3.11.10"
  }
 },
 "nbformat": 4,
 "nbformat_minor": 2
}
