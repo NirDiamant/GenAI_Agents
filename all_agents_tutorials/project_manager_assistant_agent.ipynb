{
 "cells": [
  {
   "cell_type": "markdown",
   "metadata": {},
   "source": [
    "# Project Manager Assistant Agent"
   ]
  },
  {
   "cell_type": "markdown",
   "metadata": {},
   "source": [
    "## Overview\n",
    "This tutorial demonstrates how to create a an AI agent that assists in project management tasks including creating actionable tasks from a given project description, identify the dependency within the tasks, create a task execution schedule for the project, and assign the individual tasks to project members based on their expertise and experience. This application uses a combination of custom functions, structured output, and an agent that can streamline the project management, in particular during the project initation / setup process. "
   ]
  },
  {
   "cell_type": "markdown",
   "metadata": {},
   "source": [
    "\n",
    "## Motivation\n",
    "Effective management is key to project success. It already starts, with the setup of the project, definition of tasks, scheduling and allocation of team members. However, with increasing complexity of the project, this task becomes more and more challenging and time consuming frequently requiring days of planning involving several members of the organization.\n",
    "\n",
    "The ```Project Manager Assistant Agent``` was created to transfrom how projects are initiated by introducing automation, intelligence, and precision into the process. It enables project managers to seamless translate project description into structure, actionable plans, mapping dependencies for better workflow alignment and assign tasks based on team members' expertise and experience. In addition, it creates risks scores for the individual tasks allowing overall project risk assessment. This overall project risk score is used as part of a self-reflection (along insights generations on the actual plan) to further improve the schedule and task assignment to reduce the project risks. (see details on the implementation).\n",
    "\n",
    "### Benefits\n",
    "This AI-driven approach reduces the burden of manual planning and eliminates redundancies, allowing project managers to shift their focus to higher-level strategy and decision. making. \n",
    "\n",
    "Example visaulized output for an agent derived project plan:\n",
    "![Project Manager Assistant Agent Gantt-chart](../images/project_manager_assistant_agent_ganttchart.png)"
   ]
  },
  {
   "cell_type": "markdown",
   "metadata": {},
   "source": [
    "### Key Components\n",
    "<ol>\n",
    "    <li>\n",
    "        <b>LangGraph</b>: Organize the overall workflow of the agent, managing the flow of infromation between different nodes and stages of the agent\n",
    "    </li>\n",
    "    <li>\n",
    "        <b>GPT-4o-mini</b>: Extracts actionable items from the project description, map dependencies, schedules tasks, allocate tasks to team, and assess the risks\n",
    "    </li>\n",
    "\n",
    "</ol>"
   ]
  },
  {
   "cell_type": "markdown",
   "metadata": {},
   "source": [
    "### Key Classes\n",
    "<b>State Management</b>\n",
    "<br/>\n",
    "<ol>\n",
    "    <li>\n",
    "        <b>AgentState</b>\n",
    "        <ul>\n",
    "            <li><b>project_description</b>: Description of the project</li>\n",
    "            <li><b>team</b>: The team available</li>\n",
    "            <li><b>tasks</b>: List of tasks</li>\n",
    "            <li><b>dependencies</b>: List of dependencies of tasks</li>\n",
    "            <li><b>schedule</b>: Project schedule created by the agent</li>\n",
    "            <li><b>task_allocations</b>: List of team member and task allocated to them</li>\n",
    "            <li><b>risks</b>: Risks associated with the tasks</li>\n",
    "            <li><b>iteration_number</b>: Number of times the agent will go into self-reflection</li>\n",
    "            <li><b>max_iteration</b>: The maximum number of time it can go into feedback loop to improve itself</li>\n",
    "            <li><b>insights</b>: Insights generated to improve the response</li>\n",
    "            <li><b>schedule_iteration</b>: Schedule per iteration </li>\n",
    "            <li><b>task_allocations_iteration</b>: Task allocation per iteration</li>\n",
    "            <li><b>risks_iteration</b>: Risks per task per iteration</li>\n",
    "            <li><b>project_risk_score_iterations</b>: Projecr risk score per iteration</li>\n",
    "        </ul>\n",
    "    </li>\n",
    "    <li>\n",
    "        <b>Task</b>\n",
    "        <ul>\n",
    "            <li><b>id</b>: Id for the task</li>\n",
    "            <li><b>task_name</b>: Name of the task</li>\n",
    "            <li><b>task_description</b>: Description of task</li>\n",
    "            <li><b>estimated_day</b>: Estimated time the task will take to complete</li>\n",
    "        </ul>\n",
    "    </li>\n",
    "    <li>\n",
    "        <b>TaskDependency</b>\n",
    "        <ul>\n",
    "            <li><b>task</b>: The task</li>\n",
    "            <li><b>dependent_task</b>: Dependent tasks</li>\n",
    "        </ul>\n",
    "    </li>\n",
    "    <li>\n",
    "        <b>Team Member</b>\n",
    "        <ul>\n",
    "            <li><b>name</b>: Name of the team member</li>\n",
    "            <li><b>profile</b>: Profile of the member</li>\n",
    "        </ul>\n",
    "    </li>\n",
    "    <li>\n",
    "        <b>Team</b>\n",
    "        <ul>\n",
    "            <li><b>team_member</b>: Members in the team</li>\n",
    "        </ul>\n",
    "    </li>\n",
    "    <li>\n",
    "        <b>TaskAllocation</b>\n",
    "        <ul>\n",
    "            <li><b>task</b>: A task </li>\n",
    "            <li><b>team_member</b>: To whom the task is allocated</li> \n",
    "        </ul>\n",
    "    </li>\n",
    "    <li>\n",
    "        <b>TaskSchedule</b>\n",
    "        <ul>\n",
    "            <li><b>task</b>: A task </li>\n",
    "            <li><b>start_day</b>: When the task should start</li>\n",
    "            <li><b>end_day</b>: When the task will end</li>\n",
    "        </ul>\n",
    "    </li>\n",
    "    <li>\n",
    "        <b>TaskList</b>\n",
    "        <ul>\n",
    "            <li><b>tasks</b>: List of tasks</li>\n",
    "        </ul>\n",
    "    </li>\n",
    "    <li>\n",
    "        <b>DependencyList</b>\n",
    "        <ul>\n",
    "            <li><b>dependencies</b>: List of tasks with their dependent tasks</li>\n",
    "        </ul>\n",
    "    </li>\n",
    "    <li>\n",
    "        <b>Schedule</b>\n",
    "        <ul>\n",
    "            <li><b>schedule</b>: List of task schedule</li>\n",
    "        </ul>\n",
    "    </li>\n",
    "    <li>\n",
    "        <b>TaskAllocationList</b>\n",
    "        <ul>\n",
    "            <li><b>task_allocations</b>: List of allocated tasks</li>\n",
    "        </ul>\n",
    "    </li>\n",
    "    <li>\n",
    "        <b>Risk</b>\n",
    "        <ul>\n",
    "            <li><b>task</b>: A task</li>\n",
    "            <li><b>score</b>: Risk score for that task</li>\n",
    "        </ul>\n",
    "    </li>\n",
    "    <li>\n",
    "        <b>RiskList</b>\n",
    "        <ul>\n",
    "            <li><b>risks</b>: List of risks</li>\n",
    "        </ul>\n",
    "    </li>\n",
    "</ol>\n"
   ]
  },
  {
   "cell_type": "markdown",
   "metadata": {},
   "source": [
    "### Key Nodes and Functions\n",
    "<ol>\n",
    "    <li>\n",
    "        <b>task_generation</b>: Node that will extract tasks from given project description\n",
    "    </li>\n",
    "    <li>\n",
    "        <b>task_dependencies</b>: Node that will evaluate the dependencies between the tasks\n",
    "    </li>\n",
    "    <li>\n",
    "        <b>task_scheduler</b>: Node that will schedule tasks based on dependencies and team availability\n",
    "    </li>\n",
    "    <li>\n",
    "        <b>task_allocator</b>: Node that will allocate tasks to team members\n",
    "    </li>\n",
    "    <li>\n",
    "        <b>risk_assessor</b>: Node that analyze risk associated with schedule and allocation of task\n",
    "    </li>\n",
    "    <li>\n",
    "        <b>insight_generator</b>: Node that generate insights from the schedule, task allocation and risk associated\n",
    "    </li>\n",
    "    <li>\n",
    "        <b>router</b>: A helper function that will route the agent to the appropriate node based on the project description\n",
    "    </li>\n",
    "</ol>"
   ]
  },
  {
   "cell_type": "markdown",
   "metadata": {},
   "source": [
    "## Visual Representation of the Agent"
   ]
  },
  {
   "cell_type": "markdown",
   "metadata": {},
   "source": [
    "<img src=\"../images/project_manager_assistant_agent.svg\" alt=\"Project Manager Assistant\" width=\"500\" height=\"500\">\n"
   ]
  },
  {
   "cell_type": "markdown",
   "metadata": {},
   "source": [
    "## Implementation\n",
    "In the following section, we provide a detailed overview how to implement the Project Manager Assistant Agent."
   ]
  },
  {
   "cell_type": "markdown",
   "metadata": {
    "vscode": {
     "languageId": "plaintext"
    }
   },
   "source": [
    "### Install and import tutorial specific libraries"
   ]
  },
  {
   "cell_type": "code",
   "execution_count": 397,
   "metadata": {},
   "outputs": [],
   "source": [
    "!pip install langchain langgraph langchain-openai pandas plotly networkx pyvis openai python-dotenv -q"
   ]
  },
  {
   "cell_type": "code",
   "execution_count": 398,
   "metadata": {},
   "outputs": [],
   "source": [
    "import os\n",
    "import uuid\n",
    "import pandas as pd\n",
    "import plotly.express as px\n",
    "from datetime import datetime, timedelta\n",
    "from typing import List, TypedDict\n",
    "from pydantic import BaseModel, Field\n",
    "from langchain_openai import AzureChatOpenAI, ChatOpenAI\n",
    "from langgraph.graph import StateGraph, START,END\n",
    "from langgraph.checkpoint.memory import MemorySaver\n",
    "from IPython.display import Image, display, Markdown, HTML\n",
    "from dotenv import load_dotenv\n",
    "\n",
    "# Load environment variables\n",
    "load_dotenv(override=True)\n",
    "\n",
    "# Define your model provider\n",
    "model_provider = 'Azure' # 'Azure' or 'OpenAI'"
   ]
  },
  {
   "cell_type": "markdown",
   "metadata": {},
   "source": [
    "### Instantiate LLM model"
   ]
  },
  {
   "cell_type": "code",
   "execution_count": 399,
   "metadata": {},
   "outputs": [],
   "source": [
    "# Based on model_provider load the language model\n",
    "if model_provider == 'Azure':\n",
    "    \"\"\"\n",
    "    Define your environmental variables under .venv:\n",
    "        - AZURE_OPENAI_API_KEY    \n",
    "        - OPENAI_API_VERSION\n",
    "        - AZURE_OPENAI_ENDPOINT\n",
    "    \"\"\"\n",
    "    llm = AzureChatOpenAI(\n",
    "        deployment_name='gpt-4o-mini',  # Your actual deployment name\n",
    "    )\n",
    "elif model_provider == 'OpenAI':\n",
    "    \"\"\"\n",
    "    Define your environmental variables under .venv:\n",
    "        - OPENAI_API_KEY\n",
    "        - OPENAI_API_BASE\n",
    "    \"\"\"\n",
    "    llm = ChatOpenAI(model=\"gpt-4o-mini\")\n",
    "else:\n",
    "    print('Implement your own llm loader')"
   ]
  },
  {
   "cell_type": "code",
   "execution_count": 400,
   "metadata": {},
   "outputs": [
    {
     "data": {
      "text/plain": [
       "AIMessage(content=\"Hello! I'm just a computer program, so I don't have feelings, but I'm here and ready to help you. How can I assist you today?\", additional_kwargs={'refusal': None}, response_metadata={'token_usage': {'completion_tokens': 30, 'prompt_tokens': 13, 'total_tokens': 43, 'completion_tokens_details': None, 'prompt_tokens_details': None}, 'model_name': 'gpt-4o-mini', 'system_fingerprint': 'fp_04751d0b65', 'prompt_filter_results': [{'prompt_index': 0, 'content_filter_results': {'hate': {'filtered': False, 'severity': 'safe'}, 'jailbreak': {'filtered': False, 'detected': False}, 'self_harm': {'filtered': False, 'severity': 'safe'}, 'sexual': {'filtered': False, 'severity': 'safe'}, 'violence': {'filtered': False, 'severity': 'safe'}}}], 'finish_reason': 'stop', 'logprobs': None, 'content_filter_results': {'hate': {'filtered': False, 'severity': 'safe'}, 'self_harm': {'filtered': False, 'severity': 'safe'}, 'sexual': {'filtered': False, 'severity': 'safe'}, 'violence': {'filtered': False, 'severity': 'safe'}}}, id='run-9bbab967-9fae-47d5-84bd-a1b38555873a-0', usage_metadata={'input_tokens': 13, 'output_tokens': 30, 'total_tokens': 43, 'input_token_details': {}, 'output_token_details': {}})"
      ]
     },
     "execution_count": 400,
     "metadata": {},
     "output_type": "execute_result"
    }
   ],
   "source": [
    "# Test your LLM\n",
    "llm.invoke(\"Hello, how are you?\")"
   ]
  },
  {
   "cell_type": "markdown",
   "metadata": {},
   "source": [
    "In the following section, we will step-by-step implement:\n",
    "- The data classes,\n",
    "- Agent state,\n",
    "- Nodes and function (used as a router),\n",
    "- and the workflow of the agent.\n",
    "\n",
    "So let's create all required data classes first:"
   ]
  },
  {
   "cell_type": "code",
   "execution_count": 401,
   "metadata": {},
   "outputs": [],
   "source": [
    "# Data Models\n",
    "class Task(BaseModel):\n",
    "    id: uuid.UUID = Field(default_factory=uuid.uuid4, description=\"Unique identifier for the task\")\n",
    "    task_name: str = Field(description=\"Name of the task\")\n",
    "    task_description: str = Field(description=\"Description of the task\")\n",
    "    estimated_day: int = Field(description=\"Estimated number of days to complete the task\")\n",
    "\n",
    "class TaskList(BaseModel):\n",
    "    tasks: List[Task] = Field(description=\"List of tasks\")\n",
    "\n",
    "class TaskDependency(BaseModel):\n",
    "    \"\"\"Task dependency model\"\"\"\n",
    "    task: Task = Field(description=\"Task\")\n",
    "    dependent_tasks: List[Task] = Field(description=\"List of dependent tasks\")\n",
    "\n",
    "class TeamMember(BaseModel):\n",
    "    name: str = Field(description=\"Name of the team member\")\n",
    "    profile: str = Field(description=\"Profile of the team member\")\n",
    "\n",
    "class Team(BaseModel):\n",
    "    team_members: List[TeamMember] = Field(description=\"List of team members\")\n",
    "\n",
    "# Iterative assessment\n",
    "class TaskAllocation(BaseModel):\n",
    "    \"\"\"Task allocation class\"\"\"\n",
    "    task: Task = Field(description=\"Task\")\n",
    "    team_member: TeamMember = Field(description=\"Team members assigned to the task\")\n",
    "\n",
    "class TaskSchedule(BaseModel):\n",
    "    \"\"\"Schedule schedule class\"\"\"\n",
    "    task: Task = Field(description=\"Task\")\n",
    "    start_day: int = Field(description=\"Start day of the task\")\n",
    "    end_day: int = Field(description=\"End day of the task\")\n",
    "\n",
    "# Lists\n",
    "class DependencyList(BaseModel):\n",
    "    \"\"\"List of task dependencies\"\"\"\n",
    "    dependencies: List[TaskDependency] = Field(description=\"List of task dependencies\")\n",
    "\n",
    "class Schedule(BaseModel):\n",
    "    \"\"\"List of task schedules\"\"\"\n",
    "    schedule: List[TaskSchedule] = Field(description=\"List of task schedules\")\n",
    "\n",
    "class TaskAllocationList(BaseModel):\n",
    "    \"\"\"List of task allocations\"\"\"\n",
    "    task_allocations: List[TaskAllocation] = Field(description=\"List of task allocations\")\n",
    "\n",
    "# Iteration\n",
    "class TaskAllocationListIteration(BaseModel):\n",
    "    \"\"\"List of task allocations for each iteration\"\"\"\n",
    "    task_allocations_iteration: List[TaskAllocationList] = Field(description=\"List of task allocations for each iteration\")\n",
    "\n",
    "class ScheduleIteration(BaseModel):\n",
    "    \"\"\"List of task schedules for each iteration\"\"\"\n",
    "    schedule: List[Schedule] = Field(description=\"List of task schedules for each iteration\")\n",
    "\n",
    "class Risk(BaseModel):\n",
    "    \"\"\"Risk of a task\"\"\"\n",
    "    task: Task = Field(description=\"Task\")\n",
    "    score: str = Field(description=\"Risk associated with the task\")\n",
    "\n",
    "class RiskList(BaseModel):\n",
    "    \"\"\"List of risks for each iteration\"\"\"\n",
    "    risks: List[Risk] = Field(description=\"List of risks\")\n",
    "\n",
    "class RiskListIteration(BaseModel):\n",
    "    \"\"\"List of risks for each iteration\"\"\"\n",
    "    risks_iteration: List[RiskList] = Field(description=\"List of risks for each iteration\")"
   ]
  },
  {
   "cell_type": "markdown",
   "metadata": {},
   "source": [
    "In the next step, let's create the AgentState. The `schedule_iteration`, `task_allocations_iteration`, `risks_iteration` are introduced to generate structured 'memory' for the self-reflection cycles."
   ]
  },
  {
   "cell_type": "code",
   "execution_count": 402,
   "metadata": {},
   "outputs": [],
   "source": [
    "class AgentState(TypedDict):\n",
    "    \"\"\"The project manager agent state.\"\"\"\n",
    "    project_description: str\n",
    "    team: Team\n",
    "    tasks: TaskList\n",
    "    dependencies: DependencyList\n",
    "    schedule: Schedule\n",
    "    task_allocations: TaskAllocationList\n",
    "    risks: RiskList\n",
    "    iteration_number: int\n",
    "    max_iteration: int\n",
    "    insights: List[str]\n",
    "    schedule_iteration: List[Schedule]\n",
    "    task_allocations_iteration: List[TaskAllocationList]\n",
    "    risks_iteration: List[RiskListIteration]\n",
    "    project_risk_score_iterations: List[int]"
   ]
  },
  {
   "cell_type": "markdown",
   "metadata": {},
   "source": [
    "Well done, let's create the required nodes. As a quick recap:\n",
    "\n",
    " In LangGraph a node is defined as a function which has an argument the `AgentState`. Within the node certain attributes of the field state is updated which at the end of the node is returned to the workflow manager and passed to the next node. Inside the nodes, LLM's are used to generate (non)-structured response.\n",
    "\n",
    "In this tutorial we have implemented the nodes based on th following pattern:\n",
    "\n",
    "```\n",
    "def task_generation_node(state: AgentState):\n",
    " \"\"\"LangGraph node that will extract tasks from given project description\"\"\"\n",
    "    description = state[\"project_description\"]\n",
    "    prompt = f\"\"\"You are an experienced project description analyzer. Analyze the \n",
    "    project description '{description}' and create a list of actionable and\n",
    "    realistic tasks with estimated time (in days) to complete each task.\n",
    "    If the task takes longer than 5 days, break it down into independent smaller tasks.\n",
    "    \"\"\"\n",
    "    structure_llm = llm.with_structured_output(TaskList)\n",
    "    tasks: TaskList = structure_llm.invoke(prompt)\n",
    "    state['tasks'] = tasks\n",
    "    return state\n",
    "```\n",
    "In almost all nodes, we used:\n",
    "- `llm.with_structured_output(<structure>)` - generating structured output. \n",
    "\n",
    "The .with_structured_output() method enables models with native APIs for structured outputs, such as function calling or JSON mode, to reliably produce outputs as objects based on a defined schema. The schema can be specified using a TypedDict, JSON Schema, or a Pydantic class, determining whether the output is a dictionary or a Pydantic object.\n",
    "\n",
    "The only exception is the insight_generation_node where only `str` as requested from the llm and the required interface only `llm.invoke(prompt)`"
   ]
  },
  {
   "cell_type": "code",
   "execution_count": 403,
   "metadata": {},
   "outputs": [],
   "source": [
    "# Workflow Nodes\n",
    "def task_generation_node(state: AgentState):\n",
    "    \"\"\"LangGraph node that will extract tasks from given project description\"\"\"\n",
    "    description = state[\"project_description\"]\n",
    "    prompt = f\"\"\"\n",
    "        You are an expert project manager tasked with analyzing the following project description: {description}\n",
    "        Your objectives are to: \n",
    "        1. **Extract Actionable Tasks:**\n",
    "            - Identify and list all actionable and realistic tasks necessary to complete the project.\n",
    "            - Provide an estimated number of days required to complete each task.\n",
    "        2. **Refine Long-Term Tasks:**\n",
    "            - For any task estimated to take longer than 5 days, break it down into smaller, independent sub-tasks.\n",
    "        **Requirements:** - Ensure each task is clearly defined and achievable.\n",
    "            - Maintain logical sequencing of tasks to facilitate smooth project execution.\"\"\"\n",
    "\n",
    "    structure_llm = llm.with_structured_output(TaskList)\n",
    "    tasks: TaskList = structure_llm.invoke(prompt)\n",
    "    return {\"tasks\": tasks}\n",
    "\n",
    "def task_dependency_node(state: AgentState):\n",
    "    \"\"\"Evaluate the dependencies between the tasks\"\"\"\n",
    "    tasks = state[\"tasks\"]\n",
    "    prompt = f\"\"\"\n",
    "        You are a skilled project scheduler responsible for mapping out task dependencies.\n",
    "        Given the following list of tasks: {tasks}\n",
    "        Your objectives are to:\n",
    "            1. **Identify Dependencies:**\n",
    "                - For each task, determine which other tasks must be completed before it can begin (blocking tasks).\n",
    "            2. **Map Dependent Tasks:** \n",
    "                - For every task, list all tasks that depend on its completion.\n",
    "        \"\"\"\n",
    "    structure_llm = llm.with_structured_output(DependencyList)\n",
    "    dependencies: DependencyList = structure_llm.invoke(prompt)\n",
    "    return {\"dependencies\": dependencies}\n",
    "\n",
    "def task_scheduler_node(state: AgentState):\n",
    "    \"\"\"LangGraph node that will schedule tasks based on dependencies and team availability\"\"\"\n",
    "    dependencies = state[\"dependencies\"]\n",
    "    tasks = state[\"tasks\"]\n",
    "    insights = state[\"insights\"] #\"\" if state[\"insights\"] is None else state[\"insights\"].insights[-1]\n",
    "    prompt = f\"\"\"\n",
    "        You are an experienced project scheduler tasked with creating an optimized project timeline.\n",
    "        **Given:**\n",
    "            - **Tasks:** {tasks}\n",
    "            - **Dependencies:** {dependencies}\n",
    "            - **Previous Insights:** {insights}\n",
    "            - **Previous Schedule Iterations (if any):** {state[\"schedule_iteration\"]}\n",
    "        **Your objectives are to: **\n",
    "            1. **Develop a Task Schedule:**\n",
    "                - Assign start and end days to each task, ensuring that all dependencies are respected.\n",
    "                - Optimize the schedule to minimize the overall project duration.\n",
    "                - If possible parallelize the tasks to reduce the overall project duration.\n",
    "                - Try not to increase the project duration compared to previous iterations.\n",
    "            2. **Incorporate Insights:** \n",
    "                - Utilize insights from previous iterations to enhance scheduling efficiency and address any identified issues.\n",
    "        \"\"\"\n",
    "    schedule_llm = llm.with_structured_output(Schedule)\n",
    "    schedule: Schedule = schedule_llm.invoke(prompt)\n",
    "    state[\"schedule\"] = schedule\n",
    "    state[\"schedule_iteration\"].append(schedule)\n",
    "    return state\n",
    "\n",
    "def task_allocation_node(state: AgentState):\n",
    "    \"\"\"LangGraph node that will allocate tasks to team members\"\"\"\n",
    "    tasks = state[\"tasks\"]\n",
    "    schedule = state[\"schedule\"]\n",
    "    team = state[\"team\"]\n",
    "    insights = state[\"insights\"] #\"\" if state[\"insights\"] is None else state[\"insights\"].insights[-1]\n",
    "    prompt = f\"\"\"\n",
    "        You are a proficient project manager responsible for allocating tasks to team members efficiently.\n",
    "        **Given:** \n",
    "            - **Tasks:** {tasks} \n",
    "            - **Schedule:** {schedule} \n",
    "            - **Team Members:** {team} \n",
    "            - **Previous Insights:** {insights} \n",
    "            - **Previous Task Allocations (if any):** {state[\"task_allocations_iteration\"]} \n",
    "        **Your objectives are to:** \n",
    "            1. **Allocate Tasks:** \n",
    "                - Assign each task to a team member based on their expertise and current availability. \n",
    "                - Ensure that no team member is assigned overlapping tasks during the same time period. \n",
    "            2. **Optimize Assignments:** \n",
    "                - Utilize insights from previous iterations to improve task allocations. \n",
    "                - Balance the workload evenly among team members to enhance productivity and prevent burnout.\n",
    "                **Constraints:** \n",
    "                    - Each team member can handle only one task at a time. \n",
    "                    - Assignments should respect the skills and experience of each team member.\n",
    "        \"\"\"\n",
    "    structure_llm = llm.with_structured_output(TaskAllocationList)\n",
    "    task_allocations: TaskAllocationList = structure_llm.invoke(prompt)\n",
    "    state[\"task_allocations\"] = task_allocations\n",
    "    state[\"task_allocations_iteration\"].append(task_allocations)\n",
    "    return state\n",
    "\n",
    "def risk_assessment_node(state: AgentState):\n",
    "    \"\"\"LangGraph node that analyse risk associated with schedule and allocation of task\"\"\"\n",
    "    schedule = state[\"schedule\"]\n",
    "    task_allocations=state[\"task_allocations\"]\n",
    "    prompt = f\"\"\"\n",
    "        You are a seasoned project risk analyst tasked with evaluating the risks associated with the current project plan.\n",
    "        **Given:**\n",
    "            - **Task Allocations:** {task_allocations}\n",
    "            - **Schedule:** {schedule}\n",
    "            - **Previous Risk Assessments (if any):** {state['risks_iteration']}\n",
    "        **Your objectives are to:**\n",
    "            1. **Assess Risks:**\n",
    "                - Analyze each allocated task and its scheduled timeline to identify potential risks.\n",
    "                - Consider factors such as task complexity, resource availability, and dependency constraints.\n",
    "            2. **Assign Risk Scores:**\n",
    "            - Assign a risk score to each task on a scale from 0 (no risk) to 10 (high risk).\n",
    "            - If a task assignment remains unchanged from a previous iteration (same team member and task), retain the existing risk score to ensure consistency.\n",
    "            - If the team member has more time between tasks - assign lower risk score for the tasks\n",
    "            - If the task is assigned to a more senior person - assign lower risk score for the tasks\n",
    "            3. **Calculate Overall Project Risk:**\n",
    "            - Sum the individual task risk scores to determine the overall project risk score.\n",
    "        \"\"\"\n",
    "    structure_llm = llm.with_structured_output(RiskList)\n",
    "    risks: RiskList = structure_llm.invoke(prompt)\n",
    "    project_task_risk_scores = [int(risk.score) for risk in risks.risks]\n",
    "    project_risk_score = sum(project_task_risk_scores)\n",
    "    state[\"risks\"] = risks\n",
    "    state[\"project_risk_score\"] = project_risk_score\n",
    "    state[\"iteration_number\"] += 1\n",
    "    state[\"project_risk_score_iterations\"].append(project_risk_score)\n",
    "    state[\"risks_iteration\"].append(risks)\n",
    "    return state\n",
    "\n",
    "def insight_generation_node(state: AgentState):\n",
    "    \"\"\"LangGraph node that generate insights from the schedule, task allocation, and risk associated\"\"\"\n",
    "    schedule = state[\"schedule\"]\n",
    "    task_allocations=state[\"task_allocations\"]\n",
    "    risks = state[\"risks\"]\n",
    "    prompt = f\"\"\"\n",
    "        You are an expert project manager responsible for generating actionable insights to enhance the project plan.\n",
    "        **Given:**\n",
    "            - **Task Allocations:** {task_allocations}\n",
    "            - **Schedule:** {schedule}\n",
    "            - **Risk Analysis:** {risks}\n",
    "        **Your objectives are to:**\n",
    "            1. **Generate Critical Insights:**\n",
    "            - Analyze the current task allocations, schedule, and risk assessments to identify areas for improvement.\n",
    "            - Highlight any potential bottlenecks, resource conflicts, or high-risk tasks that may jeopardize project success.\n",
    "            2. **Recommend Enhancements:**\n",
    "            - Suggest adjustments to task assignments or scheduling to mitigate identified risks.\n",
    "            - Propose strategies to optimize resource utilization and streamline workflow.\n",
    "                **Requirements:**\n",
    "                - Ensure that all recommendations aim to reduce the overall project risk score.\n",
    "                - Provide clear and actionable suggestions that can be implemented in subsequent iterations.\n",
    "        \"\"\"\n",
    "    insights = llm.invoke(prompt).content\n",
    "    return {\"insights\": insights}"
   ]
  },
  {
   "cell_type": "markdown",
   "metadata": {},
   "source": [
    "The proposed agentic workflow contains a conditional routing in which the logic was built around the overall risk score of the project plan. The task scheduling and task assignment is carried out at least twice in a 'self-reflection' in order to minimize the overall project risk assigned in each iteration as part of the `risk_assessment_node`. If the risk was reduced the agent finishes its task, otherwise tries to self-reflect using an `insight_generation_node` from which the insights fed back to the scheduler_node."
   ]
  },
  {
   "cell_type": "code",
   "execution_count": 404,
   "metadata": {},
   "outputs": [],
   "source": [
    "def router(state: AgentState):\n",
    "    \"\"\"LangGraph node that will route the agent to the appropriate node based on the project description\"\"\"\n",
    "    max_iteration = state[\"max_iteration\"]\n",
    "    iteration_number = state[\"iteration_number\"]\n",
    "\n",
    "    if iteration_number < max_iteration:\n",
    "        if len(state[\"project_risk_score_iterations\"])>1:\n",
    "            if state[\"project_risk_score_iterations\"][-1] < state[\"project_risk_score_iterations\"][0]:\n",
    "                return END\n",
    "            else:\n",
    "                return \"insight_generator\"\n",
    "        else:\n",
    "            return \"insight_generator\"\n",
    "    else:\n",
    "        return END"
   ]
  },
  {
   "cell_type": "markdown",
   "metadata": {},
   "source": [
    "As a last remainign step, let's create an agentic workflow using LangGraph."
   ]
  },
  {
   "cell_type": "code",
   "execution_count": 405,
   "metadata": {},
   "outputs": [],
   "source": [
    "# Instantiate the workflow    \n",
    "workflow = StateGraph(AgentState)\n",
    "\n",
    "# Add nodes to the workflow\n",
    "workflow.add_node(\"task_generation\", task_generation_node)\n",
    "workflow.add_node(\"task_dependencies\", task_dependency_node)\n",
    "workflow.add_node(\"task_scheduler\", task_scheduler_node)\n",
    "workflow.add_node(\"task_allocator\", task_allocation_node)\n",
    "workflow.add_node(\"risk_assessor\", risk_assessment_node)\n",
    "workflow.add_node(\"insight_generator\", insight_generation_node)\n",
    "\n",
    "# Add edges to the workflow\n",
    "workflow.set_entry_point(\"task_generation\")\n",
    "workflow.add_edge(\"task_generation\", \"task_dependencies\")\n",
    "workflow.add_edge(\"task_dependencies\", \"task_scheduler\")\n",
    "workflow.add_edge(\"task_scheduler\", \"task_allocator\")\n",
    "workflow.add_edge(\"task_allocator\", \"risk_assessor\")\n",
    "workflow.add_conditional_edges(\"risk_assessor\", router, [\"insight_generator\", END])\n",
    "workflow.add_edge(\"insight_generator\", \"task_scheduler\")\n",
    "\n",
    "# Set up memory\n",
    "memory = MemorySaver()\n",
    "\n",
    "# Compile the workflow\n",
    "graph_plan = workflow.compile(checkpointer=memory)"
   ]
  },
  {
   "cell_type": "code",
   "execution_count": 406,
   "metadata": {},
   "outputs": [
    {
     "data": {
      "image/png": "[encoded data removed]",
      "text/plain": [
       "<IPython.core.display.Image object>"
      ]
     },
     "metadata": {},
     "output_type": "display_data"
    }
   ],
   "source": [
    "# To visualize the created workflow, we can use \n",
    "display(Image(graph_plan.get_graph(xray=1).draw_mermaid_png()))"
   ]
  },
  {
   "cell_type": "markdown",
   "metadata": {},
   "source": [
    "## Usage Example"
   ]
  },
  {
   "cell_type": "markdown",
   "metadata": {},
   "source": [
    "#### Initiate of the AgentState by defining an input\n",
    "Our Project Manager Agent requires a project description (str) and a team (Team) input next to other initialization parameters.\n",
    "In this tutorial we provide two dummy input under `data`. The team is defined as a csv file, composed of 2 colums: <i>Name</i>,<i>Profile Description</i>"
   ]
  },
  {
   "cell_type": "code",
   "execution_count": 407,
   "metadata": {},
   "outputs": [
    {
     "name": "stdout",
     "output_type": "stream",
     "text": [
      "Our business aims to deliver a chatbot application for our customers to ensure 24/7 support and advice on product choices.\n",
      "team_members=[TeamMember(name='Alice', profile=' Alice is a Frontend Developer skilled in HTML CSS JavaScript and React.'), TeamMember(name='Bob', profile=' Bob is a Backend Developer proficient in Python Django SQL and RESTful APIs.'), TeamMember(name='Charlie', profile=' Charlie is a Project Manager experienced in Agile methodologies team leadership project planning and risk management.'), TeamMember(name='David', profile=' David is a Full Stack Developer with expertise in both frontend (HTML CSS JavaScript) and backend (Node.js MongoDB) technologies.'), TeamMember(name='Eve', profile=' Eve is a DevOps Engineer skilled in CI/CD pipelines Docker Kubernetes and cloud services like AWS and Azure.'), TeamMember(name='Frank', profile=' Frank is a Junior Frontend Developer with knowledge in HTML CSS JavaScript and basic React.'), TeamMember(name='Grace', profile=' Grace is a Senior Data Scientist with expertise in machine learning data analysis Python R and big data technologies like Hadoop and Spark.')]\n"
     ]
    }
   ],
   "source": [
    "def get_project_description(file_path:str):\n",
    "    \"\"\"Read the project description from the file\"\"\"\n",
    "    with open(file_path, 'r') as file:\n",
    "            content = file.read()\n",
    "\n",
    "    return content\n",
    "\n",
    "def get_team(file_path:str):\n",
    "    \"\"\"Read the team members from the CSV file\"\"\"\n",
    "    team_df = pd.read_csv(file_path)\n",
    "    team_members = [\n",
    "            TeamMember(name=row['Name'], profile=row['Profile Description'])\n",
    "            for _, row in team_df.iterrows()\n",
    "        ]\n",
    "    team = Team(team_members=team_members)\n",
    "\n",
    "    return team\n",
    "\n",
    "project_description = get_project_description(\"../data/project_manager_assistant/project_description.txt\")\n",
    "team = get_team(\"../data/project_manager_assistant/team.csv\")\n",
    "\n",
    "print(project_description)\n",
    "print(team)"
   ]
  },
  {
   "cell_type": "code",
   "execution_count": 408,
   "metadata": {},
   "outputs": [],
   "source": [
    "# Definition of the AgentState \n",
    "state_input = {\n",
    "    \"project_description\": project_description,\n",
    "    \"team\": team,\n",
    "    \"insights\": \"\",\n",
    "    \"iteration_number\": 0,\n",
    "    \"max_iteration\": 3,\n",
    "    \"schedule_iteration\": [],\n",
    "    \"task_allocations_iteration\": [],\n",
    "    \"risks_iteration\": [],\n",
    "    \"project_risk_score_iterations\": []\n",
    "}"
   ]
  },
  {
   "cell_type": "code",
   "execution_count": 409,
   "metadata": {},
   "outputs": [
    {
     "name": "stdout",
     "output_type": "stream",
     "text": [
      "Current node: task_generation\n",
      "Current node: task_dependencies\n",
      "Current node: task_scheduler\n",
      "Current node: task_allocator\n",
      "Current node: risk_assessor\n",
      "Current node: insight_generator\n",
      "Current node: task_scheduler\n",
      "Current node: task_allocator\n",
      "Current node: risk_assessor\n",
      "Current node: insight_generator\n",
      "Current node: task_scheduler\n",
      "Current node: task_allocator\n",
      "Current node: risk_assessor\n"
     ]
    }
   ],
   "source": [
    "# Invoke the agent\n",
    "config = {\"configurable\": {\"thread_id\": \"1\"}}\n",
    "for event in graph_plan.stream(state_input, config, stream_mode=[\"updates\"]):\n",
    "    \"Print the different nodes as the agent progresses\"\n",
    "    print(f\"Current node: {next(iter(event[1]))}\")\n"
   ]
  },
  {
   "cell_type": "code",
   "execution_count": 410,
   "metadata": {},
   "outputs": [
    {
     "name": "stdout",
     "output_type": "stream",
     "text": [
      "3\n",
      "[38, 38, 38]\n"
     ]
    }
   ],
   "source": [
    "# Retrive the final state\n",
    "final_state = graph_plan.get_state(config).values\n",
    "print(final_state['iteration_number'])\n",
    "print(final_state['project_risk_score_iterations'])"
   ]
  },
  {
   "cell_type": "markdown",
   "metadata": {},
   "source": [
    "As we can see from the final_state the agentic workflow ended up having at least 2 iterations, and under `project_risk_score_iterations` we may see evolution of the project risk score. Even if the overall risk score does not descrease between iterations (additional prompt engineering can potentially improve it), we can assume that by increasing the project timeline (e.g., iteration #2) - the risk should descrease."
   ]
  },
  {
   "cell_type": "markdown",
   "metadata": {},
   "source": [
    "#### Visualize the results\n",
    "To better understand the output of the agentic workflow - here we provide visualizations for:\n",
    "- Project plan - Gantt-char for all created scenarios"
   ]
  },
  {
   "cell_type": "code",
   "execution_count": 411,
   "metadata": {},
   "outputs": [
    {
     "data": {
      "application/vnd.plotly.v1+json": {
       "config": {
        "plotlyServerURL": "https://plot.ly"
       },
       "data": [
        {
         "alignmentgroup": "True",
         "base": [
          "2024-12-15T00:04:41.375174",
          "2024-12-26T00:04:41.375174"
         ],
         "hovertemplate": "Team Member=Alice<br>start=%{base}<br>end=%{x}<br>task_name=%{y}<extra></extra>",
         "legendgroup": "Alice",
         "marker": {
          "color": "#636efa",
          "pattern": {
           "shape": ""
          }
         },
         "name": "Alice",
         "offsetgroup": "Alice",
         "orientation": "h",
         "showlegend": true,
         "textposition": "auto",
         "type": "bar",
         "x": [
          518400000,
          345600000
         ],
         "xaxis": "x",
         "y": [
          "User Acceptance Testing (UAT)",
          "Create User Documentation"
         ],
         "yaxis": "y"
        },
        {
         "alignmentgroup": "True",
         "base": [
          "2024-11-27T00:04:41.375174"
         ],
         "hovertemplate": "Team Member=Bob<br>start=%{base}<br>end=%{x}<br>task_name=%{y}<extra></extra>",
         "legendgroup": "Bob",
         "marker": {
          "color": "#EF553B",
          "pattern": {
           "shape": ""
          }
         },
         "name": "Bob",
         "offsetgroup": "Bob",
         "orientation": "h",
         "showlegend": true,
         "textposition": "auto",
         "type": "bar",
         "x": [
          604800000
         ],
         "xaxis": "x",
         "y": [
          "Design Chatbot Architecture"
         ],
         "yaxis": "y"
        },
        {
         "alignmentgroup": "True",
         "base": [
          "2024-11-19T00:04:41.375174"
         ],
         "hovertemplate": "Team Member=Charlie<br>start=%{base}<br>end=%{x}<br>task_name=%{y}<extra></extra>",
         "legendgroup": "Charlie",
         "marker": {
          "color": "#00cc96",
          "pattern": {
           "shape": ""
          }
         },
         "name": "Charlie",
         "offsetgroup": "Charlie",
         "orientation": "h",
         "showlegend": true,
         "textposition": "auto",
         "type": "bar",
         "x": [
          172800000
         ],
         "xaxis": "x",
         "y": [
          "Define Project Scope"
         ],
         "yaxis": "y"
        },
        {
         "alignmentgroup": "True",
         "base": [
          "2024-12-05T00:04:41.375174"
         ],
         "hovertemplate": "Team Member=David<br>start=%{base}<br>end=%{x}<br>task_name=%{y}<extra></extra>",
         "legendgroup": "David",
         "marker": {
          "color": "#ab63fa",
          "pattern": {
           "shape": ""
          }
         },
         "name": "David",
         "offsetgroup": "David",
         "orientation": "h",
         "showlegend": true,
         "textposition": "auto",
         "type": "bar",
         "x": [
          777600000
         ],
         "xaxis": "x",
         "y": [
          "Develop Chatbot Prototype"
         ],
         "yaxis": "y"
        },
        {
         "alignmentgroup": "True",
         "base": [
          "2024-12-22T00:04:41.375174"
         ],
         "hovertemplate": "Team Member=Eve<br>start=%{base}<br>end=%{x}<br>task_name=%{y}<extra></extra>",
         "legendgroup": "Eve",
         "marker": {
          "color": "#FFA15A",
          "pattern": {
           "shape": ""
          }
         },
         "name": "Eve",
         "offsetgroup": "Eve",
         "orientation": "h",
         "showlegend": true,
         "textposition": "auto",
         "type": "bar",
         "x": [
          259200000
         ],
         "xaxis": "x",
         "y": [
          "Deploy Chatbot Application"
         ],
         "yaxis": "y"
        },
        {
         "alignmentgroup": "True",
         "base": [
          "2024-12-26T00:04:41.375174"
         ],
         "hovertemplate": "Team Member=Frank<br>start=%{base}<br>end=%{x}<br>task_name=%{y}<extra></extra>",
         "legendgroup": "Frank",
         "marker": {
          "color": "#19d3f3",
          "pattern": {
           "shape": ""
          }
         },
         "name": "Frank",
         "offsetgroup": "Frank",
         "orientation": "h",
         "showlegend": true,
         "textposition": "auto",
         "type": "bar",
         "x": [
          432000000
         ],
         "xaxis": "x",
         "y": [
          "Monitor and Optimize Performance"
         ],
         "yaxis": "y"
        },
        {
         "alignmentgroup": "True",
         "base": [
          "2024-11-22T00:04:41.375174",
          "2024-12-26T00:04:41.375174"
         ],
         "hovertemplate": "Team Member=Grace<br>start=%{base}<br>end=%{x}<br>task_name=%{y}<extra></extra>",
         "legendgroup": "Grace",
         "marker": {
          "color": "#FF6692",
          "pattern": {
           "shape": ""
          }
         },
         "name": "Grace",
         "offsetgroup": "Grace",
         "orientation": "h",
         "showlegend": true,
         "textposition": "auto",
         "type": "bar",
         "x": [
          345600000,
          518400000
         ],
         "xaxis": "x",
         "y": [
          "Conduct Market Research",
          "Marketing and Promotion"
         ],
         "yaxis": "y"
        }
       ],
       "layout": {
        "barmode": "overlay",
        "legend": {
         "title": {
          "text": "Team Member"
         },
         "tracegroupgap": 0
        },
        "template": {
         "data": {
          "bar": [
           {
            "error_x": {
             "color": "#2a3f5f"
            },
            "error_y": {
             "color": "#2a3f5f"
            },
            "marker": {
             "line": {
              "color": "#E5ECF6",
              "width": 0.5
             },
             "pattern": {
              "fillmode": "overlay",
              "size": 10,
              "solidity": 0.2
             }
            },
            "type": "bar"
           }
          ],
          "barpolar": [
           {
            "marker": {
             "line": {
              "color": "#E5ECF6",
              "width": 0.5
             },
             "pattern": {
              "fillmode": "overlay",
              "size": 10,
              "solidity": 0.2
             }
            },
            "type": "barpolar"
           }
          ],
          "carpet": [
           {
            "aaxis": {
             "endlinecolor": "#2a3f5f",
             "gridcolor": "white",
             "linecolor": "white",
             "minorgridcolor": "white",
             "startlinecolor": "#2a3f5f"
            },
            "baxis": {
             "endlinecolor": "#2a3f5f",
             "gridcolor": "white",
             "linecolor": "white",
             "minorgridcolor": "white",
             "startlinecolor": "#2a3f5f"
            },
            "type": "carpet"
           }
          ],
          "choropleth": [
           {
            "colorbar": {
             "outlinewidth": 0,
             "ticks": ""
            },
            "type": "choropleth"
           }
          ],
          "contour": [
           {
            "colorbar": {
             "outlinewidth": 0,
             "ticks": ""
            },
            "colorscale": [
             [
              0,
              "#0d0887"
             ],
             [
              0.1111111111111111,
              "#46039f"
             ],
             [
              0.2222222222222222,
              "#7201a8"
             ],
             [
              0.3333333333333333,
              "#9c179e"
             ],
             [
              0.4444444444444444,
              "#bd3786"
             ],
             [
              0.5555555555555556,
              "#d8576b"
             ],
             [
              0.6666666666666666,
              "#ed7953"
             ],
             [
              0.7777777777777778,
              "#fb9f3a"
             ],
             [
              0.8888888888888888,
              "#fdca26"
             ],
             [
              1,
              "#f0f921"
             ]
            ],
            "type": "contour"
           }
          ],
          "contourcarpet": [
           {
            "colorbar": {
             "outlinewidth": 0,
             "ticks": ""
            },
            "type": "contourcarpet"
           }
          ],
          "heatmap": [
           {
            "colorbar": {
             "outlinewidth": 0,
             "ticks": ""
            },
            "colorscale": [
             [
              0,
              "#0d0887"
             ],
             [
              0.1111111111111111,
              "#46039f"
             ],
             [
              0.2222222222222222,
              "#7201a8"
             ],
             [
              0.3333333333333333,
              "#9c179e"
             ],
             [
              0.4444444444444444,
              "#bd3786"
             ],
             [
              0.5555555555555556,
              "#d8576b"
             ],
             [
              0.6666666666666666,
              "#ed7953"
             ],
             [
              0.7777777777777778,
              "#fb9f3a"
             ],
             [
              0.8888888888888888,
              "#fdca26"
             ],
             [
              1,
              "#f0f921"
             ]
            ],
            "type": "heatmap"
           }
          ],
          "heatmapgl": [
           {
            "colorbar": {
             "outlinewidth": 0,
             "ticks": ""
            },
            "colorscale": [
             [
              0,
              "#0d0887"
             ],
             [
              0.1111111111111111,
              "#46039f"
             ],
             [
              0.2222222222222222,
              "#7201a8"
             ],
             [
              0.3333333333333333,
              "#9c179e"
             ],
             [
              0.4444444444444444,
              "#bd3786"
             ],
             [
              0.5555555555555556,
              "#d8576b"
             ],
             [
              0.6666666666666666,
              "#ed7953"
             ],
             [
              0.7777777777777778,
              "#fb9f3a"
             ],
             [
              0.8888888888888888,
              "#fdca26"
             ],
             [
              1,
              "#f0f921"
             ]
            ],
            "type": "heatmapgl"
           }
          ],
          "histogram": [
           {
            "marker": {
             "pattern": {
              "fillmode": "overlay",
              "size": 10,
              "solidity": 0.2
             }
            },
            "type": "histogram"
           }
          ],
          "histogram2d": [
           {
            "colorbar": {
             "outlinewidth": 0,
             "ticks": ""
            },
            "colorscale": [
             [
              0,
              "#0d0887"
             ],
             [
              0.1111111111111111,
              "#46039f"
             ],
             [
              0.2222222222222222,
              "#7201a8"
             ],
             [
              0.3333333333333333,
              "#9c179e"
             ],
             [
              0.4444444444444444,
              "#bd3786"
             ],
             [
              0.5555555555555556,
              "#d8576b"
             ],
             [
              0.6666666666666666,
              "#ed7953"
             ],
             [
              0.7777777777777778,
              "#fb9f3a"
             ],
             [
              0.8888888888888888,
              "#fdca26"
             ],
             [
              1,
              "#f0f921"
             ]
            ],
            "type": "histogram2d"
           }
          ],
          "histogram2dcontour": [
           {
            "colorbar": {
             "outlinewidth": 0,
             "ticks": ""
            },
            "colorscale": [
             [
              0,
              "#0d0887"
             ],
             [
              0.1111111111111111,
              "#46039f"
             ],
             [
              0.2222222222222222,
              "#7201a8"
             ],
             [
              0.3333333333333333,
              "#9c179e"
             ],
             [
              0.4444444444444444,
              "#bd3786"
             ],
             [
              0.5555555555555556,
              "#d8576b"
             ],
             [
              0.6666666666666666,
              "#ed7953"
             ],
             [
              0.7777777777777778,
              "#fb9f3a"
             ],
             [
              0.8888888888888888,
              "#fdca26"
             ],
             [
              1,
              "#f0f921"
             ]
            ],
            "type": "histogram2dcontour"
           }
          ],
          "mesh3d": [
           {
            "colorbar": {
             "outlinewidth": 0,
             "ticks": ""
            },
            "type": "mesh3d"
           }
          ],
          "parcoords": [
           {
            "line": {
             "colorbar": {
              "outlinewidth": 0,
              "ticks": ""
             }
            },
            "type": "parcoords"
           }
          ],
          "pie": [
           {
            "automargin": true,
            "type": "pie"
           }
          ],
          "scatter": [
           {
            "fillpattern": {
             "fillmode": "overlay",
             "size": 10,
             "solidity": 0.2
            },
            "type": "scatter"
           }
          ],
          "scatter3d": [
           {
            "line": {
             "colorbar": {
              "outlinewidth": 0,
              "ticks": ""
             }
            },
            "marker": {
             "colorbar": {
              "outlinewidth": 0,
              "ticks": ""
             }
            },
            "type": "scatter3d"
           }
          ],
          "scattercarpet": [
           {
            "marker": {
             "colorbar": {
              "outlinewidth": 0,
              "ticks": ""
             }
            },
            "type": "scattercarpet"
           }
          ],
          "scattergeo": [
           {
            "marker": {
             "colorbar": {
              "outlinewidth": 0,
              "ticks": ""
             }
            },
            "type": "scattergeo"
           }
          ],
          "scattergl": [
           {
            "marker": {
             "colorbar": {
              "outlinewidth": 0,
              "ticks": ""
             }
            },
            "type": "scattergl"
           }
          ],
          "scattermapbox": [
           {
            "marker": {
             "colorbar": {
              "outlinewidth": 0,
              "ticks": ""
             }
            },
            "type": "scattermapbox"
           }
          ],
          "scatterpolar": [
           {
            "marker": {
             "colorbar": {
              "outlinewidth": 0,
              "ticks": ""
             }
            },
            "type": "scatterpolar"
           }
          ],
          "scatterpolargl": [
           {
            "marker": {
             "colorbar": {
              "outlinewidth": 0,
              "ticks": ""
             }
            },
            "type": "scatterpolargl"
           }
          ],
          "scatterternary": [
           {
            "marker": {
             "colorbar": {
              "outlinewidth": 0,
              "ticks": ""
             }
            },
            "type": "scatterternary"
           }
          ],
          "surface": [
           {
            "colorbar": {
             "outlinewidth": 0,
             "ticks": ""
            },
            "colorscale": [
             [
              0,
              "#0d0887"
             ],
             [
              0.1111111111111111,
              "#46039f"
             ],
             [
              0.2222222222222222,
              "#7201a8"
             ],
             [
              0.3333333333333333,
              "#9c179e"
             ],
             [
              0.4444444444444444,
              "#bd3786"
             ],
             [
              0.5555555555555556,
              "#d8576b"
             ],
             [
              0.6666666666666666,
              "#ed7953"
             ],
             [
              0.7777777777777778,
              "#fb9f3a"
             ],
             [
              0.8888888888888888,
              "#fdca26"
             ],
             [
              1,
              "#f0f921"
             ]
            ],
            "type": "surface"
           }
          ],
          "table": [
           {
            "cells": {
             "fill": {
              "color": "#EBF0F8"
             },
             "line": {
              "color": "white"
             }
            },
            "header": {
             "fill": {
              "color": "#C8D4E3"
             },
             "line": {
              "color": "white"
             }
            },
            "type": "table"
           }
          ]
         },
         "layout": {
          "annotationdefaults": {
           "arrowcolor": "#2a3f5f",
           "arrowhead": 0,
           "arrowwidth": 1
          },
          "autotypenumbers": "strict",
          "coloraxis": {
           "colorbar": {
            "outlinewidth": 0,
            "ticks": ""
           }
          },
          "colorscale": {
           "diverging": [
            [
             0,
             "#8e0152"
            ],
            [
             0.1,
             "#c51b7d"
            ],
            [
             0.2,
             "#de77ae"
            ],
            [
             0.3,
             "#f1b6da"
            ],
            [
             0.4,
             "#fde0ef"
            ],
            [
             0.5,
             "#f7f7f7"
            ],
            [
             0.6,
             "#e6f5d0"
            ],
            [
             0.7,
             "#b8e186"
            ],
            [
             0.8,
             "#7fbc41"
            ],
            [
             0.9,
             "#4d9221"
            ],
            [
             1,
             "#276419"
            ]
           ],
           "sequential": [
            [
             0,
             "#0d0887"
            ],
            [
             0.1111111111111111,
             "#46039f"
            ],
            [
             0.2222222222222222,
             "#7201a8"
            ],
            [
             0.3333333333333333,
             "#9c179e"
            ],
            [
             0.4444444444444444,
             "#bd3786"
            ],
            [
             0.5555555555555556,
             "#d8576b"
            ],
            [
             0.6666666666666666,
             "#ed7953"
            ],
            [
             0.7777777777777778,
             "#fb9f3a"
            ],
            [
             0.8888888888888888,
             "#fdca26"
            ],
            [
             1,
             "#f0f921"
            ]
           ],
           "sequentialminus": [
            [
             0,
             "#0d0887"
            ],
            [
             0.1111111111111111,
             "#46039f"
            ],
            [
             0.2222222222222222,
             "#7201a8"
            ],
            [
             0.3333333333333333,
             "#9c179e"
            ],
            [
             0.4444444444444444,
             "#bd3786"
            ],
            [
             0.5555555555555556,
             "#d8576b"
            ],
            [
             0.6666666666666666,
             "#ed7953"
            ],
            [
             0.7777777777777778,
             "#fb9f3a"
            ],
            [
             0.8888888888888888,
             "#fdca26"
            ],
            [
             1,
             "#f0f921"
            ]
           ]
          },
          "colorway": [
           "#636efa",
           "#EF553B",
           "#00cc96",
           "#ab63fa",
           "#FFA15A",
           "#19d3f3",
           "#FF6692",
           "#B6E880",
           "#FF97FF",
           "#FECB52"
          ],
          "font": {
           "color": "#2a3f5f"
          },
          "geo": {
           "bgcolor": "white",
           "lakecolor": "white",
           "landcolor": "#E5ECF6",
           "showlakes": true,
           "showland": true,
           "subunitcolor": "white"
          },
          "hoverlabel": {
           "align": "left"
          },
          "hovermode": "closest",
          "mapbox": {
           "style": "light"
          },
          "paper_bgcolor": "white",
          "plot_bgcolor": "#E5ECF6",
          "polar": {
           "angularaxis": {
            "gridcolor": "white",
            "linecolor": "white",
            "ticks": ""
           },
           "bgcolor": "#E5ECF6",
           "radialaxis": {
            "gridcolor": "white",
            "linecolor": "white",
            "ticks": ""
           }
          },
          "scene": {
           "xaxis": {
            "backgroundcolor": "#E5ECF6",
            "gridcolor": "white",
            "gridwidth": 2,
            "linecolor": "white",
            "showbackground": true,
            "ticks": "",
            "zerolinecolor": "white"
           },
           "yaxis": {
            "backgroundcolor": "#E5ECF6",
            "gridcolor": "white",
            "gridwidth": 2,
            "linecolor": "white",
            "showbackground": true,
            "ticks": "",
            "zerolinecolor": "white"
           },
           "zaxis": {
            "backgroundcolor": "#E5ECF6",
            "gridcolor": "white",
            "gridwidth": 2,
            "linecolor": "white",
            "showbackground": true,
            "ticks": "",
            "zerolinecolor": "white"
           }
          },
          "shapedefaults": {
           "line": {
            "color": "#2a3f5f"
           }
          },
          "ternary": {
           "aaxis": {
            "gridcolor": "white",
            "linecolor": "white",
            "ticks": ""
           },
           "baxis": {
            "gridcolor": "white",
            "linecolor": "white",
            "ticks": ""
           },
           "bgcolor": "#E5ECF6",
           "caxis": {
            "gridcolor": "white",
            "linecolor": "white",
            "ticks": ""
           }
          },
          "title": {
           "x": 0.05
          },
          "xaxis": {
           "automargin": true,
           "gridcolor": "white",
           "linecolor": "white",
           "ticks": "",
           "title": {
            "standoff": 15
           },
           "zerolinecolor": "white",
           "zerolinewidth": 2
          },
          "yaxis": {
           "automargin": true,
           "gridcolor": "white",
           "linecolor": "white",
           "ticks": "",
           "title": {
            "standoff": 15
           },
           "zerolinecolor": "white",
           "zerolinewidth": 2
          }
         }
        },
        "title": {
         "text": "Gantt Chart - Iteration:1 ",
         "x": 0.5
        },
        "xaxis": {
         "anchor": "y",
         "domain": [
          0,
          1
         ],
         "title": {
          "text": "Timeline"
         },
         "type": "date"
        },
        "yaxis": {
         "anchor": "x",
         "autorange": "reversed",
         "domain": [
          0,
          1
         ],
         "title": {
          "text": "Tasks"
         }
        }
       }
      }
     },
     "metadata": {},
     "output_type": "display_data"
    },
    {
     "data": {
      "application/vnd.plotly.v1+json": {
       "config": {
        "plotlyServerURL": "https://plot.ly"
       },
       "data": [
        {
         "alignmentgroup": "True",
         "base": [
          "2024-12-15T00:04:41.449895"
         ],
         "hovertemplate": "Team Member=Alice<br>start=%{base}<br>end=%{x}<br>task_name=%{y}<extra></extra>",
         "legendgroup": "Alice",
         "marker": {
          "color": "#636efa",
          "pattern": {
           "shape": ""
          }
         },
         "name": "Alice",
         "offsetgroup": "Alice",
         "orientation": "h",
         "showlegend": true,
         "textposition": "auto",
         "type": "bar",
         "x": [
          518400000
         ],
         "xaxis": "x",
         "y": [
          "User Acceptance Testing (UAT)"
         ],
         "yaxis": "y"
        },
        {
         "alignmentgroup": "True",
         "base": [
          "2024-11-27T00:04:41.449895",
          "2025-01-06T00:04:41.449895"
         ],
         "hovertemplate": "Team Member=Bob<br>start=%{base}<br>end=%{x}<br>task_name=%{y}<extra></extra>",
         "legendgroup": "Bob",
         "marker": {
          "color": "#EF553B",
          "pattern": {
           "shape": ""
          }
         },
         "name": "Bob",
         "offsetgroup": "Bob",
         "orientation": "h",
         "showlegend": true,
         "textposition": "auto",
         "type": "bar",
         "x": [
          604800000,
          518400000
         ],
         "xaxis": "x",
         "y": [
          "Design Chatbot Architecture",
          "Marketing and Promotion"
         ],
         "yaxis": "y"
        },
        {
         "alignmentgroup": "True",
         "base": [
          "2024-11-19T00:04:41.449895"
         ],
         "hovertemplate": "Team Member=Charlie<br>start=%{base}<br>end=%{x}<br>task_name=%{y}<extra></extra>",
         "legendgroup": "Charlie",
         "marker": {
          "color": "#00cc96",
          "pattern": {
           "shape": ""
          }
         },
         "name": "Charlie",
         "offsetgroup": "Charlie",
         "orientation": "h",
         "showlegend": true,
         "textposition": "auto",
         "type": "bar",
         "x": [
          172800000
         ],
         "xaxis": "x",
         "y": [
          "Define Project Scope"
         ],
         "yaxis": "y"
        },
        {
         "alignmentgroup": "True",
         "base": [
          "2024-12-05T00:04:41.449895"
         ],
         "hovertemplate": "Team Member=David<br>start=%{base}<br>end=%{x}<br>task_name=%{y}<extra></extra>",
         "legendgroup": "David",
         "marker": {
          "color": "#ab63fa",
          "pattern": {
           "shape": ""
          }
         },
         "name": "David",
         "offsetgroup": "David",
         "orientation": "h",
         "showlegend": true,
         "textposition": "auto",
         "type": "bar",
         "x": [
          777600000
         ],
         "xaxis": "x",
         "y": [
          "Develop Chatbot Prototype"
         ],
         "yaxis": "y"
        },
        {
         "alignmentgroup": "True",
         "base": [
          "2024-12-22T00:04:41.449895"
         ],
         "hovertemplate": "Team Member=Eve<br>start=%{base}<br>end=%{x}<br>task_name=%{y}<extra></extra>",
         "legendgroup": "Eve",
         "marker": {
          "color": "#FFA15A",
          "pattern": {
           "shape": ""
          }
         },
         "name": "Eve",
         "offsetgroup": "Eve",
         "orientation": "h",
         "showlegend": true,
         "textposition": "auto",
         "type": "bar",
         "x": [
          259200000
         ],
         "xaxis": "x",
         "y": [
          "Deploy Chatbot Application"
         ],
         "yaxis": "y"
        },
        {
         "alignmentgroup": "True",
         "base": [
          "2024-12-26T00:04:41.449895",
          "2025-01-01T00:04:41.449895"
         ],
         "hovertemplate": "Team Member=Frank<br>start=%{base}<br>end=%{x}<br>task_name=%{y}<extra></extra>",
         "legendgroup": "Frank",
         "marker": {
          "color": "#19d3f3",
          "pattern": {
           "shape": ""
          }
         },
         "name": "Frank",
         "offsetgroup": "Frank",
         "orientation": "h",
         "showlegend": true,
         "textposition": "auto",
         "type": "bar",
         "x": [
          432000000,
          345600000
         ],
         "xaxis": "x",
         "y": [
          "Monitor and Optimize Performance",
          "Create User Documentation"
         ],
         "yaxis": "y"
        },
        {
         "alignmentgroup": "True",
         "base": [
          "2024-11-22T00:04:41.449895"
         ],
         "hovertemplate": "Team Member=Grace<br>start=%{base}<br>end=%{x}<br>task_name=%{y}<extra></extra>",
         "legendgroup": "Grace",
         "marker": {
          "color": "#FF6692",
          "pattern": {
           "shape": ""
          }
         },
         "name": "Grace",
         "offsetgroup": "Grace",
         "orientation": "h",
         "showlegend": true,
         "textposition": "auto",
         "type": "bar",
         "x": [
          345600000
         ],
         "xaxis": "x",
         "y": [
          "Conduct Market Research"
         ],
         "yaxis": "y"
        }
       ],
       "layout": {
        "barmode": "overlay",
        "legend": {
         "title": {
          "text": "Team Member"
         },
         "tracegroupgap": 0
        },
        "template": {
         "data": {
          "bar": [
           {
            "error_x": {
             "color": "#2a3f5f"
            },
            "error_y": {
             "color": "#2a3f5f"
            },
            "marker": {
             "line": {
              "color": "#E5ECF6",
              "width": 0.5
             },
             "pattern": {
              "fillmode": "overlay",
              "size": 10,
              "solidity": 0.2
             }
            },
            "type": "bar"
           }
          ],
          "barpolar": [
           {
            "marker": {
             "line": {
              "color": "#E5ECF6",
              "width": 0.5
             },
             "pattern": {
              "fillmode": "overlay",
              "size": 10,
              "solidity": 0.2
             }
            },
            "type": "barpolar"
           }
          ],
          "carpet": [
           {
            "aaxis": {
             "endlinecolor": "#2a3f5f",
             "gridcolor": "white",
             "linecolor": "white",
             "minorgridcolor": "white",
             "startlinecolor": "#2a3f5f"
            },
            "baxis": {
             "endlinecolor": "#2a3f5f",
             "gridcolor": "white",
             "linecolor": "white",
             "minorgridcolor": "white",
             "startlinecolor": "#2a3f5f"
            },
            "type": "carpet"
           }
          ],
          "choropleth": [
           {
            "colorbar": {
             "outlinewidth": 0,
             "ticks": ""
            },
            "type": "choropleth"
           }
          ],
          "contour": [
           {
            "colorbar": {
             "outlinewidth": 0,
             "ticks": ""
            },
            "colorscale": [
             [
              0,
              "#0d0887"
             ],
             [
              0.1111111111111111,
              "#46039f"
             ],
             [
              0.2222222222222222,
              "#7201a8"
             ],
             [
              0.3333333333333333,
              "#9c179e"
             ],
             [
              0.4444444444444444,
              "#bd3786"
             ],
             [
              0.5555555555555556,
              "#d8576b"
             ],
             [
              0.6666666666666666,
              "#ed7953"
             ],
             [
              0.7777777777777778,
              "#fb9f3a"
             ],
             [
              0.8888888888888888,
              "#fdca26"
             ],
             [
              1,
              "#f0f921"
             ]
            ],
            "type": "contour"
           }
          ],
          "contourcarpet": [
           {
            "colorbar": {
             "outlinewidth": 0,
             "ticks": ""
            },
            "type": "contourcarpet"
           }
          ],
          "heatmap": [
           {
            "colorbar": {
             "outlinewidth": 0,
             "ticks": ""
            },
            "colorscale": [
             [
              0,
              "#0d0887"
             ],
             [
              0.1111111111111111,
              "#46039f"
             ],
             [
              0.2222222222222222,
              "#7201a8"
             ],
             [
              0.3333333333333333,
              "#9c179e"
             ],
             [
              0.4444444444444444,
              "#bd3786"
             ],
             [
              0.5555555555555556,
              "#d8576b"
             ],
             [
              0.6666666666666666,
              "#ed7953"
             ],
             [
              0.7777777777777778,
              "#fb9f3a"
             ],
             [
              0.8888888888888888,
              "#fdca26"
             ],
             [
              1,
              "#f0f921"
             ]
            ],
            "type": "heatmap"
           }
          ],
          "heatmapgl": [
           {
            "colorbar": {
             "outlinewidth": 0,
             "ticks": ""
            },
            "colorscale": [
             [
              0,
              "#0d0887"
             ],
             [
              0.1111111111111111,
              "#46039f"
             ],
             [
              0.2222222222222222,
              "#7201a8"
             ],
             [
              0.3333333333333333,
              "#9c179e"
             ],
             [
              0.4444444444444444,
              "#bd3786"
             ],
             [
              0.5555555555555556,
              "#d8576b"
             ],
             [
              0.6666666666666666,
              "#ed7953"
             ],
             [
              0.7777777777777778,
              "#fb9f3a"
             ],
             [
              0.8888888888888888,
              "#fdca26"
             ],
             [
              1,
              "#f0f921"
             ]
            ],
            "type": "heatmapgl"
           }
          ],
          "histogram": [
           {
            "marker": {
             "pattern": {
              "fillmode": "overlay",
              "size": 10,
              "solidity": 0.2
             }
            },
            "type": "histogram"
           }
          ],
          "histogram2d": [
           {
            "colorbar": {
             "outlinewidth": 0,
             "ticks": ""
            },
            "colorscale": [
             [
              0,
              "#0d0887"
             ],
             [
              0.1111111111111111,
              "#46039f"
             ],
             [
              0.2222222222222222,
              "#7201a8"
             ],
             [
              0.3333333333333333,
              "#9c179e"
             ],
             [
              0.4444444444444444,
              "#bd3786"
             ],
             [
              0.5555555555555556,
              "#d8576b"
             ],
             [
              0.6666666666666666,
              "#ed7953"
             ],
             [
              0.7777777777777778,
              "#fb9f3a"
             ],
             [
              0.8888888888888888,
              "#fdca26"
             ],
             [
              1,
              "#f0f921"
             ]
            ],
            "type": "histogram2d"
           }
          ],
          "histogram2dcontour": [
           {
            "colorbar": {
             "outlinewidth": 0,
             "ticks": ""
            },
            "colorscale": [
             [
              0,
              "#0d0887"
             ],
             [
              0.1111111111111111,
              "#46039f"
             ],
             [
              0.2222222222222222,
              "#7201a8"
             ],
             [
              0.3333333333333333,
              "#9c179e"
             ],
             [
              0.4444444444444444,
              "#bd3786"
             ],
             [
              0.5555555555555556,
              "#d8576b"
             ],
             [
              0.6666666666666666,
              "#ed7953"
             ],
             [
              0.7777777777777778,
              "#fb9f3a"
             ],
             [
              0.8888888888888888,
              "#fdca26"
             ],
             [
              1,
              "#f0f921"
             ]
            ],
            "type": "histogram2dcontour"
           }
          ],
          "mesh3d": [
           {
            "colorbar": {
             "outlinewidth": 0,
             "ticks": ""
            },
            "type": "mesh3d"
           }
          ],
          "parcoords": [
           {
            "line": {
             "colorbar": {
              "outlinewidth": 0,
              "ticks": ""
             }
            },
            "type": "parcoords"
           }
          ],
          "pie": [
           {
            "automargin": true,
            "type": "pie"
           }
          ],
          "scatter": [
           {
            "fillpattern": {
             "fillmode": "overlay",
             "size": 10,
             "solidity": 0.2
            },
            "type": "scatter"
           }
          ],
          "scatter3d": [
           {
            "line": {
             "colorbar": {
              "outlinewidth": 0,
              "ticks": ""
             }
            },
            "marker": {
             "colorbar": {
              "outlinewidth": 0,
              "ticks": ""
             }
            },
            "type": "scatter3d"
           }
          ],
          "scattercarpet": [
           {
            "marker": {
             "colorbar": {
              "outlinewidth": 0,
              "ticks": ""
             }
            },
            "type": "scattercarpet"
           }
          ],
          "scattergeo": [
           {
            "marker": {
             "colorbar": {
              "outlinewidth": 0,
              "ticks": ""
             }
            },
            "type": "scattergeo"
           }
          ],
          "scattergl": [
           {
            "marker": {
             "colorbar": {
              "outlinewidth": 0,
              "ticks": ""
             }
            },
            "type": "scattergl"
           }
          ],
          "scattermapbox": [
           {
            "marker": {
             "colorbar": {
              "outlinewidth": 0,
              "ticks": ""
             }
            },
            "type": "scattermapbox"
           }
          ],
          "scatterpolar": [
           {
            "marker": {
             "colorbar": {
              "outlinewidth": 0,
              "ticks": ""
             }
            },
            "type": "scatterpolar"
           }
          ],
          "scatterpolargl": [
           {
            "marker": {
             "colorbar": {
              "outlinewidth": 0,
              "ticks": ""
             }
            },
            "type": "scatterpolargl"
           }
          ],
          "scatterternary": [
           {
            "marker": {
             "colorbar": {
              "outlinewidth": 0,
              "ticks": ""
             }
            },
            "type": "scatterternary"
           }
          ],
          "surface": [
           {
            "colorbar": {
             "outlinewidth": 0,
             "ticks": ""
            },
            "colorscale": [
             [
              0,
              "#0d0887"
             ],
             [
              0.1111111111111111,
              "#46039f"
             ],
             [
              0.2222222222222222,
              "#7201a8"
             ],
             [
              0.3333333333333333,
              "#9c179e"
             ],
             [
              0.4444444444444444,
              "#bd3786"
             ],
             [
              0.5555555555555556,
              "#d8576b"
             ],
             [
              0.6666666666666666,
              "#ed7953"
             ],
             [
              0.7777777777777778,
              "#fb9f3a"
             ],
             [
              0.8888888888888888,
              "#fdca26"
             ],
             [
              1,
              "#f0f921"
             ]
            ],
            "type": "surface"
           }
          ],
          "table": [
           {
            "cells": {
             "fill": {
              "color": "#EBF0F8"
             },
             "line": {
              "color": "white"
             }
            },
            "header": {
             "fill": {
              "color": "#C8D4E3"
             },
             "line": {
              "color": "white"
             }
            },
            "type": "table"
           }
          ]
         },
         "layout": {
          "annotationdefaults": {
           "arrowcolor": "#2a3f5f",
           "arrowhead": 0,
           "arrowwidth": 1
          },
          "autotypenumbers": "strict",
          "coloraxis": {
           "colorbar": {
            "outlinewidth": 0,
            "ticks": ""
           }
          },
          "colorscale": {
           "diverging": [
            [
             0,
             "#8e0152"
            ],
            [
             0.1,
             "#c51b7d"
            ],
            [
             0.2,
             "#de77ae"
            ],
            [
             0.3,
             "#f1b6da"
            ],
            [
             0.4,
             "#fde0ef"
            ],
            [
             0.5,
             "#f7f7f7"
            ],
            [
             0.6,
             "#e6f5d0"
            ],
            [
             0.7,
             "#b8e186"
            ],
            [
             0.8,
             "#7fbc41"
            ],
            [
             0.9,
             "#4d9221"
            ],
            [
             1,
             "#276419"
            ]
           ],
           "sequential": [
            [
             0,
             "#0d0887"
            ],
            [
             0.1111111111111111,
             "#46039f"
            ],
            [
             0.2222222222222222,
             "#7201a8"
            ],
            [
             0.3333333333333333,
             "#9c179e"
            ],
            [
             0.4444444444444444,
             "#bd3786"
            ],
            [
             0.5555555555555556,
             "#d8576b"
            ],
            [
             0.6666666666666666,
             "#ed7953"
            ],
            [
             0.7777777777777778,
             "#fb9f3a"
            ],
            [
             0.8888888888888888,
             "#fdca26"
            ],
            [
             1,
             "#f0f921"
            ]
           ],
           "sequentialminus": [
            [
             0,
             "#0d0887"
            ],
            [
             0.1111111111111111,
             "#46039f"
            ],
            [
             0.2222222222222222,
             "#7201a8"
            ],
            [
             0.3333333333333333,
             "#9c179e"
            ],
            [
             0.4444444444444444,
             "#bd3786"
            ],
            [
             0.5555555555555556,
             "#d8576b"
            ],
            [
             0.6666666666666666,
             "#ed7953"
            ],
            [
             0.7777777777777778,
             "#fb9f3a"
            ],
            [
             0.8888888888888888,
             "#fdca26"
            ],
            [
             1,
             "#f0f921"
            ]
           ]
          },
          "colorway": [
           "#636efa",
           "#EF553B",
           "#00cc96",
           "#ab63fa",
           "#FFA15A",
           "#19d3f3",
           "#FF6692",
           "#B6E880",
           "#FF97FF",
           "#FECB52"
          ],
          "font": {
           "color": "#2a3f5f"
          },
          "geo": {
           "bgcolor": "white",
           "lakecolor": "white",
           "landcolor": "#E5ECF6",
           "showlakes": true,
           "showland": true,
           "subunitcolor": "white"
          },
          "hoverlabel": {
           "align": "left"
          },
          "hovermode": "closest",
          "mapbox": {
           "style": "light"
          },
          "paper_bgcolor": "white",
          "plot_bgcolor": "#E5ECF6",
          "polar": {
           "angularaxis": {
            "gridcolor": "white",
            "linecolor": "white",
            "ticks": ""
           },
           "bgcolor": "#E5ECF6",
           "radialaxis": {
            "gridcolor": "white",
            "linecolor": "white",
            "ticks": ""
           }
          },
          "scene": {
           "xaxis": {
            "backgroundcolor": "#E5ECF6",
            "gridcolor": "white",
            "gridwidth": 2,
            "linecolor": "white",
            "showbackground": true,
            "ticks": "",
            "zerolinecolor": "white"
           },
           "yaxis": {
            "backgroundcolor": "#E5ECF6",
            "gridcolor": "white",
            "gridwidth": 2,
            "linecolor": "white",
            "showbackground": true,
            "ticks": "",
            "zerolinecolor": "white"
           },
           "zaxis": {
            "backgroundcolor": "#E5ECF6",
            "gridcolor": "white",
            "gridwidth": 2,
            "linecolor": "white",
            "showbackground": true,
            "ticks": "",
            "zerolinecolor": "white"
           }
          },
          "shapedefaults": {
           "line": {
            "color": "#2a3f5f"
           }
          },
          "ternary": {
           "aaxis": {
            "gridcolor": "white",
            "linecolor": "white",
            "ticks": ""
           },
           "baxis": {
            "gridcolor": "white",
            "linecolor": "white",
            "ticks": ""
           },
           "bgcolor": "#E5ECF6",
           "caxis": {
            "gridcolor": "white",
            "linecolor": "white",
            "ticks": ""
           }
          },
          "title": {
           "x": 0.05
          },
          "xaxis": {
           "automargin": true,
           "gridcolor": "white",
           "linecolor": "white",
           "ticks": "",
           "title": {
            "standoff": 15
           },
           "zerolinecolor": "white",
           "zerolinewidth": 2
          },
          "yaxis": {
           "automargin": true,
           "gridcolor": "white",
           "linecolor": "white",
           "ticks": "",
           "title": {
            "standoff": 15
           },
           "zerolinecolor": "white",
           "zerolinewidth": 2
          }
         }
        },
        "title": {
         "text": "Gantt Chart - Iteration:2 ",
         "x": 0.5
        },
        "xaxis": {
         "anchor": "y",
         "domain": [
          0,
          1
         ],
         "title": {
          "text": "Timeline"
         },
         "type": "date"
        },
        "yaxis": {
         "anchor": "x",
         "autorange": "reversed",
         "domain": [
          0,
          1
         ],
         "title": {
          "text": "Tasks"
         }
        }
       }
      }
     },
     "metadata": {},
     "output_type": "display_data"
    },
    {
     "data": {
      "application/vnd.plotly.v1+json": {
       "config": {
        "plotlyServerURL": "https://plot.ly"
       },
       "data": [
        {
         "alignmentgroup": "True",
         "base": [
          "2024-12-15T00:04:41.518581",
          "2024-12-26T00:04:41.518581"
         ],
         "hovertemplate": "Team Member=Alice<br>start=%{base}<br>end=%{x}<br>task_name=%{y}<extra></extra>",
         "legendgroup": "Alice",
         "marker": {
          "color": "#636efa",
          "pattern": {
           "shape": ""
          }
         },
         "name": "Alice",
         "offsetgroup": "Alice",
         "orientation": "h",
         "showlegend": true,
         "textposition": "auto",
         "type": "bar",
         "x": [
          518400000,
          345600000
         ],
         "xaxis": "x",
         "y": [
          "User Acceptance Testing (UAT)",
          "Create User Documentation"
         ],
         "yaxis": "y"
        },
        {
         "alignmentgroup": "True",
         "base": [
          "2024-11-27T00:04:41.518581",
          "2025-01-01T00:04:41.518581"
         ],
         "hovertemplate": "Team Member=Bob<br>start=%{base}<br>end=%{x}<br>task_name=%{y}<extra></extra>",
         "legendgroup": "Bob",
         "marker": {
          "color": "#EF553B",
          "pattern": {
           "shape": ""
          }
         },
         "name": "Bob",
         "offsetgroup": "Bob",
         "orientation": "h",
         "showlegend": true,
         "textposition": "auto",
         "type": "bar",
         "x": [
          604800000,
          518400000
         ],
         "xaxis": "x",
         "y": [
          "Design Chatbot Architecture",
          "Marketing and Promotion"
         ],
         "yaxis": "y"
        },
        {
         "alignmentgroup": "True",
         "base": [
          "2024-11-19T00:04:41.518581"
         ],
         "hovertemplate": "Team Member=Charlie<br>start=%{base}<br>end=%{x}<br>task_name=%{y}<extra></extra>",
         "legendgroup": "Charlie",
         "marker": {
          "color": "#00cc96",
          "pattern": {
           "shape": ""
          }
         },
         "name": "Charlie",
         "offsetgroup": "Charlie",
         "orientation": "h",
         "showlegend": true,
         "textposition": "auto",
         "type": "bar",
         "x": [
          172800000
         ],
         "xaxis": "x",
         "y": [
          "Define Project Scope"
         ],
         "yaxis": "y"
        },
        {
         "alignmentgroup": "True",
         "base": [
          "2024-12-05T00:04:41.518581"
         ],
         "hovertemplate": "Team Member=David<br>start=%{base}<br>end=%{x}<br>task_name=%{y}<extra></extra>",
         "legendgroup": "David",
         "marker": {
          "color": "#ab63fa",
          "pattern": {
           "shape": ""
          }
         },
         "name": "David",
         "offsetgroup": "David",
         "orientation": "h",
         "showlegend": true,
         "textposition": "auto",
         "type": "bar",
         "x": [
          777600000
         ],
         "xaxis": "x",
         "y": [
          "Develop Chatbot Prototype"
         ],
         "yaxis": "y"
        },
        {
         "alignmentgroup": "True",
         "base": [
          "2024-12-22T00:04:41.518581"
         ],
         "hovertemplate": "Team Member=Eve<br>start=%{base}<br>end=%{x}<br>task_name=%{y}<extra></extra>",
         "legendgroup": "Eve",
         "marker": {
          "color": "#FFA15A",
          "pattern": {
           "shape": ""
          }
         },
         "name": "Eve",
         "offsetgroup": "Eve",
         "orientation": "h",
         "showlegend": true,
         "textposition": "auto",
         "type": "bar",
         "x": [
          259200000
         ],
         "xaxis": "x",
         "y": [
          "Deploy Chatbot Application"
         ],
         "yaxis": "y"
        },
        {
         "alignmentgroup": "True",
         "base": [
          "2024-12-26T00:04:41.518581"
         ],
         "hovertemplate": "Team Member=Frank<br>start=%{base}<br>end=%{x}<br>task_name=%{y}<extra></extra>",
         "legendgroup": "Frank",
         "marker": {
          "color": "#19d3f3",
          "pattern": {
           "shape": ""
          }
         },
         "name": "Frank",
         "offsetgroup": "Frank",
         "orientation": "h",
         "showlegend": true,
         "textposition": "auto",
         "type": "bar",
         "x": [
          432000000
         ],
         "xaxis": "x",
         "y": [
          "Monitor and Optimize Performance"
         ],
         "yaxis": "y"
        },
        {
         "alignmentgroup": "True",
         "base": [
          "2024-11-22T00:04:41.518581"
         ],
         "hovertemplate": "Team Member=Grace<br>start=%{base}<br>end=%{x}<br>task_name=%{y}<extra></extra>",
         "legendgroup": "Grace",
         "marker": {
          "color": "#FF6692",
          "pattern": {
           "shape": ""
          }
         },
         "name": "Grace",
         "offsetgroup": "Grace",
         "orientation": "h",
         "showlegend": true,
         "textposition": "auto",
         "type": "bar",
         "x": [
          345600000
         ],
         "xaxis": "x",
         "y": [
          "Conduct Market Research"
         ],
         "yaxis": "y"
        }
       ],
       "layout": {
        "barmode": "overlay",
        "legend": {
         "title": {
          "text": "Team Member"
         },
         "tracegroupgap": 0
        },
        "template": {
         "data": {
          "bar": [
           {
            "error_x": {
             "color": "#2a3f5f"
            },
            "error_y": {
             "color": "#2a3f5f"
            },
            "marker": {
             "line": {
              "color": "#E5ECF6",
              "width": 0.5
             },
             "pattern": {
              "fillmode": "overlay",
              "size": 10,
              "solidity": 0.2
             }
            },
            "type": "bar"
           }
          ],
          "barpolar": [
           {
            "marker": {
             "line": {
              "color": "#E5ECF6",
              "width": 0.5
             },
             "pattern": {
              "fillmode": "overlay",
              "size": 10,
              "solidity": 0.2
             }
            },
            "type": "barpolar"
           }
          ],
          "carpet": [
           {
            "aaxis": {
             "endlinecolor": "#2a3f5f",
             "gridcolor": "white",
             "linecolor": "white",
             "minorgridcolor": "white",
             "startlinecolor": "#2a3f5f"
            },
            "baxis": {
             "endlinecolor": "#2a3f5f",
             "gridcolor": "white",
             "linecolor": "white",
             "minorgridcolor": "white",
             "startlinecolor": "#2a3f5f"
            },
            "type": "carpet"
           }
          ],
          "choropleth": [
           {
            "colorbar": {
             "outlinewidth": 0,
             "ticks": ""
            },
            "type": "choropleth"
           }
          ],
          "contour": [
           {
            "colorbar": {
             "outlinewidth": 0,
             "ticks": ""
            },
            "colorscale": [
             [
              0,
              "#0d0887"
             ],
             [
              0.1111111111111111,
              "#46039f"
             ],
             [
              0.2222222222222222,
              "#7201a8"
             ],
             [
              0.3333333333333333,
              "#9c179e"
             ],
             [
              0.4444444444444444,
              "#bd3786"
             ],
             [
              0.5555555555555556,
              "#d8576b"
             ],
             [
              0.6666666666666666,
              "#ed7953"
             ],
             [
              0.7777777777777778,
              "#fb9f3a"
             ],
             [
              0.8888888888888888,
              "#fdca26"
             ],
             [
              1,
              "#f0f921"
             ]
            ],
            "type": "contour"
           }
          ],
          "contourcarpet": [
           {
            "colorbar": {
             "outlinewidth": 0,
             "ticks": ""
            },
            "type": "contourcarpet"
           }
          ],
          "heatmap": [
           {
            "colorbar": {
             "outlinewidth": 0,
             "ticks": ""
            },
            "colorscale": [
             [
              0,
              "#0d0887"
             ],
             [
              0.1111111111111111,
              "#46039f"
             ],
             [
              0.2222222222222222,
              "#7201a8"
             ],
             [
              0.3333333333333333,
              "#9c179e"
             ],
             [
              0.4444444444444444,
              "#bd3786"
             ],
             [
              0.5555555555555556,
              "#d8576b"
             ],
             [
              0.6666666666666666,
              "#ed7953"
             ],
             [
              0.7777777777777778,
              "#fb9f3a"
             ],
             [
              0.8888888888888888,
              "#fdca26"
             ],
             [
              1,
              "#f0f921"
             ]
            ],
            "type": "heatmap"
           }
          ],
          "heatmapgl": [
           {
            "colorbar": {
             "outlinewidth": 0,
             "ticks": ""
            },
            "colorscale": [
             [
              0,
              "#0d0887"
             ],
             [
              0.1111111111111111,
              "#46039f"
             ],
             [
              0.2222222222222222,
              "#7201a8"
             ],
             [
              0.3333333333333333,
              "#9c179e"
             ],
             [
              0.4444444444444444,
              "#bd3786"
             ],
             [
              0.5555555555555556,
              "#d8576b"
             ],
             [
              0.6666666666666666,
              "#ed7953"
             ],
             [
              0.7777777777777778,
              "#fb9f3a"
             ],
             [
              0.8888888888888888,
              "#fdca26"
             ],
             [
              1,
              "#f0f921"
             ]
            ],
            "type": "heatmapgl"
           }
          ],
          "histogram": [
           {
            "marker": {
             "pattern": {
              "fillmode": "overlay",
              "size": 10,
              "solidity": 0.2
             }
            },
            "type": "histogram"
           }
          ],
          "histogram2d": [
           {
            "colorbar": {
             "outlinewidth": 0,
             "ticks": ""
            },
            "colorscale": [
             [
              0,
              "#0d0887"
             ],
             [
              0.1111111111111111,
              "#46039f"
             ],
             [
              0.2222222222222222,
              "#7201a8"
             ],
             [
              0.3333333333333333,
              "#9c179e"
             ],
             [
              0.4444444444444444,
              "#bd3786"
             ],
             [
              0.5555555555555556,
              "#d8576b"
             ],
             [
              0.6666666666666666,
              "#ed7953"
             ],
             [
              0.7777777777777778,
              "#fb9f3a"
             ],
             [
              0.8888888888888888,
              "#fdca26"
             ],
             [
              1,
              "#f0f921"
             ]
            ],
            "type": "histogram2d"
           }
          ],
          "histogram2dcontour": [
           {
            "colorbar": {
             "outlinewidth": 0,
             "ticks": ""
            },
            "colorscale": [
             [
              0,
              "#0d0887"
             ],
             [
              0.1111111111111111,
              "#46039f"
             ],
             [
              0.2222222222222222,
              "#7201a8"
             ],
             [
              0.3333333333333333,
              "#9c179e"
             ],
             [
              0.4444444444444444,
              "#bd3786"
             ],
             [
              0.5555555555555556,
              "#d8576b"
             ],
             [
              0.6666666666666666,
              "#ed7953"
             ],
             [
              0.7777777777777778,
              "#fb9f3a"
             ],
             [
              0.8888888888888888,
              "#fdca26"
             ],
             [
              1,
              "#f0f921"
             ]
            ],
            "type": "histogram2dcontour"
           }
          ],
          "mesh3d": [
           {
            "colorbar": {
             "outlinewidth": 0,
             "ticks": ""
            },
            "type": "mesh3d"
           }
          ],
          "parcoords": [
           {
            "line": {
             "colorbar": {
              "outlinewidth": 0,
              "ticks": ""
             }
            },
            "type": "parcoords"
           }
          ],
          "pie": [
           {
            "automargin": true,
            "type": "pie"
           }
          ],
          "scatter": [
           {
            "fillpattern": {
             "fillmode": "overlay",
             "size": 10,
             "solidity": 0.2
            },
            "type": "scatter"
           }
          ],
          "scatter3d": [
           {
            "line": {
             "colorbar": {
              "outlinewidth": 0,
              "ticks": ""
             }
            },
            "marker": {
             "colorbar": {
              "outlinewidth": 0,
              "ticks": ""
             }
            },
            "type": "scatter3d"
           }
          ],
          "scattercarpet": [
           {
            "marker": {
             "colorbar": {
              "outlinewidth": 0,
              "ticks": ""
             }
            },
            "type": "scattercarpet"
           }
          ],
          "scattergeo": [
           {
            "marker": {
             "colorbar": {
              "outlinewidth": 0,
              "ticks": ""
             }
            },
            "type": "scattergeo"
           }
          ],
          "scattergl": [
           {
            "marker": {
             "colorbar": {
              "outlinewidth": 0,
              "ticks": ""
             }
            },
            "type": "scattergl"
           }
          ],
          "scattermapbox": [
           {
            "marker": {
             "colorbar": {
              "outlinewidth": 0,
              "ticks": ""
             }
            },
            "type": "scattermapbox"
           }
          ],
          "scatterpolar": [
           {
            "marker": {
             "colorbar": {
              "outlinewidth": 0,
              "ticks": ""
             }
            },
            "type": "scatterpolar"
           }
          ],
          "scatterpolargl": [
           {
            "marker": {
             "colorbar": {
              "outlinewidth": 0,
              "ticks": ""
             }
            },
            "type": "scatterpolargl"
           }
          ],
          "scatterternary": [
           {
            "marker": {
             "colorbar": {
              "outlinewidth": 0,
              "ticks": ""
             }
            },
            "type": "scatterternary"
           }
          ],
          "surface": [
           {
            "colorbar": {
             "outlinewidth": 0,
             "ticks": ""
            },
            "colorscale": [
             [
              0,
              "#0d0887"
             ],
             [
              0.1111111111111111,
              "#46039f"
             ],
             [
              0.2222222222222222,
              "#7201a8"
             ],
             [
              0.3333333333333333,
              "#9c179e"
             ],
             [
              0.4444444444444444,
              "#bd3786"
             ],
             [
              0.5555555555555556,
              "#d8576b"
             ],
             [
              0.6666666666666666,
              "#ed7953"
             ],
             [
              0.7777777777777778,
              "#fb9f3a"
             ],
             [
              0.8888888888888888,
              "#fdca26"
             ],
             [
              1,
              "#f0f921"
             ]
            ],
            "type": "surface"
           }
          ],
          "table": [
           {
            "cells": {
             "fill": {
              "color": "#EBF0F8"
             },
             "line": {
              "color": "white"
             }
            },
            "header": {
             "fill": {
              "color": "#C8D4E3"
             },
             "line": {
              "color": "white"
             }
            },
            "type": "table"
           }
          ]
         },
         "layout": {
          "annotationdefaults": {
           "arrowcolor": "#2a3f5f",
           "arrowhead": 0,
           "arrowwidth": 1
          },
          "autotypenumbers": "strict",
          "coloraxis": {
           "colorbar": {
            "outlinewidth": 0,
            "ticks": ""
           }
          },
          "colorscale": {
           "diverging": [
            [
             0,
             "#8e0152"
            ],
            [
             0.1,
             "#c51b7d"
            ],
            [
             0.2,
             "#de77ae"
            ],
            [
             0.3,
             "#f1b6da"
            ],
            [
             0.4,
             "#fde0ef"
            ],
            [
             0.5,
             "#f7f7f7"
            ],
            [
             0.6,
             "#e6f5d0"
            ],
            [
             0.7,
             "#b8e186"
            ],
            [
             0.8,
             "#7fbc41"
            ],
            [
             0.9,
             "#4d9221"
            ],
            [
             1,
             "#276419"
            ]
           ],
           "sequential": [
            [
             0,
             "#0d0887"
            ],
            [
             0.1111111111111111,
             "#46039f"
            ],
            [
             0.2222222222222222,
             "#7201a8"
            ],
            [
             0.3333333333333333,
             "#9c179e"
            ],
            [
             0.4444444444444444,
             "#bd3786"
            ],
            [
             0.5555555555555556,
             "#d8576b"
            ],
            [
             0.6666666666666666,
             "#ed7953"
            ],
            [
             0.7777777777777778,
             "#fb9f3a"
            ],
            [
             0.8888888888888888,
             "#fdca26"
            ],
            [
             1,
             "#f0f921"
            ]
           ],
           "sequentialminus": [
            [
             0,
             "#0d0887"
            ],
            [
             0.1111111111111111,
             "#46039f"
            ],
            [
             0.2222222222222222,
             "#7201a8"
            ],
            [
             0.3333333333333333,
             "#9c179e"
            ],
            [
             0.4444444444444444,
             "#bd3786"
            ],
            [
             0.5555555555555556,
             "#d8576b"
            ],
            [
             0.6666666666666666,
             "#ed7953"
            ],
            [
             0.7777777777777778,
             "#fb9f3a"
            ],
            [
             0.8888888888888888,
             "#fdca26"
            ],
            [
             1,
             "#f0f921"
            ]
           ]
          },
          "colorway": [
           "#636efa",
           "#EF553B",
           "#00cc96",
           "#ab63fa",
           "#FFA15A",
           "#19d3f3",
           "#FF6692",
           "#B6E880",
           "#FF97FF",
           "#FECB52"
          ],
          "font": {
           "color": "#2a3f5f"
          },
          "geo": {
           "bgcolor": "white",
           "lakecolor": "white",
           "landcolor": "#E5ECF6",
           "showlakes": true,
           "showland": true,
           "subunitcolor": "white"
          },
          "hoverlabel": {
           "align": "left"
          },
          "hovermode": "closest",
          "mapbox": {
           "style": "light"
          },
          "paper_bgcolor": "white",
          "plot_bgcolor": "#E5ECF6",
          "polar": {
           "angularaxis": {
            "gridcolor": "white",
            "linecolor": "white",
            "ticks": ""
           },
           "bgcolor": "#E5ECF6",
           "radialaxis": {
            "gridcolor": "white",
            "linecolor": "white",
            "ticks": ""
           }
          },
          "scene": {
           "xaxis": {
            "backgroundcolor": "#E5ECF6",
            "gridcolor": "white",
            "gridwidth": 2,
            "linecolor": "white",
            "showbackground": true,
            "ticks": "",
            "zerolinecolor": "white"
           },
           "yaxis": {
            "backgroundcolor": "#E5ECF6",
            "gridcolor": "white",
            "gridwidth": 2,
            "linecolor": "white",
            "showbackground": true,
            "ticks": "",
            "zerolinecolor": "white"
           },
           "zaxis": {
            "backgroundcolor": "#E5ECF6",
            "gridcolor": "white",
            "gridwidth": 2,
            "linecolor": "white",
            "showbackground": true,
            "ticks": "",
            "zerolinecolor": "white"
           }
          },
          "shapedefaults": {
           "line": {
            "color": "#2a3f5f"
           }
          },
          "ternary": {
           "aaxis": {
            "gridcolor": "white",
            "linecolor": "white",
            "ticks": ""
           },
           "baxis": {
            "gridcolor": "white",
            "linecolor": "white",
            "ticks": ""
           },
           "bgcolor": "#E5ECF6",
           "caxis": {
            "gridcolor": "white",
            "linecolor": "white",
            "ticks": ""
           }
          },
          "title": {
           "x": 0.05
          },
          "xaxis": {
           "automargin": true,
           "gridcolor": "white",
           "linecolor": "white",
           "ticks": "",
           "title": {
            "standoff": 15
           },
           "zerolinecolor": "white",
           "zerolinewidth": 2
          },
          "yaxis": {
           "automargin": true,
           "gridcolor": "white",
           "linecolor": "white",
           "ticks": "",
           "title": {
            "standoff": 15
           },
           "zerolinecolor": "white",
           "zerolinewidth": 2
          }
         }
        },
        "title": {
         "text": "Gantt Chart - Iteration:3 ",
         "x": 0.5
        },
        "xaxis": {
         "anchor": "y",
         "domain": [
          0,
          1
         ],
         "title": {
          "text": "Timeline"
         },
         "type": "date"
        },
        "yaxis": {
         "anchor": "x",
         "autorange": "reversed",
         "domain": [
          0,
          1
         ],
         "title": {
          "text": "Tasks"
         }
        }
       }
      }
     },
     "metadata": {},
     "output_type": "display_data"
    }
   ],
   "source": [
    "# Visalize Project timeline\n",
    "number_of_iterations = final_state['iteration_number']\n",
    "\n",
    "for i in range(number_of_iterations):\n",
    "    ## Tasks schedule\n",
    "    task_schedules = final_state['schedule_iteration'][i].schedule\n",
    "\n",
    "    t = []\n",
    "    # Iterate over the task_schedules and append each task's data to the DataFrame\n",
    "    for task_schedule in task_schedules:\n",
    "        t.append([\n",
    "            task_schedule.task.task_name,\n",
    "            task_schedule.start_day,\n",
    "            task_schedule.end_day\n",
    "        ])\n",
    "\n",
    "    df_schedule = pd.DataFrame(t,columns=['task_name', 'start', 'end'])\n",
    "\n",
    "    ## Tasks allocation\n",
    "    task_allocations = final_state['task_allocations_iteration'][i].task_allocations\n",
    "\n",
    "    t = []\n",
    "    # Iterate over the task_schedules and append each task's data to the DataFrame\n",
    "    for task_allocation in task_allocations:\n",
    "        t.append([\n",
    "            task_allocation.task.task_name,\n",
    "            task_allocation.team_member.name\n",
    "        ])\n",
    "\n",
    "    df_allocation = pd.DataFrame(t,columns=['task_name', 'team_member'])\n",
    "\n",
    "    df = df_allocation.merge(df_schedule, on='task_name')\n",
    "\n",
    "    import plotly.express as px\n",
    "\n",
    "    from datetime import datetime, timedelta\n",
    "    # Get the current date\n",
    "    current_date = datetime.today()\n",
    "\n",
    "    # Convert start and end offsets to actual dates\n",
    "    df['start'] = df['start'].apply(lambda x: current_date + timedelta(days=x))\n",
    "    df['end'] = df['end'].apply(lambda x: current_date + timedelta(days=x))\n",
    "\n",
    "    df.rename(columns={'team_member': 'Team Member'}, inplace=True)\n",
    "    df.sort_values(by='Team Member', inplace=True)\n",
    "    # Create a Gantt chart\n",
    "    fig = px.timeline(df, x_start=\"start\", x_end=\"end\", y=\"task_name\", color=\"Team Member\", title=f\"Gantt Chart - Iteration:{i+1} \")\n",
    "\n",
    "    # Update layout for better visualization\n",
    "    fig.update_layout(\n",
    "        xaxis_title=\"Timeline\",\n",
    "        yaxis_title=\"Tasks\",\n",
    "        yaxis=dict(autorange=\"reversed\"),  # Reverse the y-axis to have tasks in the vertical side\n",
    "        title_x=0.5\n",
    "    )\n",
    "\n",
    "    # Show the plot\n",
    "    fig.show()"
   ]
  },
  {
   "cell_type": "markdown",
   "metadata": {},
   "source": [
    "## Comparison\n",
    "\n",
    "As a comparison, we have implemented a simple agent composed of only 1 node aiming create a project plan as a 1-short.\n",
    "The input remained the `project_description` and the `team`. The prompt became the combination of the each node - except the risk and insight generations.\n",
    "The single node agent with the simplied stage could create a project plan.\n",
    "\n",
    "However, the expected complex structured response may not always be achieved by the LLM, resulting in error at downstream processing steps. In addition, a multi-agent solution allows for incorporation of self-reflection at different stages of the planning (in the future even human-in-the-loop) even including new information via user interactions (e.g. sickness , holidays of people team members).\n",
    "\n"
   ]
  },
  {
   "cell_type": "code",
   "execution_count": 412,
   "metadata": {},
   "outputs": [
    {
     "data": {
      "image/png": "[encoded data removed]",
      "text/plain": [
       "<IPython.core.display.Image object>"
      ]
     },
     "metadata": {},
     "output_type": "display_data"
    }
   ],
   "source": [
    "class ProjectPlan(BaseModel):\n",
    "    tasks: TaskList\n",
    "    dependencies: DependencyList\n",
    "    schedule: Schedule\n",
    "    task_allocations: TaskAllocationList\n",
    "\n",
    "class SimpleAgentState(TypedDict):\n",
    "    \"\"\"The project manager agent state.\"\"\"\n",
    "    project_description: str\n",
    "    team: Team\n",
    "    tasks: TaskList\n",
    "    dependencies: DependencyList\n",
    "    schedule: Schedule\n",
    "    task_allocations: TaskAllocationList\n",
    "\n",
    "def project_plan_generation_node(state: SimpleAgentState):\n",
    "    \"\"\"LangGraph node that will extract tasks from given project description\"\"\"\n",
    "    description = state[\"project_description\"]\n",
    "    team = state[\"team\"]\n",
    "    prompt = f\"\"\"You are an experienced project description analyzer, who needs to create a project plan.\n",
    "        Create the project plan using the following steps:\n",
    "        - Analyze the project description '{description}' and create a list of actionable and realistic tasks with estimated time (in days) to complete each task. If the task takes longer than 5 days, break it down into independent smaller tasks.\n",
    "        - Assess dependency between tasks. For each task, identify the blocking tasks. Provide for each task the list of dependent tasks.\n",
    "        - Schedule tasks based on the dependencies.\n",
    "        - Allocate tasks to team members {team} based on their skills and availability, such that there is no overlapping task assigned for a team member. Ensure that no team member has 2 tasks assigned for the same time period.\n",
    "    \"\"\"\n",
    "    structure_llm = llm.with_structured_output(ProjectPlan)\n",
    "    project_plan: ProjectPlan = structure_llm.invoke(prompt)\n",
    "    print(project_plan)\n",
    "    return {\"tasks\": project_plan.tasks, \"dependencies\": project_plan.dependencies, \"schedule\": project_plan.schedule, \"task_allocations\": project_plan.task_allocations}\n",
    "\n",
    "\n",
    "# Instantiate the workflow    \n",
    "simple_workflow = StateGraph(SimpleAgentState)\n",
    "\n",
    "# Add nodes to the workflow\n",
    "simple_workflow.add_node(\"create_project_plan\", project_plan_generation_node)\n",
    "\n",
    "# Add edges to the workflow\n",
    "simple_workflow.set_entry_point(\"create_project_plan\")\n",
    "simple_workflow.add_edge(\"create_project_plan\", END)\n",
    "\n",
    "# Set up memory\n",
    "simple_memory = MemorySaver()\n",
    "\n",
    "# Compile the workflow\n",
    "simple_graph_plan = simple_workflow.compile(checkpointer=memory)\n",
    "\n",
    "# To visualize the created workflow, we can use \n",
    "display(Image(simple_graph_plan.get_graph(xray=1).draw_mermaid_png()))\n",
    "\n"
   ]
  },
  {
   "cell_type": "code",
   "execution_count": 413,
   "metadata": {},
   "outputs": [
    {
     "name": "stdout",
     "output_type": "stream",
     "text": [
      "tasks=TaskList(tasks=[Task(id=UUID('4addec1e-c3a4-41b8-886e-3bfecc9e4ebe'), task_name='Requirements Gathering', task_description='Gather requirements from stakeholders about the chatbot features and functionalities.', estimated_day=3), Task(id=UUID('cd3b2ccd-a274-4122-87e5-792c416e63bc'), task_name='Design Chatbot Architecture', task_description='Create the architecture of the chatbot application including frontend and backend design.', estimated_day=5), Task(id=UUID('e41834d4-afe8-46b9-8519-e4a2cd8aae15'), task_name='Frontend Development', task_description='Develop the user interface for the chatbot using HTML, CSS, and JavaScript.', estimated_day=7), Task(id=UUID('7b2710d8-b9e9-4028-8a26-435e6e89159c'), task_name='Backend Development', task_description='Set up the backend for the chatbot using Python and Django.', estimated_day=7), Task(id=UUID('232113dc-aef2-4c86-b8ba-43747e58d264'), task_name='Integrate Frontend and Backend', task_description='Integrate the frontend and backend components of the chatbot application.', estimated_day=3), Task(id=UUID('ca7f94ed-4eb3-4af0-88c5-c0b0aa478168'), task_name='Testing and QA', task_description='Conduct testing and quality assurance for the chatbot application.', estimated_day=4), Task(id=UUID('de60cddf-9831-4307-a5eb-cd19f2475bc6'), task_name='Deployment', task_description='Deploy the chatbot application to a cloud platform.', estimated_day=3), Task(id=UUID('a7f21afa-d2bb-4cb2-9f91-8985eeaac71b'), task_name='Post-Deployment Support', task_description='Provide post-deployment support and bug fixes for the chatbot application.', estimated_day=3)]) dependencies=DependencyList(dependencies=[TaskDependency(task=Task(id=UUID('d2654503-74f3-432b-b455-f9024f688a43'), task_name='Requirements Gathering', task_description='Gather requirements from stakeholders about the chatbot features and functionalities.', estimated_day=3), dependent_tasks=[Task(id=UUID('c2541e7a-c96e-4024-83d2-15c2716c75d0'), task_name='Design Chatbot Architecture', task_description='Create the architecture of the chatbot application including frontend and backend design.', estimated_day=5)]), TaskDependency(task=Task(id=UUID('f75fd162-0c48-406c-954c-7bfb55533a5a'), task_name='Design Chatbot Architecture', task_description='Create the architecture of the chatbot application including frontend and backend design.', estimated_day=5), dependent_tasks=[Task(id=UUID('2d58b977-bf73-4969-b569-ea5796e25431'), task_name='Frontend Development', task_description='Develop the user interface for the chatbot using HTML, CSS, and JavaScript.', estimated_day=7), Task(id=UUID('97a551b1-bf24-47a9-b1a3-353cbde711e2'), task_name='Backend Development', task_description='Set up the backend for the chatbot using Python and Django.', estimated_day=7)]), TaskDependency(task=Task(id=UUID('05d335b9-7733-49c7-962b-be3d81d1dfed'), task_name='Backend Development', task_description='Set up the backend for the chatbot using Python and Django.', estimated_day=7), dependent_tasks=[Task(id=UUID('0d5d648f-d12a-4d00-9357-61468a1fd9aa'), task_name='Integrate Frontend and Backend', task_description='Integrate the frontend and backend components of the chatbot application.', estimated_day=3)]), TaskDependency(task=Task(id=UUID('8340fd6d-e8a5-430b-97ae-46de2141c0f4'), task_name='Frontend Development', task_description='Develop the user interface for the chatbot using HTML, CSS, and JavaScript.', estimated_day=7), dependent_tasks=[Task(id=UUID('80382386-eacc-45b3-b147-af6b3c8a1ebf'), task_name='Integrate Frontend and Backend', task_description='Integrate the frontend and backend components of the chatbot application.', estimated_day=3)]), TaskDependency(task=Task(id=UUID('fa43ac3a-01f9-4cad-b900-cb33a08e2323'), task_name='Integrate Frontend and Backend', task_description='Integrate the frontend and backend components of the chatbot application.', estimated_day=3), dependent_tasks=[Task(id=UUID('54068596-0ac9-4b36-8963-930bbc5f89a1'), task_name='Testing and QA', task_description='Conduct testing and quality assurance for the chatbot application.', estimated_day=4)]), TaskDependency(task=Task(id=UUID('4b82aeb1-8d35-41a1-8924-55509f91b8bf'), task_name='Testing and QA', task_description='Conduct testing and quality assurance for the chatbot application.', estimated_day=4), dependent_tasks=[Task(id=UUID('be3cbd0a-5e34-4cd4-a9ba-7b7ecd252074'), task_name='Deployment', task_description='Deploy the chatbot application to a cloud platform.', estimated_day=3)]), TaskDependency(task=Task(id=UUID('a436ba1a-5804-4ca2-9534-7ff3e93e3864'), task_name='Deployment', task_description='Deploy the chatbot application to a cloud platform.', estimated_day=3), dependent_tasks=[Task(id=UUID('673909e0-3806-4e4d-9fd4-120d57dbf912'), task_name='Post-Deployment Support', task_description='Provide post-deployment support and bug fixes for the chatbot application.', estimated_day=3)])]) schedule=Schedule(schedule=[TaskSchedule(task=Task(id=UUID('d4d98552-61a5-433c-8454-83197da75e51'), task_name='Requirements Gathering', task_description='Gather requirements from stakeholders about the chatbot features and functionalities.', estimated_day=3), start_day=1, end_day=3), TaskSchedule(task=Task(id=UUID('f13cf1a8-2aeb-48ed-9dc9-35d6767c0a0a'), task_name='Design Chatbot Architecture', task_description='Create the architecture of the chatbot application including frontend and backend design.', estimated_day=5), start_day=4, end_day=8), TaskSchedule(task=Task(id=UUID('403fbfb2-ae48-4591-89de-ccb0bcea0122'), task_name='Frontend Development', task_description='Develop the user interface for the chatbot using HTML, CSS, and JavaScript.', estimated_day=7), start_day=9, end_day=15), TaskSchedule(task=Task(id=UUID('98016950-0f73-44b8-adbf-3c117d8f6685'), task_name='Backend Development', task_description='Set up the backend for the chatbot using Python and Django.', estimated_day=7), start_day=9, end_day=15), TaskSchedule(task=Task(id=UUID('2bf0bc35-71bf-4c01-834c-7c84cc57902f'), task_name='Integrate Frontend and Backend', task_description='Integrate the frontend and backend components of the chatbot application.', estimated_day=3), start_day=16, end_day=18), TaskSchedule(task=Task(id=UUID('60d20758-3067-46fa-b425-d6d67b666942'), task_name='Testing and QA', task_description='Conduct testing and quality assurance for the chatbot application.', estimated_day=4), start_day=19, end_day=22), TaskSchedule(task=Task(id=UUID('e2ef4752-0679-4caf-a773-3b06c94ac7f3'), task_name='Deployment', task_description='Deploy the chatbot application to a cloud platform.', estimated_day=3), start_day=23, end_day=25), TaskSchedule(task=Task(id=UUID('ba7a7fe3-094d-490b-bc47-bd54ca25d04b'), task_name='Post-Deployment Support', task_description='Provide post-deployment support and bug fixes for the chatbot application.', estimated_day=3), start_day=26, end_day=28)]) task_allocations=TaskAllocationList(task_allocations=[TaskAllocation(task=Task(id=UUID('eb47af24-a4d0-469a-945a-53be9baa4492'), task_name='Requirements Gathering', task_description='Gather requirements from stakeholders about the chatbot features and functionalities.', estimated_day=3), team_member=TeamMember(name='Charlie', profile=' Charlie is a Project Manager experienced in Agile methodologies team leadership project planning and risk management.')), TaskAllocation(task=Task(id=UUID('403a8a30-c1c9-4aec-a61f-3dfef18b0eb7'), task_name='Design Chatbot Architecture', task_description='Create the architecture of the chatbot application including frontend and backend design.', estimated_day=5), team_member=TeamMember(name='Bob', profile=' Bob is a Backend Developer proficient in Python Django SQL and RESTful APIs.')), TaskAllocation(task=Task(id=UUID('2a734eee-cbfa-49e8-b3ba-4e54eafa51c3'), task_name='Frontend Development', task_description='Develop the user interface for the chatbot using HTML, CSS, and JavaScript.', estimated_day=7), team_member=TeamMember(name='Alice', profile=' Alice is a Frontend Developer skilled in HTML CSS JavaScript and React.')), TaskAllocation(task=Task(id=UUID('e7ebeb83-5dc2-4b67-b8b3-a633f1daf551'), task_name='Backend Development', task_description='Set up the backend for the chatbot using Python and Django.', estimated_day=7), team_member=TeamMember(name='David', profile=' David is a Full Stack Developer with expertise in both frontend (HTML CSS JavaScript) and backend (Node.js MongoDB) technologies.')), TaskAllocation(task=Task(id=UUID('9d5f9e25-ab62-4dd0-b8eb-19538d3c9a87'), task_name='Integrate Frontend and Backend', task_description='Integrate the frontend and backend components of the chatbot application.', estimated_day=3), team_member=TeamMember(name='Frank', profile=' Frank is a Junior Frontend Developer with knowledge in HTML CSS JavaScript and basic React.')), TaskAllocation(task=Task(id=UUID('a0996072-a35e-499a-903e-a7ce04c2c681'), task_name='Testing and QA', task_description='Conduct testing and quality assurance for the chatbot application.', estimated_day=4), team_member=TeamMember(name='Eve', profile=' Eve is a DevOps Engineer skilled in CI/CD pipelines Docker Kubernetes and cloud services like AWS and Azure.')), TaskAllocation(task=Task(id=UUID('8db9696e-d68a-41cd-a884-388c8804b737'), task_name='Deployment', task_description='Deploy the chatbot application to a cloud platform.', estimated_day=3), team_member=TeamMember(name='Charlie', profile=' Charlie is a Project Manager experienced in Agile methodologies team leadership project planning and risk management.')), TaskAllocation(task=Task(id=UUID('f113d200-54b2-4593-858d-0ba7f3c92bb3'), task_name='Post-Deployment Support', task_description='Provide post-deployment support and bug fixes for the chatbot application.', estimated_day=3), team_member=TeamMember(name='Grace', profile=' Grace is a Senior Data Scientist with expertise in machine learning data analysis Python R and big data technologies like Hadoop and Spark.'))])\n",
      "Current node: create_project_plan\n"
     ]
    }
   ],
   "source": [
    "# Invoke the agent\n",
    "config = {\"configurable\": {\"thread_id\": \"2\"}}\n",
    "for event in simple_graph_plan.stream(state_input, config, stream_mode=[\"updates\"]):\n",
    "    \"Print the different nodes as the agent progresses\"\n",
    "    print(f\"Current node: {next(iter(event[1]))}\")\n",
    "    \n",
    "simple_final_state = simple_graph_plan.get_state(config).values"
   ]
  },
  {
   "cell_type": "code",
   "execution_count": 414,
   "metadata": {},
   "outputs": [
    {
     "data": {
      "application/vnd.plotly.v1+json": {
       "config": {
        "plotlyServerURL": "https://plot.ly"
       },
       "data": [
        {
         "alignmentgroup": "True",
         "base": [
          "2024-11-27T00:04:52.792699"
         ],
         "hovertemplate": "Team Member=Alice<br>start=%{base}<br>end=%{x}<br>task_name=%{y}<extra></extra>",
         "legendgroup": "Alice",
         "marker": {
          "color": "#636efa",
          "pattern": {
           "shape": ""
          }
         },
         "name": "Alice",
         "offsetgroup": "Alice",
         "orientation": "h",
         "showlegend": true,
         "textposition": "auto",
         "type": "bar",
         "x": [
          518400000
         ],
         "xaxis": "x",
         "y": [
          "Frontend Development"
         ],
         "yaxis": "y"
        },
        {
         "alignmentgroup": "True",
         "base": [
          "2024-11-22T00:04:52.792699"
         ],
         "hovertemplate": "Team Member=Bob<br>start=%{base}<br>end=%{x}<br>task_name=%{y}<extra></extra>",
         "legendgroup": "Bob",
         "marker": {
          "color": "#EF553B",
          "pattern": {
           "shape": ""
          }
         },
         "name": "Bob",
         "offsetgroup": "Bob",
         "orientation": "h",
         "showlegend": true,
         "textposition": "auto",
         "type": "bar",
         "x": [
          345600000
         ],
         "xaxis": "x",
         "y": [
          "Design Chatbot Architecture"
         ],
         "yaxis": "y"
        },
        {
         "alignmentgroup": "True",
         "base": [
          "2024-11-19T00:04:52.792699",
          "2024-12-11T00:04:52.792699"
         ],
         "hovertemplate": "Team Member=Charlie<br>start=%{base}<br>end=%{x}<br>task_name=%{y}<extra></extra>",
         "legendgroup": "Charlie",
         "marker": {
          "color": "#00cc96",
          "pattern": {
           "shape": ""
          }
         },
         "name": "Charlie",
         "offsetgroup": "Charlie",
         "orientation": "h",
         "showlegend": true,
         "textposition": "auto",
         "type": "bar",
         "x": [
          172800000,
          172800000
         ],
         "xaxis": "x",
         "y": [
          "Requirements Gathering",
          "Deployment"
         ],
         "yaxis": "y"
        },
        {
         "alignmentgroup": "True",
         "base": [
          "2024-11-27T00:04:52.792699"
         ],
         "hovertemplate": "Team Member=David<br>start=%{base}<br>end=%{x}<br>task_name=%{y}<extra></extra>",
         "legendgroup": "David",
         "marker": {
          "color": "#ab63fa",
          "pattern": {
           "shape": ""
          }
         },
         "name": "David",
         "offsetgroup": "David",
         "orientation": "h",
         "showlegend": true,
         "textposition": "auto",
         "type": "bar",
         "x": [
          518400000
         ],
         "xaxis": "x",
         "y": [
          "Backend Development"
         ],
         "yaxis": "y"
        },
        {
         "alignmentgroup": "True",
         "base": [
          "2024-12-07T00:04:52.792699"
         ],
         "hovertemplate": "Team Member=Eve<br>start=%{base}<br>end=%{x}<br>task_name=%{y}<extra></extra>",
         "legendgroup": "Eve",
         "marker": {
          "color": "#FFA15A",
          "pattern": {
           "shape": ""
          }
         },
         "name": "Eve",
         "offsetgroup": "Eve",
         "orientation": "h",
         "showlegend": true,
         "textposition": "auto",
         "type": "bar",
         "x": [
          259200000
         ],
         "xaxis": "x",
         "y": [
          "Testing and QA"
         ],
         "yaxis": "y"
        },
        {
         "alignmentgroup": "True",
         "base": [
          "2024-12-04T00:04:52.792699"
         ],
         "hovertemplate": "Team Member=Frank<br>start=%{base}<br>end=%{x}<br>task_name=%{y}<extra></extra>",
         "legendgroup": "Frank",
         "marker": {
          "color": "#19d3f3",
          "pattern": {
           "shape": ""
          }
         },
         "name": "Frank",
         "offsetgroup": "Frank",
         "orientation": "h",
         "showlegend": true,
         "textposition": "auto",
         "type": "bar",
         "x": [
          172800000
         ],
         "xaxis": "x",
         "y": [
          "Integrate Frontend and Backend"
         ],
         "yaxis": "y"
        },
        {
         "alignmentgroup": "True",
         "base": [
          "2024-12-14T00:04:52.792699"
         ],
         "hovertemplate": "Team Member=Grace<br>start=%{base}<br>end=%{x}<br>task_name=%{y}<extra></extra>",
         "legendgroup": "Grace",
         "marker": {
          "color": "#FF6692",
          "pattern": {
           "shape": ""
          }
         },
         "name": "Grace",
         "offsetgroup": "Grace",
         "orientation": "h",
         "showlegend": true,
         "textposition": "auto",
         "type": "bar",
         "x": [
          172800000
         ],
         "xaxis": "x",
         "y": [
          "Post-Deployment Support"
         ],
         "yaxis": "y"
        }
       ],
       "layout": {
        "barmode": "overlay",
        "legend": {
         "title": {
          "text": "Team Member"
         },
         "tracegroupgap": 0
        },
        "template": {
         "data": {
          "bar": [
           {
            "error_x": {
             "color": "#2a3f5f"
            },
            "error_y": {
             "color": "#2a3f5f"
            },
            "marker": {
             "line": {
              "color": "#E5ECF6",
              "width": 0.5
             },
             "pattern": {
              "fillmode": "overlay",
              "size": 10,
              "solidity": 0.2
             }
            },
            "type": "bar"
           }
          ],
          "barpolar": [
           {
            "marker": {
             "line": {
              "color": "#E5ECF6",
              "width": 0.5
             },
             "pattern": {
              "fillmode": "overlay",
              "size": 10,
              "solidity": 0.2
             }
            },
            "type": "barpolar"
           }
          ],
          "carpet": [
           {
            "aaxis": {
             "endlinecolor": "#2a3f5f",
             "gridcolor": "white",
             "linecolor": "white",
             "minorgridcolor": "white",
             "startlinecolor": "#2a3f5f"
            },
            "baxis": {
             "endlinecolor": "#2a3f5f",
             "gridcolor": "white",
             "linecolor": "white",
             "minorgridcolor": "white",
             "startlinecolor": "#2a3f5f"
            },
            "type": "carpet"
           }
          ],
          "choropleth": [
           {
            "colorbar": {
             "outlinewidth": 0,
             "ticks": ""
            },
            "type": "choropleth"
           }
          ],
          "contour": [
           {
            "colorbar": {
             "outlinewidth": 0,
             "ticks": ""
            },
            "colorscale": [
             [
              0,
              "#0d0887"
             ],
             [
              0.1111111111111111,
              "#46039f"
             ],
             [
              0.2222222222222222,
              "#7201a8"
             ],
             [
              0.3333333333333333,
              "#9c179e"
             ],
             [
              0.4444444444444444,
              "#bd3786"
             ],
             [
              0.5555555555555556,
              "#d8576b"
             ],
             [
              0.6666666666666666,
              "#ed7953"
             ],
             [
              0.7777777777777778,
              "#fb9f3a"
             ],
             [
              0.8888888888888888,
              "#fdca26"
             ],
             [
              1,
              "#f0f921"
             ]
            ],
            "type": "contour"
           }
          ],
          "contourcarpet": [
           {
            "colorbar": {
             "outlinewidth": 0,
             "ticks": ""
            },
            "type": "contourcarpet"
           }
          ],
          "heatmap": [
           {
            "colorbar": {
             "outlinewidth": 0,
             "ticks": ""
            },
            "colorscale": [
             [
              0,
              "#0d0887"
             ],
             [
              0.1111111111111111,
              "#46039f"
             ],
             [
              0.2222222222222222,
              "#7201a8"
             ],
             [
              0.3333333333333333,
              "#9c179e"
             ],
             [
              0.4444444444444444,
              "#bd3786"
             ],
             [
              0.5555555555555556,
              "#d8576b"
             ],
             [
              0.6666666666666666,
              "#ed7953"
             ],
             [
              0.7777777777777778,
              "#fb9f3a"
             ],
             [
              0.8888888888888888,
              "#fdca26"
             ],
             [
              1,
              "#f0f921"
             ]
            ],
            "type": "heatmap"
           }
          ],
          "heatmapgl": [
           {
            "colorbar": {
             "outlinewidth": 0,
             "ticks": ""
            },
            "colorscale": [
             [
              0,
              "#0d0887"
             ],
             [
              0.1111111111111111,
              "#46039f"
             ],
             [
              0.2222222222222222,
              "#7201a8"
             ],
             [
              0.3333333333333333,
              "#9c179e"
             ],
             [
              0.4444444444444444,
              "#bd3786"
             ],
             [
              0.5555555555555556,
              "#d8576b"
             ],
             [
              0.6666666666666666,
              "#ed7953"
             ],
             [
              0.7777777777777778,
              "#fb9f3a"
             ],
             [
              0.8888888888888888,
              "#fdca26"
             ],
             [
              1,
              "#f0f921"
             ]
            ],
            "type": "heatmapgl"
           }
          ],
          "histogram": [
           {
            "marker": {
             "pattern": {
              "fillmode": "overlay",
              "size": 10,
              "solidity": 0.2
             }
            },
            "type": "histogram"
           }
          ],
          "histogram2d": [
           {
            "colorbar": {
             "outlinewidth": 0,
             "ticks": ""
            },
            "colorscale": [
             [
              0,
              "#0d0887"
             ],
             [
              0.1111111111111111,
              "#46039f"
             ],
             [
              0.2222222222222222,
              "#7201a8"
             ],
             [
              0.3333333333333333,
              "#9c179e"
             ],
             [
              0.4444444444444444,
              "#bd3786"
             ],
             [
              0.5555555555555556,
              "#d8576b"
             ],
             [
              0.6666666666666666,
              "#ed7953"
             ],
             [
              0.7777777777777778,
              "#fb9f3a"
             ],
             [
              0.8888888888888888,
              "#fdca26"
             ],
             [
              1,
              "#f0f921"
             ]
            ],
            "type": "histogram2d"
           }
          ],
          "histogram2dcontour": [
           {
            "colorbar": {
             "outlinewidth": 0,
             "ticks": ""
            },
            "colorscale": [
             [
              0,
              "#0d0887"
             ],
             [
              0.1111111111111111,
              "#46039f"
             ],
             [
              0.2222222222222222,
              "#7201a8"
             ],
             [
              0.3333333333333333,
              "#9c179e"
             ],
             [
              0.4444444444444444,
              "#bd3786"
             ],
             [
              0.5555555555555556,
              "#d8576b"
             ],
             [
              0.6666666666666666,
              "#ed7953"
             ],
             [
              0.7777777777777778,
              "#fb9f3a"
             ],
             [
              0.8888888888888888,
              "#fdca26"
             ],
             [
              1,
              "#f0f921"
             ]
            ],
            "type": "histogram2dcontour"
           }
          ],
          "mesh3d": [
           {
            "colorbar": {
             "outlinewidth": 0,
             "ticks": ""
            },
            "type": "mesh3d"
           }
          ],
          "parcoords": [
           {
            "line": {
             "colorbar": {
              "outlinewidth": 0,
              "ticks": ""
             }
            },
            "type": "parcoords"
           }
          ],
          "pie": [
           {
            "automargin": true,
            "type": "pie"
           }
          ],
          "scatter": [
           {
            "fillpattern": {
             "fillmode": "overlay",
             "size": 10,
             "solidity": 0.2
            },
            "type": "scatter"
           }
          ],
          "scatter3d": [
           {
            "line": {
             "colorbar": {
              "outlinewidth": 0,
              "ticks": ""
             }
            },
            "marker": {
             "colorbar": {
              "outlinewidth": 0,
              "ticks": ""
             }
            },
            "type": "scatter3d"
           }
          ],
          "scattercarpet": [
           {
            "marker": {
             "colorbar": {
              "outlinewidth": 0,
              "ticks": ""
             }
            },
            "type": "scattercarpet"
           }
          ],
          "scattergeo": [
           {
            "marker": {
             "colorbar": {
              "outlinewidth": 0,
              "ticks": ""
             }
            },
            "type": "scattergeo"
           }
          ],
          "scattergl": [
           {
            "marker": {
             "colorbar": {
              "outlinewidth": 0,
              "ticks": ""
             }
            },
            "type": "scattergl"
           }
          ],
          "scattermapbox": [
           {
            "marker": {
             "colorbar": {
              "outlinewidth": 0,
              "ticks": ""
             }
            },
            "type": "scattermapbox"
           }
          ],
          "scatterpolar": [
           {
            "marker": {
             "colorbar": {
              "outlinewidth": 0,
              "ticks": ""
             }
            },
            "type": "scatterpolar"
           }
          ],
          "scatterpolargl": [
           {
            "marker": {
             "colorbar": {
              "outlinewidth": 0,
              "ticks": ""
             }
            },
            "type": "scatterpolargl"
           }
          ],
          "scatterternary": [
           {
            "marker": {
             "colorbar": {
              "outlinewidth": 0,
              "ticks": ""
             }
            },
            "type": "scatterternary"
           }
          ],
          "surface": [
           {
            "colorbar": {
             "outlinewidth": 0,
             "ticks": ""
            },
            "colorscale": [
             [
              0,
              "#0d0887"
             ],
             [
              0.1111111111111111,
              "#46039f"
             ],
             [
              0.2222222222222222,
              "#7201a8"
             ],
             [
              0.3333333333333333,
              "#9c179e"
             ],
             [
              0.4444444444444444,
              "#bd3786"
             ],
             [
              0.5555555555555556,
              "#d8576b"
             ],
             [
              0.6666666666666666,
              "#ed7953"
             ],
             [
              0.7777777777777778,
              "#fb9f3a"
             ],
             [
              0.8888888888888888,
              "#fdca26"
             ],
             [
              1,
              "#f0f921"
             ]
            ],
            "type": "surface"
           }
          ],
          "table": [
           {
            "cells": {
             "fill": {
              "color": "#EBF0F8"
             },
             "line": {
              "color": "white"
             }
            },
            "header": {
             "fill": {
              "color": "#C8D4E3"
             },
             "line": {
              "color": "white"
             }
            },
            "type": "table"
           }
          ]
         },
         "layout": {
          "annotationdefaults": {
           "arrowcolor": "#2a3f5f",
           "arrowhead": 0,
           "arrowwidth": 1
          },
          "autotypenumbers": "strict",
          "coloraxis": {
           "colorbar": {
            "outlinewidth": 0,
            "ticks": ""
           }
          },
          "colorscale": {
           "diverging": [
            [
             0,
             "#8e0152"
            ],
            [
             0.1,
             "#c51b7d"
            ],
            [
             0.2,
             "#de77ae"
            ],
            [
             0.3,
             "#f1b6da"
            ],
            [
             0.4,
             "#fde0ef"
            ],
            [
             0.5,
             "#f7f7f7"
            ],
            [
             0.6,
             "#e6f5d0"
            ],
            [
             0.7,
             "#b8e186"
            ],
            [
             0.8,
             "#7fbc41"
            ],
            [
             0.9,
             "#4d9221"
            ],
            [
             1,
             "#276419"
            ]
           ],
           "sequential": [
            [
             0,
             "#0d0887"
            ],
            [
             0.1111111111111111,
             "#46039f"
            ],
            [
             0.2222222222222222,
             "#7201a8"
            ],
            [
             0.3333333333333333,
             "#9c179e"
            ],
            [
             0.4444444444444444,
             "#bd3786"
            ],
            [
             0.5555555555555556,
             "#d8576b"
            ],
            [
             0.6666666666666666,
             "#ed7953"
            ],
            [
             0.7777777777777778,
             "#fb9f3a"
            ],
            [
             0.8888888888888888,
             "#fdca26"
            ],
            [
             1,
             "#f0f921"
            ]
           ],
           "sequentialminus": [
            [
             0,
             "#0d0887"
            ],
            [
             0.1111111111111111,
             "#46039f"
            ],
            [
             0.2222222222222222,
             "#7201a8"
            ],
            [
             0.3333333333333333,
             "#9c179e"
            ],
            [
             0.4444444444444444,
             "#bd3786"
            ],
            [
             0.5555555555555556,
             "#d8576b"
            ],
            [
             0.6666666666666666,
             "#ed7953"
            ],
            [
             0.7777777777777778,
             "#fb9f3a"
            ],
            [
             0.8888888888888888,
             "#fdca26"
            ],
            [
             1,
             "#f0f921"
            ]
           ]
          },
          "colorway": [
           "#636efa",
           "#EF553B",
           "#00cc96",
           "#ab63fa",
           "#FFA15A",
           "#19d3f3",
           "#FF6692",
           "#B6E880",
           "#FF97FF",
           "#FECB52"
          ],
          "font": {
           "color": "#2a3f5f"
          },
          "geo": {
           "bgcolor": "white",
           "lakecolor": "white",
           "landcolor": "#E5ECF6",
           "showlakes": true,
           "showland": true,
           "subunitcolor": "white"
          },
          "hoverlabel": {
           "align": "left"
          },
          "hovermode": "closest",
          "mapbox": {
           "style": "light"
          },
          "paper_bgcolor": "white",
          "plot_bgcolor": "#E5ECF6",
          "polar": {
           "angularaxis": {
            "gridcolor": "white",
            "linecolor": "white",
            "ticks": ""
           },
           "bgcolor": "#E5ECF6",
           "radialaxis": {
            "gridcolor": "white",
            "linecolor": "white",
            "ticks": ""
           }
          },
          "scene": {
           "xaxis": {
            "backgroundcolor": "#E5ECF6",
            "gridcolor": "white",
            "gridwidth": 2,
            "linecolor": "white",
            "showbackground": true,
            "ticks": "",
            "zerolinecolor": "white"
           },
           "yaxis": {
            "backgroundcolor": "#E5ECF6",
            "gridcolor": "white",
            "gridwidth": 2,
            "linecolor": "white",
            "showbackground": true,
            "ticks": "",
            "zerolinecolor": "white"
           },
           "zaxis": {
            "backgroundcolor": "#E5ECF6",
            "gridcolor": "white",
            "gridwidth": 2,
            "linecolor": "white",
            "showbackground": true,
            "ticks": "",
            "zerolinecolor": "white"
           }
          },
          "shapedefaults": {
           "line": {
            "color": "#2a3f5f"
           }
          },
          "ternary": {
           "aaxis": {
            "gridcolor": "white",
            "linecolor": "white",
            "ticks": ""
           },
           "baxis": {
            "gridcolor": "white",
            "linecolor": "white",
            "ticks": ""
           },
           "bgcolor": "#E5ECF6",
           "caxis": {
            "gridcolor": "white",
            "linecolor": "white",
            "ticks": ""
           }
          },
          "title": {
           "x": 0.05
          },
          "xaxis": {
           "automargin": true,
           "gridcolor": "white",
           "linecolor": "white",
           "ticks": "",
           "title": {
            "standoff": 15
           },
           "zerolinecolor": "white",
           "zerolinewidth": 2
          },
          "yaxis": {
           "automargin": true,
           "gridcolor": "white",
           "linecolor": "white",
           "ticks": "",
           "title": {
            "standoff": 15
           },
           "zerolinecolor": "white",
           "zerolinewidth": 2
          }
         }
        },
        "title": {
         "text": "Gantt Chart - Oneshot Project Plan",
         "x": 0.5
        },
        "xaxis": {
         "anchor": "y",
         "domain": [
          0,
          1
         ],
         "title": {
          "text": "Timeline"
         },
         "type": "date"
        },
        "yaxis": {
         "anchor": "x",
         "autorange": "reversed",
         "domain": [
          0,
          1
         ],
         "title": {
          "text": "Tasks"
         }
        }
       }
      }
     },
     "metadata": {},
     "output_type": "display_data"
    }
   ],
   "source": [
    "## Tasks schedule\n",
    "task_schedules = simple_final_state['schedule'].schedule\n",
    "\n",
    "t = []\n",
    "# Iterate over the task_schedules and append each task's data to the DataFrame\n",
    "for task_schedule in task_schedules:\n",
    "    t.append([\n",
    "        task_schedule.task.task_name,\n",
    "        task_schedule.start_day,\n",
    "        task_schedule.end_day\n",
    "    ])\n",
    "\n",
    "df_schedule = pd.DataFrame(t,columns=['task_name', 'start', 'end'])\n",
    "\n",
    "## Tasks allocation\n",
    "task_allocations = simple_final_state['task_allocations'].task_allocations\n",
    "\n",
    "t = []\n",
    "# Iterate over the task_schedules and append each task's data to the DataFrame\n",
    "for task_allocation in task_allocations:\n",
    "    t.append([\n",
    "        task_allocation.task.task_name,\n",
    "        task_allocation.team_member.name\n",
    "    ])\n",
    "\n",
    "df_allocation = pd.DataFrame(t,columns=['task_name', 'team_member'])\n",
    "\n",
    "df = df_allocation.merge(df_schedule, on='task_name')\n",
    "\n",
    "import plotly.express as px\n",
    "\n",
    "from datetime import datetime, timedelta\n",
    "# Get the current date\n",
    "current_date = datetime.today()\n",
    "\n",
    "# Convert start and end offsets to actual dates\n",
    "df['start'] = df['start'].apply(lambda x: current_date + timedelta(days=x))\n",
    "df['end'] = df['end'].apply(lambda x: current_date + timedelta(days=x))\n",
    "\n",
    "df.rename(columns={'team_member': 'Team Member'}, inplace=True)\n",
    "df.sort_values(by='Team Member', inplace=True)\n",
    "# Create a Gantt chart\n",
    "fig = px.timeline(df, x_start=\"start\", x_end=\"end\", y=\"task_name\", color=\"Team Member\", title=f\"Gantt Chart - Oneshot Project Plan\")\n",
    "\n",
    "# Update layout for better visualization\n",
    "fig.update_layout(\n",
    "    xaxis_title=\"Timeline\",\n",
    "    yaxis_title=\"Tasks\",\n",
    "    yaxis=dict(autorange=\"reversed\"),  # Reverse the y-axis to have tasks in the vertical side\n",
    "    title_x=0.5\n",
    ")\n",
    "\n",
    "# Show the plot\n",
    "fig.show()"
   ]
  },
  {
   "cell_type": "markdown",
   "metadata": {},
   "source": [
    "## Additional Considerations\n",
    "\n",
    "Improvement Possibilities:\n",
    "- Incorporating a 'human-in-the-loop' mechanism as part of the self-reflection process can significantly enhance the system's effectiveness. This approach allows for the introduction of additional, real-time information about the schedule and the availability or status of team members. For instance, if a team member is currently sick, the agent would typically still assign tasks to them due to a lack of awareness. By integrating human oversight, such critical updates can be communicated to the system, ensuring that tasks are reassigned appropriately and the workload is distributed more efficiently.\n",
    "Limitations of the Approach:\n",
    "- Incorporating an optimizer based on extracted features generated by the LLM can provide better and more reproducible scheduling and task allocation. So only leveraging the agent to produce structured content from the project description, task dependencies and team member profiles, then use the optimizer to create the project plan (task assignment). \n",
    "\n",
    "Limitations:\n",
    "- The current approach relies on a Large Language Model (LLM) to assign risk scores to tasks. However, this method has inherent limitations. Even if the same person is assigned to the same task on the same schedule, the LLM may generate different risk scores each time. This inconsistency arises because the model's output can vary independently of the explicit details provided in the prompt. Consequently, this variability can lead to unpredictable risk assessments, potentially affecting the reliability and accuracy of task management.\n",
    "- Although the prompts instructs to fullfill certain criteria, it is not always guaranteed, that it will achieve it. "
   ]
  },
  {
   "cell_type": "markdown",
   "metadata": {},
   "source": [
    "## References"
   ]
  },
  {
   "cell_type": "markdown",
   "metadata": {},
   "source": [
    "Currently no references are added to the tutorial."
   ]
  }
 ],
 "metadata": {
  "kernelspec": {
   "display_name": "agents",
   "language": "python",
   "name": "python3"
  },
  "language_info": {
   "codemirror_mode": {
    "name": "ipython",
    "version": 3
   },
   "file_extension": ".py",
   "mimetype": "text/x-python",
   "name": "python",
   "nbconvert_exporter": "python",
   "pygments_lexer": "ipython3",
   "version": "3.12.7"
  }
 },
 "nbformat": 4,
 "nbformat_minor": 2
}
