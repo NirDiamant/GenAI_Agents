{
 "cells": [
  {
   "cell_type": "markdown",
   "metadata": {
    "id": "-y6gO0VbS9IJ",
    "vscode": {
     "languageId": "plaintext"
    }
   },
   "source": [
    "<a href=\"https://colab.research.google.com/github/MichaelDeng03/GenAI_Agents/blob/main/all_agents_tutorials/art_agent.ipynb\" target=\"_parent\"><img src=\"https://colab.research.google.com/assets/colab-badge.svg\" alt=\"Open In Colab\"/></a>"
   ]
  },
  {
   "cell_type": "markdown",
   "metadata": {
    "id": "7YY34qHKS9IK",
    "vscode": {
     "languageId": "plaintext"
    }
   },
   "source": [
    "# Interactive Art Agent\n",
    "This tutorial will walk through the creation of an AI Agent that helps you explore and learn art!\n",
    "\n",
    "### Overview\n",
    "For knowledge retrieval, this tutorial uses [LightRAG](https://github.com/HKUDS/LightRAG) which is knowledge graph based RAG implementation. Compared to GraphRAG, LightRAG is more accurate for single topic datasets, and uses 1,000x less tokens for retrieval. Furthermore, documents can be added to LightRAG incrementally without rebuilding the knowledge graph. See the full results in the [paper](https://arxiv.org/abs/2410.05779).\n",
    "\n",
    "For the agent itself, we use LangGraph.\n",
    "\n",
    "### Outline\n",
    "0. [Setup](#setup)\n",
    "1. [Data Preparation + RAG](#data-preparation--rag)\n",
    "2. [Agent Creation](#agent-creation)\n",
    "3. [Final App](#final-app)"
   ]
  },
  {
   "cell_type": "markdown",
   "metadata": {
    "id": "xyLfhm3lS9IK",
    "vscode": {
     "languageId": "plaintext"
    }
   },
   "source": [
    "### Setup"
   ]
  },
  {
   "cell_type": "markdown",
   "metadata": {
    "id": "XL-vDTEVS9IK"
   },
   "source": [
    "#### Environment\n",
    "\n",
    "This tutorial uses openai embedding models. While there are alternatives, we recommend using the openai models for the best results."
   ]
  },
  {
   "cell_type": "code",
   "execution_count": null,
   "metadata": {
    "id": "h7U51nLOS9IL"
   },
   "outputs": [],
   "source": [
    "!uv venv\n",
    "!uv pip install lightrag-hku aioboto3 numpy ollama openai tenacity aioboto3 transformers torch tiktoken nano_vectordb neo4j oracledb textract setuptools pyvis sqlalchemy langchain_community langchain_openai sqlmodel ipywidgets==7.7.1 asyncio markdown langgraph -q"
   ]
  },
  {
   "cell_type": "code",
   "execution_count": null,
   "metadata": {
    "id": "yWViZHIaktSX"
   },
   "outputs": [],
   "source": [
    "import os\n",
    "\n",
    "os.environ['OPENAI_API_KEY'] = ..."
   ]
  },
  {
   "cell_type": "code",
   "execution_count": null,
   "metadata": {
    "id": "n0xrObVQS9IL"
   },
   "outputs": [],
   "source": [
    "import ipywidgets as widgets\n",
    "\n",
    "import random\n",
    "from typing_extensions import TypedDict\n",
    "\n",
    "from langgraph.graph import StateGraph, END\n",
    "from langchain_core.runnables.graph import MermaidDrawMethod\n",
    "\n",
    "from IPython.display import display, Image as IPImage\n",
    "\n",
    "\n",
    "from io import BytesIO\n",
    "from PIL import Image as PILImage\n",
    "\n",
    "import markdown\n",
    "\n",
    "import requests\n",
    "from PIL import Image as PILImage\n",
    "from ipywidgets import widgets\n",
    "import markdown\n",
    "import json"
   ]
  },
  {
   "cell_type": "markdown",
   "metadata": {
    "id": "9GsEmGJZS9IL",
    "vscode": {
     "languageId": "plaintext"
    }
   },
   "source": [
    "### Data Preparation + RAG"
   ]
  },
  {
   "cell_type": "markdown",
   "metadata": {
    "id": "DGtEqWCiS9IL"
   },
   "source": [
    "#### Data Preparation\n",
    "\n",
    "We scraped data from [wikiart](https://wikiart.org/) using a combination of requests and beautiful soup.\n",
    "\n",
    "We provide a preprocessed, limited dataset of this data for the tutorial found in `data/artinfo.json`.\n",
    "\n",
    "Preprocessed data for each artwork looks like:\n",
    "\n",
    "```plaintext\n",
    "Artwork Name: {artwork_name}\n",
    "Artwork Genre: {genre_list}\n",
    "Artwork Media: {media_list}\n",
    "Wikiart URL: https://www.wikiart.org{wikiart_slug}\n",
    "\n",
    "Wikipedia Article:\n",
    "{wiki_article}\n",
    "```\n"
   ]
  },
  {
   "cell_type": "code",
   "execution_count": 4,
   "metadata": {
    "colab": {
     "base_uri": "https://localhost:8080/"
    },
    "id": "CMUufJG7S9IM",
    "outputId": "ada7e745-ad71-4d57-fe1d-fe50a37bd318"
   },
   "outputs": [
    {
     "name": "stdout",
     "output_type": "stream",
     "text": [
      "78\n",
      "\n",
      "Artist: Frederick McCubbin\n",
      "Artwork Name: Down on his luck\n",
      "Artwork Genre: genre painting\n",
      "Artwork Media: canvas,oil\n",
      "Wikiart URL: https://www.wikiart.org/en/frederick-mccubbin/down-on-his-luck-1889\n",
      "\n",
      "Wikipedia Article:\n",
      "Down on His Luck is an 1889 painting by the Australian artist Frederick McCubbin. It depicts a seemingly disheartened swagman, sitting by a campfire sadly brooding over his misfortune. According to an 1889 review, \"The face tells of hardships, keen and blighting in their influence, but there is a nonchalant and slightly cynical expression, which proclaims the absence of all self-pity ... McCubbin's picture is thoroughly Australian in spirit.\" The surrounding bush is painted in subdued tones, reflecting his somber and contemplative mood.\r The artist's model was Louis Abrahams, a friend and successful tobaccanist in Melbourne who earlier supplied the cigar box lids for the famous 9 by 5 Impression Exhibition. The scene was staged near the Box Hill artists' camp outside Melbourne, but it is thought that McCubbin would have made additional studies of Abrahams under studio conditions.\r The painting was owned by William Fergusson up to 1986 until it was purchased by the Art Gallery of Western Australia in Perth.\n",
      "\n"
     ]
    }
   ],
   "source": [
    "artwork_info = None\n",
    "with open('./data/artinfo.json', 'r') as f:\n",
    "    artwork_info = json.load(f)['info']\n",
    "print(len(artwork_info))\n",
    "print(artwork_info[0])"
   ]
  },
  {
   "cell_type": "markdown",
   "metadata": {
    "id": "ewBkhNkES9IM"
   },
   "source": [
    "#### LightRAG\n",
    "\n",
    "RAG systems enhance LLMs by integrating external knowledge sources. Traditional RAG solutions assume a 'flat' data representation, which can fail to capture complex dependencies. \n",
    "We use a hierarchical representation a knowledge graph to model our inherently hierarchical artwork data. \n",
    "\n",
    "LightRAG incorporates graph structures into indexing and retrieval. It creates a knowledge graph encoding 'entities' and their relationships, using techniques such as entity recognition, relation extration, and graph embeding models. It's dual-level retrieval system is perfect for our Artwork dataset. Fine grained details like artist names, artwork titles, and their references are retrieved via low-level concepts, and thematic information is retrieved via high-level concepts.\n"
   ]
  },
  {
   "cell_type": "code",
   "execution_count": 5,
   "metadata": {
    "id": "t3HqKroWS9IM"
   },
   "outputs": [],
   "source": [
    "from lightrag.llm import gpt_4o_mini_complete\n",
    "from lightrag import LightRAG, QueryParam\n",
    "\n",
    "import nest_asyncio\n",
    "\n",
    "nest_asyncio.apply()\n",
    "WORKING_DIR = \"./data\"\n",
    "rag = LightRAG(\n",
    "    working_dir=WORKING_DIR,\n",
    "    llm_model_func=gpt_4o_mini_complete,\n",
    ")"
   ]
  },
  {
   "cell_type": "code",
   "execution_count": 6,
   "metadata": {
    "id": "J4lNok7wS9IM"
   },
   "outputs": [],
   "source": [
    "# Un-comment to index the data\n",
    "# import time\n",
    "\n",
    "# # Create the RAG database\n",
    "# batch_size = 30\n",
    "\n",
    "# # Loop through the list in batches of 30 to avoid rate limits\n",
    "# for i in range(0, len(artwork_info), 30):\n",
    "#     batch = artwork_info[i : i + batch_size]\n",
    "#     rag.insert(batch)\n",
    "#     time.sleep(15)"
   ]
  },
  {
   "cell_type": "markdown",
   "metadata": {
    "id": "IjnHwmeNS9IN",
    "vscode": {
     "languageId": "plaintext"
    }
   },
   "source": [
    "### Agent Chain Creation\n",
    "\n",
    "Here we create a chain of functions to aid with retrieval of artwork information.\n",
    "Some of the following functions are helper functions, while others are core to the chain's functionality."
   ]
  },
  {
   "cell_type": "code",
   "execution_count": null,
   "metadata": {
    "id": "2y-kxszDS9IN"
   },
   "outputs": [],
   "source": [
    "# Helper Functions\n",
    "\n",
    "\n",
    "def get_artwork_image_url(url: str):\n",
    "    \"\"\"\n",
    "    Gets an artwork image from its URL.\n",
    "    \"\"\"\n",
    "    import requests\n",
    "    from bs4 import BeautifulSoup as bs\n",
    "\n",
    "    response = requests.get(url)\n",
    "    soup = bs(response.text, \"html.parser\")\n",
    "    img = soup.find(\"img\", {\"itemprop\": \"image\"})\n",
    "\n",
    "    return img.get(\"src\")\n",
    "\n",
    "\n",
    "def image_widget_value(artwork_url: str):\n",
    "    image_url = get_artwork_image_url(artwork_url)\n",
    "    resp = requests.get(image_url)\n",
    "    if resp.status_code == 200:\n",
    "        image = PILImage.open(BytesIO(resp.content))\n",
    "        width, height = image.size\n",
    "    else:\n",
    "        return 'No image found'\n",
    "\n",
    "    return f'<img src={image_url} style=\"width:{width}px;height:{height}px;\">'\n",
    "\n",
    "\n",
    "def html_widget_value(description: str):\n",
    "    style = (\n",
    "        \"display: inline-block; \"\n",
    "        \"width: fit-content; \"\n",
    "        \"max-width: 100%; \"  # Optional to prevent excessive width\n",
    "        \"padding: 5px; \"\n",
    "        \"font-size: 16px; \"\n",
    "        \"line-height: 1.5; \"\n",
    "        \"border: 1px solid #ccc; \"  # Optional, for visibility\n",
    "        \"border-radius: 5px; \"\n",
    "        \"background-color: #f9f9f9;\"\n",
    "    )\n",
    "    return f'<div style=\"{style}\">{markdown.markdown(description)}</div>'"
   ]
  },
  {
   "cell_type": "markdown",
   "metadata": {},
   "source": [
    "#### State Management\n",
    "In order to keep track of the state of the art tour, we create an object that contains the current artwork, its data, past artworks, a history of this tour's discussion, and a request for a specific artwork or category:"
   ]
  },
  {
   "cell_type": "code",
   "execution_count": 9,
   "metadata": {
    "id": "YTlSssROS9IN"
   },
   "outputs": [],
   "source": [
    "class ArtTourState(TypedDict):\n",
    "    artwork: str\n",
    "    artwork_metadata: str\n",
    "    artwork_description: str\n",
    "    artwork_url: str\n",
    "    art_request: str\n",
    "    past_artworks: list[str]\n",
    "    discussion_messages: list[str]\n",
    "    app_message: str  # intro and conclusion\n",
    "    exit: bool\n",
    "\n",
    "    footer: widgets.HTML\n",
    "    header: widgets.HTML\n",
    "    image: widgets.HTML"
   ]
  },
  {
   "cell_type": "markdown",
   "metadata": {},
   "source": [
    "## Chain Node Functions\n",
    "We define helper functions consuming state that modify the widgets, and call upon the RAG database to retrieve information.\n",
    "Some of these functions include:\n",
    "- getters for current artwork data\n",
    "- random artwork retrieval\n",
    "- display artwork"
   ]
  },
  {
   "cell_type": "code",
   "execution_count": 10,
   "metadata": {
    "id": "PmArwrQQS9IN"
   },
   "outputs": [],
   "source": [
    "def get_artwork_url_from_name(state: ArtTourState):\n",
    "    artwork_name = state['artwork']\n",
    "    prompt = f\"\"\"\n",
    "    What is the Wikiart URL for this artwork: {artwork_name}\n",
    "\n",
    "    Return only the wikiart url in plain text. Do not include any other text. URL only.\n",
    "    \"\"\"\n",
    "    return {\"artwork_url\": rag.query(prompt, param=QueryParam(mode=\"hybrid\"))}"
   ]
  },
  {
   "cell_type": "code",
   "execution_count": 11,
   "metadata": {
    "id": "5dG5JKMgS9IN"
   },
   "outputs": [],
   "source": [
    "def describe_artwork(state: ArtTourState):\n",
    "    artwork = state['artwork']\n",
    "    metadata = rag.query(\n",
    "        f\"\"\"What is the genre, media, and style of the following artwork: {artwork}.\n",
    "    Return the description in the following format:\n",
    "    artwork name: <artwork name>\n",
    "    artist: <artist>\n",
    "    genre: <genre>\n",
    "    media: <media>\n",
    "    style: <style>\n",
    "\n",
    "    Return this information and nothing else.\n",
    "    \"\"\",\n",
    "        param=QueryParam(mode=\"hybrid\"),\n",
    "    )\n",
    "\n",
    "    dense_description = str(\n",
    "        rag.query(\n",
    "            f\"Describe the imagery and context of {artwork} in 2 concise paragraphs.\", param=QueryParam(mode=\"hybrid\")\n",
    "        )\n",
    "    )\n",
    "\n",
    "    return {\n",
    "        \"artwork_metadata\": metadata,\n",
    "        \"artwork_description\": dense_description,\n",
    "        **get_artwork_url_from_name(state),\n",
    "    }"
   ]
  },
  {
   "cell_type": "code",
   "execution_count": 12,
   "metadata": {
    "id": "0DRub_t6S9IN"
   },
   "outputs": [],
   "source": [
    "def request_artwork(state: ArtTourState):\n",
    "    description = state['art_request']\n",
    "    prompt = f\"\"\"\n",
    "    The user has requested the following for their next artwork. Choose a related artwork.\n",
    "    {description}\n",
    "\n",
    "    Return the name of the artwork and nothing else.\n",
    "    \"\"\"\n",
    "    return {\"artwork\": rag.query(prompt, param=QueryParam(mode=\"hybrid\"))}\n",
    "\n",
    "\n",
    "def get_next_artwork(state: ArtTourState):\n",
    "    prev_artwork = state['artwork_metadata']\n",
    "    next_artwork = state['art_request']\n",
    "    past_artworks = state['past_artworks']\n",
    "    prompt = f\"\"\"You are an art tour guide.\n",
    "    The have discussed these artworks earlier in the tour: {past_artworks}\n",
    "    You just discussed this artwork:\n",
    "    {prev_artwork}\n",
    "\n",
    "    The user has requested the following for their next artwork. Choose a related artwork.\n",
    "    {next_artwork}\n",
    "\n",
    "    Return the name of the artwork and nothing else.\n",
    "    \"\"\"\n",
    "    next_artwork = rag.query(prompt, param=QueryParam(mode=\"hybrid\"))\n",
    "    art_data = describe_artwork({'artwork': next_artwork})\n",
    "    out = {\n",
    "        \"artwork\": next_artwork,\n",
    "        \"past_artworks\": past_artworks + [prev_artwork],\n",
    "        **art_data,  # metadata + description\n",
    "    }\n",
    "    out.update(art_data)\n",
    "    return out"
   ]
  },
  {
   "cell_type": "code",
   "execution_count": null,
   "metadata": {
    "colab": {
     "base_uri": "https://localhost:8080/"
    },
    "id": "tkA_neYFS9IN",
    "outputId": "ea6f4c0e-9918-4cf8-b522-72d8a79d4384"
   },
   "outputs": [
    {
     "name": "stdout",
     "output_type": "stream",
     "text": [
      "Number of artworks indexed: 78\n"
     ]
    }
   ],
   "source": [
    "with open('./data/artinfo.json', 'r') as f:\n",
    "    art_json = json.load(f)\n",
    "artworks = [art_info.split('\\n')[2].split(': ')[1] for art_info in art_json['info']]\n",
    "print(\"Number of artworks indexed:\", len(artworks))\n",
    "\n",
    "\n",
    "def get_random_art():\n",
    "    out = {\"artwork\": random.sample(artworks, 1)[0]}\n",
    "    art_data = describe_artwork(out)\n",
    "    out.update(art_data)\n",
    "    return out"
   ]
  },
  {
   "cell_type": "code",
   "execution_count": null,
   "metadata": {
    "id": "cLByAolaS9IO"
   },
   "outputs": [],
   "source": [
    "tour_instructions = \"\"\"\n",
    "You will be shown an artwork and a description.\n",
    "Take a close look and articulate what you see, think, and feel.\n",
    "Afterwards, you may describe an area of interest to continue exploring or view a new random artwork.\n",
    "At the end, you'll be give a list of all the artworks you've seen.\n",
    "\"\"\"\n",
    "\n",
    "\n",
    "def tour_introduction(state: ArtTourState):\n",
    "    out = get_random_art()\n",
    "    out['app_message'] = tour_instructions\n",
    "    return out\n",
    "\n",
    "\n",
    "def conclude_tour(state: ArtTourState):\n",
    "    summary = str(\n",
    "        rag.query(\n",
    "            f\"\"\"\n",
    "            Build a narrative and summarize the themes of an art tour you just gave with these artworks\n",
    "            {[state['artwork_metadata']] + state['past_artworks']}\n",
    "            Start by writing a short introduction.\n",
    "            Write no more than 2 sentences about any particular artwork.\n",
    "            End by writing a short conclusion.\n",
    "            Thank the user for their engagement.\n",
    "            \"\"\",\n",
    "            param=QueryParam(mode=\"hybrid\"),\n",
    "        )\n",
    "    )\n",
    "\n",
    "    tour_conclusion = f\"\"\"\n",
    "    Thank you for doing a tour!\n",
    "    These are the artworks you viewed:\n",
    "    {\", \".join(state['past_artworks'])}\n",
    "\n",
    "    Here's a summary of the themes:\n",
    "    {summary}\n",
    "    \"\"\"\n",
    "    state['header'].value = html_widget_value(\"Art Tour Completed\")\n",
    "    state['image'].value = html_widget_value(summary)\n",
    "    state['footer'].value = html_widget_value(\"Thank you\")\n",
    "    return {'app_message': tour_conclusion}\n",
    "\n",
    "\n",
    "def display_artwork(state: ArtTourState):\n",
    "    \"\"\"\n",
    "    Render the widgets\n",
    "    \"\"\"\n",
    "    state['footer'].value = html_widget_value(state['artwork_description'] + \"\\n\\n## Comment on the artwork.\")\n",
    "    state['header'].value = html_widget_value(state['artwork'])\n",
    "    state['image'].value = image_widget_value(state['artwork_url'])\n",
    "\n",
    "    return state\n",
    "\n",
    "\n",
    "def choose_next_artwork(state: ArtTourState):\n",
    "    return get_next_artwork(state)\n",
    "\n",
    "\n",
    "def discuss(state: ArtTourState):\n",
    "    \"\"\"\n",
    "    Discuss the artwork with the user\n",
    "    \"\"\"\n",
    "    while True:\n",
    "        # Capture user message\n",
    "        user_input = input(\"type `next` or `exit` or a comment to discuss\\n\")\n",
    "\n",
    "        if user_input == 'next':\n",
    "            state['art_request'] = input(\"Give a description of what'd you'd like to see next.\")\n",
    "            return {'art_request': state['art_request']}\n",
    "        if user_input == 'exit':\n",
    "            state['exit'] = True\n",
    "            return state\n",
    "\n",
    "        # Dicuss with the user\n",
    "        summary = str(\n",
    "            rag.query(\n",
    "                f\"\"\"\n",
    "                The user has said:\n",
    "                {user_input}\n",
    "                about the artwork:\n",
    "                {state['artwork']}\n",
    "\n",
    "                Respond with 1-2 sentences enriching the user with new facts or feedback.\n",
    "                \"\"\",\n",
    "                param=QueryParam(mode=\"hybrid\"),\n",
    "            )\n",
    "        )\n",
    "        state['header'].value = html_widget_value(f\"{state['artwork']} Discussion\")\n",
    "        state['footer'].value = html_widget_value(\n",
    "            f\"{state['artwork_description']} \\n## Tour Guide Response:\\n {summary}\"\n",
    "        )"
   ]
  },
  {
   "cell_type": "markdown",
   "metadata": {},
   "source": [
    "## Final App Loop\n",
    "Finally, we create the visualizations for the art tour and wrap the tour flow in a while loop to complete the decision cycle:"
   ]
  },
  {
   "cell_type": "code",
   "execution_count": 22,
   "metadata": {
    "colab": {
     "base_uri": "https://localhost:8080/",
     "height": 548
    },
    "id": "qsMKwguzS9IO",
    "outputId": "3af79986-b229-4f46-baba-0964549df43f"
   },
   "outputs": [
    {
     "data": {
      "image/png": "[encoded data removed]",
      "text/plain": [
       "<IPython.core.display.Image object>"
      ]
     },
     "metadata": {},
     "output_type": "display_data"
    }
   ],
   "source": [
    "from typing import Literal\n",
    "\n",
    "\n",
    "workflow = StateGraph(ArtTourState)\n",
    "# nodes\n",
    "workflow.add_node('tour_introduction', tour_introduction)\n",
    "workflow.add_node('display_artwork', display_artwork)\n",
    "workflow.add_node('get_next_artwork', get_next_artwork)\n",
    "\n",
    "workflow.add_node('discuss', discuss)\n",
    "workflow.add_node('conclude_tour', conclude_tour)\n",
    "\n",
    "workflow.add_edge('tour_introduction', 'display_artwork')\n",
    "workflow.add_edge('display_artwork', 'discuss')\n",
    "\n",
    "workflow.add_edge('get_next_artwork', 'display_artwork')\n",
    "workflow.add_edge('conclude_tour', END)\n",
    "\n",
    "\n",
    "def conclude_or_moreart(state: ArtTourState) -> Literal['conclude_tour', 'get_next_artwork']:\n",
    "    if state.get('exit'):\n",
    "        return 'conclude_tour'\n",
    "    return 'get_next_artwork'\n",
    "\n",
    "\n",
    "workflow.add_conditional_edges('discuss', conclude_or_moreart)\n",
    "\n",
    "workflow.set_entry_point('tour_introduction')\n",
    "app = workflow.compile()\n",
    "display(\n",
    "    IPImage(\n",
    "        app.get_graph().draw_mermaid_png(\n",
    "            draw_method=MermaidDrawMethod.API,\n",
    "        )\n",
    "    )\n",
    ")"
   ]
  },
  {
   "cell_type": "code",
   "execution_count": null,
   "metadata": {
    "colab": {
     "base_uri": "https://localhost:8080/",
     "height": 1000,
     "referenced_widgets": [
      "ad8152bf33284573bf8ac79252454706",
      "97eb7541f71146b2acebb83c6b307905",
      "b558b577c0084df2abc984076938003c",
      "068db1bc729847f6bb2b47e202d6cd64",
      "c83ee4fd6fc74d239be78816fa5ab6a3",
      "537fc7cacb8749888bd7b71a27e64703",
      "4f5ff4dc521446a0904dccab691cb8a0",
      "7867ac7dbb4143d99fc1d154c8fffb89",
      "86a7b8b220b9415ea7d56b068e70db53",
      "28cc60065c734ffcbeae7109ff4868a3",
      "ffc89fa136df462e97c96c3595e20811"
     ]
    },
    "id": "QvE-Pp7rS9IO",
    "outputId": "bfeb0d14-b42b-4615-82da-856fec2990c1"
   },
   "outputs": [
    {
     "data": {
      "application/vnd.jupyter.widget-view+json": {
       "model_id": "ad8152bf33284573bf8ac79252454706",
       "version_major": 2,
       "version_minor": 0
      },
      "text/plain": [
       "VBox(children=(HTML(value='<div style=\"display: inline-block; width: fit-content; max-width: 100%; padding: 5p…"
      ]
     },
     "metadata": {},
     "output_type": "display_data"
    },
    {
     "name": "stdout",
     "output_type": "stream",
     "text": [
      "\u001b[32;1m\u001b[1;3m[chain/start]\u001b[0m \u001b[1m[chain:LangGraph] Entering Chain run with input:\n",
      "\u001b[0m[inputs]\n",
      "\u001b[32;1m\u001b[1;3m[chain/start]\u001b[0m \u001b[1m[chain:LangGraph > chain:__start__] Entering Chain run with input:\n",
      "\u001b[0m[inputs]\n",
      "\u001b[36;1m\u001b[1;3m[chain/end]\u001b[0m \u001b[1m[chain:LangGraph > chain:__start__] [1ms] Exiting Chain run with output:\n",
      "\u001b[0m[outputs]\n",
      "\u001b[32;1m\u001b[1;3m[chain/start]\u001b[0m \u001b[1m[chain:LangGraph > chain:tour_introduction] Entering Chain run with input:\n",
      "\u001b[0m[inputs]\n",
      "\u001b[32;1m\u001b[1;3m[chain/start]\u001b[0m \u001b[1m[chain:LangGraph > chain:tour_introduction > chain:ChannelWrite<tour_introduction,artwork,artwork_metadata,artwork_description,artwork_url,art_request,past_artworks,discussion_messages,app_message,exit,footer,header,image>] Entering Chain run with input:\n",
      "\u001b[0m{\n",
      "  \"artwork\": \"Boulevard Montmartre Spring\",\n",
      "  \"artwork_metadata\": \"```markdown\\nartwork name: Boulevard Montmartre Spring  \\nartist: Camille Pissarro  \\ngenre: cityscape  \\nmedia: canvas, oil  \\nstyle: Impressionism  \\n```\",\n",
      "  \"artwork_description\": \"**Imagery of Boulevard Montmartre Spring**\\n\\nBoulevard Montmartre Spring is an oil painting created in 1897 by Pierre-Auguste Renoir, capturing the lively street scene of Boulevard Montmartre during the springtime. The artwork is characterized by its vibrant colors and dynamic brushwork, showcasing a bustling Parisian atmosphere filled with elegantly dressed figures. The scene reflects the warmth and vitality of the season, as pedestrians stroll under the trees, with the blooming flowers adding to the picturesque backdrop. The use of light in the painting enhances the playful interactions of the figures, which alongside the splashes of color contribute to the overall sense of movement and life.\\n\\n**Contextual Significance**\\n\\nSet against the backdrop of a rapidly modernizing Paris, Boulevard Montmartre Spring embodies the effects of Haussmannization, which transformed the city's landscape through wide boulevards and public spaces. Renoir's work serves as a snapshot of Parisian life during the late 19th century, celebrating leisure, fashion, and the social dynamics of its bourgeois class. The painting serves not only as an artistic expression of the Impressionist movement but also as a cultural reflection of the societal changes occurring in Paris at the time, where art and life intertwine amidst the lively urban scene.\",\n",
      "  \"artwork_url\": \"https://www.wikiart.org/en/camille-pissarro/boulevard-montmartre-spring-1897\",\n",
      "  \"app_message\": \"\\nYou will be shown an artwork and a description.\\nTake a close look and articulate what you see, think, and feel.\\nAfterwards, you may describe an area of interest to continue exploring or view a new random artwork.\\nAt the end, you'll be give a list of all the artworks you've seen.\\n\"\n",
      "}\n",
      "\u001b[36;1m\u001b[1;3m[chain/end]\u001b[0m \u001b[1m[chain:LangGraph > chain:tour_introduction > chain:ChannelWrite<tour_introduction,artwork,artwork_metadata,artwork_description,artwork_url,art_request,past_artworks,discussion_messages,app_message,exit,footer,header,image>] [1ms] Exiting Chain run with output:\n",
      "\u001b[0m{\n",
      "  \"artwork\": \"Boulevard Montmartre Spring\",\n",
      "  \"artwork_metadata\": \"```markdown\\nartwork name: Boulevard Montmartre Spring  \\nartist: Camille Pissarro  \\ngenre: cityscape  \\nmedia: canvas, oil  \\nstyle: Impressionism  \\n```\",\n",
      "  \"artwork_description\": \"**Imagery of Boulevard Montmartre Spring**\\n\\nBoulevard Montmartre Spring is an oil painting created in 1897 by Pierre-Auguste Renoir, capturing the lively street scene of Boulevard Montmartre during the springtime. The artwork is characterized by its vibrant colors and dynamic brushwork, showcasing a bustling Parisian atmosphere filled with elegantly dressed figures. The scene reflects the warmth and vitality of the season, as pedestrians stroll under the trees, with the blooming flowers adding to the picturesque backdrop. The use of light in the painting enhances the playful interactions of the figures, which alongside the splashes of color contribute to the overall sense of movement and life.\\n\\n**Contextual Significance**\\n\\nSet against the backdrop of a rapidly modernizing Paris, Boulevard Montmartre Spring embodies the effects of Haussmannization, which transformed the city's landscape through wide boulevards and public spaces. Renoir's work serves as a snapshot of Parisian life during the late 19th century, celebrating leisure, fashion, and the social dynamics of its bourgeois class. The painting serves not only as an artistic expression of the Impressionist movement but also as a cultural reflection of the societal changes occurring in Paris at the time, where art and life intertwine amidst the lively urban scene.\",\n",
      "  \"artwork_url\": \"https://www.wikiart.org/en/camille-pissarro/boulevard-montmartre-spring-1897\",\n",
      "  \"app_message\": \"\\nYou will be shown an artwork and a description.\\nTake a close look and articulate what you see, think, and feel.\\nAfterwards, you may describe an area of interest to continue exploring or view a new random artwork.\\nAt the end, you'll be give a list of all the artworks you've seen.\\n\"\n",
      "}\n",
      "\u001b[36;1m\u001b[1;3m[chain/end]\u001b[0m \u001b[1m[chain:LangGraph > chain:tour_introduction] [15.59s] Exiting Chain run with output:\n",
      "\u001b[0m{\n",
      "  \"artwork\": \"Boulevard Montmartre Spring\",\n",
      "  \"artwork_metadata\": \"```markdown\\nartwork name: Boulevard Montmartre Spring  \\nartist: Camille Pissarro  \\ngenre: cityscape  \\nmedia: canvas, oil  \\nstyle: Impressionism  \\n```\",\n",
      "  \"artwork_description\": \"**Imagery of Boulevard Montmartre Spring**\\n\\nBoulevard Montmartre Spring is an oil painting created in 1897 by Pierre-Auguste Renoir, capturing the lively street scene of Boulevard Montmartre during the springtime. The artwork is characterized by its vibrant colors and dynamic brushwork, showcasing a bustling Parisian atmosphere filled with elegantly dressed figures. The scene reflects the warmth and vitality of the season, as pedestrians stroll under the trees, with the blooming flowers adding to the picturesque backdrop. The use of light in the painting enhances the playful interactions of the figures, which alongside the splashes of color contribute to the overall sense of movement and life.\\n\\n**Contextual Significance**\\n\\nSet against the backdrop of a rapidly modernizing Paris, Boulevard Montmartre Spring embodies the effects of Haussmannization, which transformed the city's landscape through wide boulevards and public spaces. Renoir's work serves as a snapshot of Parisian life during the late 19th century, celebrating leisure, fashion, and the social dynamics of its bourgeois class. The painting serves not only as an artistic expression of the Impressionist movement but also as a cultural reflection of the societal changes occurring in Paris at the time, where art and life intertwine amidst the lively urban scene.\",\n",
      "  \"artwork_url\": \"https://www.wikiart.org/en/camille-pissarro/boulevard-montmartre-spring-1897\",\n",
      "  \"app_message\": \"\\nYou will be shown an artwork and a description.\\nTake a close look and articulate what you see, think, and feel.\\nAfterwards, you may describe an area of interest to continue exploring or view a new random artwork.\\nAt the end, you'll be give a list of all the artworks you've seen.\\n\"\n",
      "}\n",
      "\u001b[32;1m\u001b[1;3m[chain/start]\u001b[0m \u001b[1m[chain:LangGraph > chain:display_artwork] Entering Chain run with input:\n",
      "\u001b[0m[inputs]\n",
      "\u001b[32;1m\u001b[1;3m[chain/start]\u001b[0m \u001b[1m[chain:LangGraph > chain:display_artwork > chain:ChannelWrite<display_artwork,artwork,artwork_metadata,artwork_description,artwork_url,art_request,past_artworks,discussion_messages,app_message,exit,footer,header,image>] Entering Chain run with input:\n",
      "\u001b[0m[inputs]\n",
      "\u001b[36;1m\u001b[1;3m[chain/end]\u001b[0m \u001b[1m[chain:LangGraph > chain:display_artwork > chain:ChannelWrite<display_artwork,artwork,artwork_metadata,artwork_description,artwork_url,art_request,past_artworks,discussion_messages,app_message,exit,footer,header,image>] [1ms] Exiting Chain run with output:\n",
      "\u001b[0m[outputs]\n",
      "\u001b[36;1m\u001b[1;3m[chain/end]\u001b[0m \u001b[1m[chain:LangGraph > chain:display_artwork] [1.29s] Exiting Chain run with output:\n",
      "\u001b[0m[outputs]\n",
      "\u001b[32;1m\u001b[1;3m[chain/start]\u001b[0m \u001b[1m[chain:LangGraph > chain:discuss] Entering Chain run with input:\n",
      "\u001b[0m[inputs]\n",
      "type `next` or `exit` or a discussion\n",
      "next\n",
      "Give a description of what'd you'd like to see next.yellow\n",
      "\u001b[32;1m\u001b[1;3m[chain/start]\u001b[0m \u001b[1m[chain:LangGraph > chain:discuss > chain:ChannelWrite<discuss,artwork,artwork_metadata,artwork_description,artwork_url,art_request,past_artworks,discussion_messages,app_message,exit,footer,header,image>] Entering Chain run with input:\n",
      "\u001b[0m{\n",
      "  \"art_request\": \"yellow\"\n",
      "}\n",
      "\u001b[36;1m\u001b[1;3m[chain/end]\u001b[0m \u001b[1m[chain:LangGraph > chain:discuss > chain:ChannelWrite<discuss,artwork,artwork_metadata,artwork_description,artwork_url,art_request,past_artworks,discussion_messages,app_message,exit,footer,header,image>] [1ms] Exiting Chain run with output:\n",
      "\u001b[0m{\n",
      "  \"art_request\": \"yellow\"\n",
      "}\n",
      "\u001b[32;1m\u001b[1;3m[chain/start]\u001b[0m \u001b[1m[chain:LangGraph > chain:discuss > chain:conclude_or_moreart] Entering Chain run with input:\n",
      "\u001b[0m[inputs]\n",
      "\u001b[36;1m\u001b[1;3m[chain/end]\u001b[0m \u001b[1m[chain:LangGraph > chain:discuss > chain:conclude_or_moreart] [1ms] Exiting Chain run with output:\n",
      "\u001b[0m{\n",
      "  \"output\": \"get_next_artwork\"\n",
      "}\n",
      "\u001b[36;1m\u001b[1;3m[chain/end]\u001b[0m \u001b[1m[chain:LangGraph > chain:discuss] [29.72s] Exiting Chain run with output:\n",
      "\u001b[0m{\n",
      "  \"art_request\": \"yellow\"\n",
      "}\n",
      "\u001b[32;1m\u001b[1;3m[chain/start]\u001b[0m \u001b[1m[chain:LangGraph > chain:get_next_artwork] Entering Chain run with input:\n",
      "\u001b[0m[inputs]\n",
      "\u001b[32;1m\u001b[1;3m[chain/start]\u001b[0m \u001b[1m[chain:LangGraph > chain:get_next_artwork > chain:ChannelWrite<get_next_artwork,artwork,artwork_metadata,artwork_description,artwork_url,art_request,past_artworks,discussion_messages,app_message,exit,footer,header,image>] Entering Chain run with input:\n",
      "\u001b[0m{\n",
      "  \"artwork\": \"**A Balcony in Paris**\",\n",
      "  \"past_artworks\": [\n",
      "    \"```markdown\\nartwork name: Boulevard Montmartre Spring  \\nartist: Camille Pissarro  \\ngenre: cityscape  \\nmedia: canvas, oil  \\nstyle: Impressionism  \\n```\"\n",
      "  ],\n",
      "  \"artwork_metadata\": \"```markdown\\nartwork name: A Balcony in Paris  \\nartist: Gustave Caillebotte  \\ngenre: cityscape  \\nmedia: canvas, oil  \\nstyle: Impressionism  \\n```\",\n",
      "  \"artwork_description\": \"**A Balcony in Paris**, created by Gustave Caillebotte around 1880-81, captures the essence of urban Parisian life through a unique perspective. The painting depicts a view from a balcony overlooking an urban street, framed by an ornate iron grill that adds depth and complexity to the composition. This imagery not only highlights the bustling life below but also provides a physical barrier that separates the interior of the bourgeois home from the vibrant streets of Paris. The careful arrangement of elements in the foreground and the distant street scene create a visual narrative that invites viewers to ponder the contrast between private and public spaces.\\n\\nThe artwork is executed in oil on canvas, exemplifying the characteristics of the Impressionist movement, notably through its attention to light and atmospheric effects. By situating the viewer within the confines of the home, Caillebotte engages with themes of observation and social dynamics, reflecting the changing nature of urban living during this period. The setting of **31 Boulevard Haussmann** further emphasizes the cultural and architectural significance of Paris at the time, where the city was evolving and becoming a central hub of modernity. Caillebotte's work stands out as both a personal glimpse into domestic life and a broader commentary on the experience of urbanization in late 19th-century France.\",\n",
      "  \"artwork_url\": \"https://www.wikiart.org/en/gustave-caillebotte/a-balcony-in-paris-1881\"\n",
      "}\n",
      "\u001b[36;1m\u001b[1;3m[chain/end]\u001b[0m \u001b[1m[chain:LangGraph > chain:get_next_artwork > chain:ChannelWrite<get_next_artwork,artwork,artwork_metadata,artwork_description,artwork_url,art_request,past_artworks,discussion_messages,app_message,exit,footer,header,image>] [1ms] Exiting Chain run with output:\n",
      "\u001b[0m{\n",
      "  \"artwork\": \"**A Balcony in Paris**\",\n",
      "  \"past_artworks\": [\n",
      "    \"```markdown\\nartwork name: Boulevard Montmartre Spring  \\nartist: Camille Pissarro  \\ngenre: cityscape  \\nmedia: canvas, oil  \\nstyle: Impressionism  \\n```\"\n",
      "  ],\n",
      "  \"artwork_metadata\": \"```markdown\\nartwork name: A Balcony in Paris  \\nartist: Gustave Caillebotte  \\ngenre: cityscape  \\nmedia: canvas, oil  \\nstyle: Impressionism  \\n```\",\n",
      "  \"artwork_description\": \"**A Balcony in Paris**, created by Gustave Caillebotte around 1880-81, captures the essence of urban Parisian life through a unique perspective. The painting depicts a view from a balcony overlooking an urban street, framed by an ornate iron grill that adds depth and complexity to the composition. This imagery not only highlights the bustling life below but also provides a physical barrier that separates the interior of the bourgeois home from the vibrant streets of Paris. The careful arrangement of elements in the foreground and the distant street scene create a visual narrative that invites viewers to ponder the contrast between private and public spaces.\\n\\nThe artwork is executed in oil on canvas, exemplifying the characteristics of the Impressionist movement, notably through its attention to light and atmospheric effects. By situating the viewer within the confines of the home, Caillebotte engages with themes of observation and social dynamics, reflecting the changing nature of urban living during this period. The setting of **31 Boulevard Haussmann** further emphasizes the cultural and architectural significance of Paris at the time, where the city was evolving and becoming a central hub of modernity. Caillebotte's work stands out as both a personal glimpse into domestic life and a broader commentary on the experience of urbanization in late 19th-century France.\",\n",
      "  \"artwork_url\": \"https://www.wikiart.org/en/gustave-caillebotte/a-balcony-in-paris-1881\"\n",
      "}\n",
      "\u001b[36;1m\u001b[1;3m[chain/end]\u001b[0m \u001b[1m[chain:LangGraph > chain:get_next_artwork] [20.54s] Exiting Chain run with output:\n",
      "\u001b[0m{\n",
      "  \"artwork\": \"**A Balcony in Paris**\",\n",
      "  \"past_artworks\": [\n",
      "    \"```markdown\\nartwork name: Boulevard Montmartre Spring  \\nartist: Camille Pissarro  \\ngenre: cityscape  \\nmedia: canvas, oil  \\nstyle: Impressionism  \\n```\"\n",
      "  ],\n",
      "  \"artwork_metadata\": \"```markdown\\nartwork name: A Balcony in Paris  \\nartist: Gustave Caillebotte  \\ngenre: cityscape  \\nmedia: canvas, oil  \\nstyle: Impressionism  \\n```\",\n",
      "  \"artwork_description\": \"**A Balcony in Paris**, created by Gustave Caillebotte around 1880-81, captures the essence of urban Parisian life through a unique perspective. The painting depicts a view from a balcony overlooking an urban street, framed by an ornate iron grill that adds depth and complexity to the composition. This imagery not only highlights the bustling life below but also provides a physical barrier that separates the interior of the bourgeois home from the vibrant streets of Paris. The careful arrangement of elements in the foreground and the distant street scene create a visual narrative that invites viewers to ponder the contrast between private and public spaces.\\n\\nThe artwork is executed in oil on canvas, exemplifying the characteristics of the Impressionist movement, notably through its attention to light and atmospheric effects. By situating the viewer within the confines of the home, Caillebotte engages with themes of observation and social dynamics, reflecting the changing nature of urban living during this period. The setting of **31 Boulevard Haussmann** further emphasizes the cultural and architectural significance of Paris at the time, where the city was evolving and becoming a central hub of modernity. Caillebotte's work stands out as both a personal glimpse into domestic life and a broader commentary on the experience of urbanization in late 19th-century France.\",\n",
      "  \"artwork_url\": \"https://www.wikiart.org/en/gustave-caillebotte/a-balcony-in-paris-1881\"\n",
      "}\n",
      "\u001b[32;1m\u001b[1;3m[chain/start]\u001b[0m \u001b[1m[chain:LangGraph > chain:display_artwork] Entering Chain run with input:\n",
      "\u001b[0m[inputs]\n",
      "\u001b[32;1m\u001b[1;3m[chain/start]\u001b[0m \u001b[1m[chain:LangGraph > chain:display_artwork > chain:ChannelWrite<display_artwork,artwork,artwork_metadata,artwork_description,artwork_url,art_request,past_artworks,discussion_messages,app_message,exit,footer,header,image>] Entering Chain run with input:\n",
      "\u001b[0m[inputs]\n",
      "\u001b[36;1m\u001b[1;3m[chain/end]\u001b[0m \u001b[1m[chain:LangGraph > chain:display_artwork > chain:ChannelWrite<display_artwork,artwork,artwork_metadata,artwork_description,artwork_url,art_request,past_artworks,discussion_messages,app_message,exit,footer,header,image>] [1ms] Exiting Chain run with output:\n",
      "\u001b[0m[outputs]\n",
      "\u001b[36;1m\u001b[1;3m[chain/end]\u001b[0m \u001b[1m[chain:LangGraph > chain:display_artwork] [878ms] Exiting Chain run with output:\n",
      "\u001b[0m[outputs]\n",
      "\u001b[32;1m\u001b[1;3m[chain/start]\u001b[0m \u001b[1m[chain:LangGraph > chain:discuss] Entering Chain run with input:\n",
      "\u001b[0m[inputs]\n",
      "type `next` or `exit` or a discussion\n",
      "exit\n",
      "\u001b[32;1m\u001b[1;3m[chain/start]\u001b[0m \u001b[1m[chain:LangGraph > chain:discuss > chain:ChannelWrite<discuss,artwork,artwork_metadata,artwork_description,artwork_url,art_request,past_artworks,discussion_messages,app_message,exit,footer,header,image>] Entering Chain run with input:\n",
      "\u001b[0m[inputs]\n",
      "\u001b[36;1m\u001b[1;3m[chain/end]\u001b[0m \u001b[1m[chain:LangGraph > chain:discuss > chain:ChannelWrite<discuss,artwork,artwork_metadata,artwork_description,artwork_url,art_request,past_artworks,discussion_messages,app_message,exit,footer,header,image>] [1ms] Exiting Chain run with output:\n",
      "\u001b[0m[outputs]\n",
      "\u001b[32;1m\u001b[1;3m[chain/start]\u001b[0m \u001b[1m[chain:LangGraph > chain:discuss > chain:conclude_or_moreart] Entering Chain run with input:\n",
      "\u001b[0m[inputs]\n",
      "\u001b[36;1m\u001b[1;3m[chain/end]\u001b[0m \u001b[1m[chain:LangGraph > chain:discuss > chain:conclude_or_moreart] [0ms] Exiting Chain run with output:\n",
      "\u001b[0m{\n",
      "  \"output\": \"conclude_tour\"\n",
      "}\n",
      "\u001b[36;1m\u001b[1;3m[chain/end]\u001b[0m \u001b[1m[chain:LangGraph > chain:discuss] [22.69s] Exiting Chain run with output:\n",
      "\u001b[0m[outputs]\n",
      "\u001b[32;1m\u001b[1;3m[chain/start]\u001b[0m \u001b[1m[chain:LangGraph > chain:conclude_tour] Entering Chain run with input:\n",
      "\u001b[0m[inputs]\n",
      "\u001b[32;1m\u001b[1;3m[chain/start]\u001b[0m \u001b[1m[chain:LangGraph > chain:conclude_tour > chain:ChannelWrite<conclude_tour,artwork,artwork_metadata,artwork_description,artwork_url,art_request,past_artworks,discussion_messages,app_message,exit,footer,header,image>] Entering Chain run with input:\n",
      "\u001b[0m{\n",
      "  \"app_message\": \"\\n    Thank you for doing a tour!\\n    These are the artworks you viewed:\\n    ```markdown\\nartwork name: Boulevard Montmartre Spring  \\nartist: Camille Pissarro  \\ngenre: cityscape  \\nmedia: canvas, oil  \\nstyle: Impressionism  \\n```\\n\\n    Here's a summary of the themes:\\n    ## Art Tour Summary: Impressionism in Paris \\n\\nToday, we explored the dynamic cityscapes captured by Impressionist artists, showcasing their genius in depicting urban life and the nuanced play of light. Each artwork reflects a unique perspective on Paris, highlighting the vibrancy of the city during the late 19th century. \\n\\n**A Balcony in Paris** by Gustave Caillebotte presents a scene from the artist's bourgeois home, where the urban street is framed by the ornate iron grill of a balcony, conveying a sense of intimacy intertwined with the bustling life below. On the other hand, **Boulevard Montmartre Spring** by Camille Pissarro immerses viewers in a lively Parisian street during springtime, capturing the essence of community and the beauty of nature juxtaposed against urban advancement.\\n\\nTogether, these works illustrate the rich textures, lighting, and emotional atmospheres that define Impressionism. They not only encapsulate the artists' fascination with their environment but also invite us to appreciate the scenic allure of everyday life.\\n\\nThank you for engaging with these remarkable pieces of art and for joining me on this insightful tour!\\n    \"\n",
      "}\n",
      "\u001b[36;1m\u001b[1;3m[chain/end]\u001b[0m \u001b[1m[chain:LangGraph > chain:conclude_tour > chain:ChannelWrite<conclude_tour,artwork,artwork_metadata,artwork_description,artwork_url,art_request,past_artworks,discussion_messages,app_message,exit,footer,header,image>] [2ms] Exiting Chain run with output:\n",
      "\u001b[0m{\n",
      "  \"app_message\": \"\\n    Thank you for doing a tour!\\n    These are the artworks you viewed:\\n    ```markdown\\nartwork name: Boulevard Montmartre Spring  \\nartist: Camille Pissarro  \\ngenre: cityscape  \\nmedia: canvas, oil  \\nstyle: Impressionism  \\n```\\n\\n    Here's a summary of the themes:\\n    ## Art Tour Summary: Impressionism in Paris \\n\\nToday, we explored the dynamic cityscapes captured by Impressionist artists, showcasing their genius in depicting urban life and the nuanced play of light. Each artwork reflects a unique perspective on Paris, highlighting the vibrancy of the city during the late 19th century. \\n\\n**A Balcony in Paris** by Gustave Caillebotte presents a scene from the artist's bourgeois home, where the urban street is framed by the ornate iron grill of a balcony, conveying a sense of intimacy intertwined with the bustling life below. On the other hand, **Boulevard Montmartre Spring** by Camille Pissarro immerses viewers in a lively Parisian street during springtime, capturing the essence of community and the beauty of nature juxtaposed against urban advancement.\\n\\nTogether, these works illustrate the rich textures, lighting, and emotional atmospheres that define Impressionism. They not only encapsulate the artists' fascination with their environment but also invite us to appreciate the scenic allure of everyday life.\\n\\nThank you for engaging with these remarkable pieces of art and for joining me on this insightful tour!\\n    \"\n",
      "}\n",
      "\u001b[36;1m\u001b[1;3m[chain/end]\u001b[0m \u001b[1m[chain:LangGraph > chain:conclude_tour] [7.63s] Exiting Chain run with output:\n",
      "\u001b[0m{\n",
      "  \"app_message\": \"\\n    Thank you for doing a tour!\\n    These are the artworks you viewed:\\n    ```markdown\\nartwork name: Boulevard Montmartre Spring  \\nartist: Camille Pissarro  \\ngenre: cityscape  \\nmedia: canvas, oil  \\nstyle: Impressionism  \\n```\\n\\n    Here's a summary of the themes:\\n    ## Art Tour Summary: Impressionism in Paris \\n\\nToday, we explored the dynamic cityscapes captured by Impressionist artists, showcasing their genius in depicting urban life and the nuanced play of light. Each artwork reflects a unique perspective on Paris, highlighting the vibrancy of the city during the late 19th century. \\n\\n**A Balcony in Paris** by Gustave Caillebotte presents a scene from the artist's bourgeois home, where the urban street is framed by the ornate iron grill of a balcony, conveying a sense of intimacy intertwined with the bustling life below. On the other hand, **Boulevard Montmartre Spring** by Camille Pissarro immerses viewers in a lively Parisian street during springtime, capturing the essence of community and the beauty of nature juxtaposed against urban advancement.\\n\\nTogether, these works illustrate the rich textures, lighting, and emotional atmospheres that define Impressionism. They not only encapsulate the artists' fascination with their environment but also invite us to appreciate the scenic allure of everyday life.\\n\\nThank you for engaging with these remarkable pieces of art and for joining me on this insightful tour!\\n    \"\n",
      "}\n",
      "\u001b[36;1m\u001b[1;3m[chain/end]\u001b[0m \u001b[1m[chain:LangGraph] [98.35s] Exiting Chain run with output:\n",
      "\u001b[0m[outputs]\n"
     ]
    },
    {
     "data": {
      "text/plain": [
       "{'artwork': '**A Balcony in Paris**',\n",
       " 'artwork_metadata': '```markdown\\nartwork name: A Balcony in Paris  \\nartist: Gustave Caillebotte  \\ngenre: cityscape  \\nmedia: canvas, oil  \\nstyle: Impressionism  \\n```',\n",
       " 'artwork_description': \"**A Balcony in Paris**, created by Gustave Caillebotte around 1880-81, captures the essence of urban Parisian life through a unique perspective. The painting depicts a view from a balcony overlooking an urban street, framed by an ornate iron grill that adds depth and complexity to the composition. This imagery not only highlights the bustling life below but also provides a physical barrier that separates the interior of the bourgeois home from the vibrant streets of Paris. The careful arrangement of elements in the foreground and the distant street scene create a visual narrative that invites viewers to ponder the contrast between private and public spaces.\\n\\nThe artwork is executed in oil on canvas, exemplifying the characteristics of the Impressionist movement, notably through its attention to light and atmospheric effects. By situating the viewer within the confines of the home, Caillebotte engages with themes of observation and social dynamics, reflecting the changing nature of urban living during this period. The setting of **31 Boulevard Haussmann** further emphasizes the cultural and architectural significance of Paris at the time, where the city was evolving and becoming a central hub of modernity. Caillebotte's work stands out as both a personal glimpse into domestic life and a broader commentary on the experience of urbanization in late 19th-century France.\",\n",
       " 'artwork_url': 'https://www.wikiart.org/en/gustave-caillebotte/a-balcony-in-paris-1881',\n",
       " 'art_request': 'yellow',\n",
       " 'past_artworks': ['```markdown\\nartwork name: Boulevard Montmartre Spring  \\nartist: Camille Pissarro  \\ngenre: cityscape  \\nmedia: canvas, oil  \\nstyle: Impressionism  \\n```'],\n",
       " 'app_message': \"\\n    Thank you for doing a tour!\\n    These are the artworks you viewed:\\n    ```markdown\\nartwork name: Boulevard Montmartre Spring  \\nartist: Camille Pissarro  \\ngenre: cityscape  \\nmedia: canvas, oil  \\nstyle: Impressionism  \\n```\\n\\n    Here's a summary of the themes:\\n    ## Art Tour Summary: Impressionism in Paris \\n\\nToday, we explored the dynamic cityscapes captured by Impressionist artists, showcasing their genius in depicting urban life and the nuanced play of light. Each artwork reflects a unique perspective on Paris, highlighting the vibrancy of the city during the late 19th century. \\n\\n**A Balcony in Paris** by Gustave Caillebotte presents a scene from the artist's bourgeois home, where the urban street is framed by the ornate iron grill of a balcony, conveying a sense of intimacy intertwined with the bustling life below. On the other hand, **Boulevard Montmartre Spring** by Camille Pissarro immerses viewers in a lively Parisian street during springtime, capturing the essence of community and the beauty of nature juxtaposed against urban advancement.\\n\\nTogether, these works illustrate the rich textures, lighting, and emotional atmospheres that define Impressionism. They not only encapsulate the artists' fascination with their environment but also invite us to appreciate the scenic allure of everyday life.\\n\\nThank you for engaging with these remarkable pieces of art and for joining me on this insightful tour!\\n    \",\n",
       " 'exit': True,\n",
       " 'footer': HTML(value='<div style=\"display: inline-block; width: fit-content; max-width: 100%; padding: 5px; font-size: 16px; line-height: 1.5; border: 1px solid #ccc; border-radius: 5px; background-color: #f9f9f9;\"><p>Thank you</p></div>'),\n",
       " 'header': HTML(value='<div style=\"display: inline-block; width: fit-content; max-width: 100%; padding: 5px; font-size: 16px; line-height: 1.5; border: 1px solid #ccc; border-radius: 5px; background-color: #f9f9f9;\"><p>Art Tour Completed</p></div>'),\n",
       " 'image': HTML(value='<div style=\"display: inline-block; width: fit-content; max-width: 100%; padding: 5px; font-size: 16px; line-height: 1.5; border: 1px solid #ccc; border-radius: 5px; background-color: #f9f9f9;\"><h2>Art Tour Summary: Impressionism in Paris</h2>\\n<p>Today, we explored the dynamic cityscapes captured by Impressionist artists, showcasing their genius in depicting urban life and the nuanced play of light. Each artwork reflects a unique perspective on Paris, highlighting the vibrancy of the city during the late 19th century. </p>\\n<p><strong>A Balcony in Paris</strong> by Gustave Caillebotte presents a scene from the artist\\'s bourgeois home, where the urban street is framed by the ornate iron grill of a balcony, conveying a sense of intimacy intertwined with the bustling life below. On the other hand, <strong>Boulevard Montmartre Spring</strong> by Camille Pissarro immerses viewers in a lively Parisian street during springtime, capturing the essence of community and the beauty of nature juxtaposed against urban advancement.</p>\\n<p>Together, these works illustrate the rich textures, lighting, and emotional atmospheres that define Impressionism. They not only encapsulate the artists\\' fascination with their environment but also invite us to appreciate the scenic allure of everyday life.</p>\\n<p>Thank you for engaging with these remarkable pieces of art and for joining me on this insightful tour!</p></div>')}"
      ]
     },
     "execution_count": 24,
     "metadata": {},
     "output_type": "execute_result"
    }
   ],
   "source": [
    "header = widgets.HTML(value=html_widget_value(\"Welcome to the Art Tour!\"))\n",
    "image = widgets.HTML(value=\"\")\n",
    "footer = widgets.HTML(value=\"\")\n",
    "display(widgets.VBox([header, image, footer]))\n",
    "app.invoke(\n",
    "    {\"artwork\": None, \"past_artworks\": [], 'header': header, 'image': image, 'footer': footer, 'art_request': None}\n",
    ")"
   ]
  }
 ],
 "metadata": {
  "colab": {
   "provenance": []
  },
  "kernelspec": {
   "display_name": ".venv",
   "language": "python",
   "name": "python3"
  },
  "language_info": {
   "codemirror_mode": {
    "name": "ipython",
    "version": 3
   },
   "file_extension": ".py",
   "mimetype": "text/x-python",
   "name": "python",
   "nbconvert_exporter": "python",
   "pygments_lexer": "ipython3",
   "version": "3.12.7"
  },
  "widgets": {
   "application/vnd.jupyter.widget-state+json": {
    "068db1bc729847f6bb2b47e202d6cd64": {
     "model_module": "@jupyter-widgets/controls",
     "model_module_version": "1.5.0",
     "model_name": "HTMLModel",
     "state": {
      "_dom_classes": [],
      "_model_module": "@jupyter-widgets/controls",
      "_model_module_version": "1.5.0",
      "_model_name": "HTMLModel",
      "_view_count": null,
      "_view_module": "@jupyter-widgets/controls",
      "_view_module_version": "1.5.0",
      "_view_name": "HTMLView",
      "description": "",
      "description_tooltip": null,
      "layout": "IPY_MODEL_28cc60065c734ffcbeae7109ff4868a3",
      "placeholder": "​",
      "style": "IPY_MODEL_ffc89fa136df462e97c96c3595e20811",
      "value": "<div style=\"display: inline-block; width: fit-content; max-width: 100%; padding: 5px; font-size: 16px; line-height: 1.5; border: 1px solid #ccc; border-radius: 5px; background-color: #f9f9f9;\"><p>Thank you</p></div>"
     }
    },
    "28cc60065c734ffcbeae7109ff4868a3": {
     "model_module": "@jupyter-widgets/base",
     "model_module_version": "1.2.0",
     "model_name": "LayoutModel",
     "state": {
      "_model_module": "@jupyter-widgets/base",
      "_model_module_version": "1.2.0",
      "_model_name": "LayoutModel",
      "_view_count": null,
      "_view_module": "@jupyter-widgets/base",
      "_view_module_version": "1.2.0",
      "_view_name": "LayoutView",
      "align_content": null,
      "align_items": null,
      "align_self": null,
      "border": null,
      "bottom": null,
      "display": null,
      "flex": null,
      "flex_flow": null,
      "grid_area": null,
      "grid_auto_columns": null,
      "grid_auto_flow": null,
      "grid_auto_rows": null,
      "grid_column": null,
      "grid_gap": null,
      "grid_row": null,
      "grid_template_areas": null,
      "grid_template_columns": null,
      "grid_template_rows": null,
      "height": null,
      "justify_content": null,
      "justify_items": null,
      "left": null,
      "margin": null,
      "max_height": null,
      "max_width": null,
      "min_height": null,
      "min_width": null,
      "object_fit": null,
      "object_position": null,
      "order": null,
      "overflow": null,
      "overflow_x": null,
      "overflow_y": null,
      "padding": null,
      "right": null,
      "top": null,
      "visibility": null,
      "width": null
     }
    },
    "4f5ff4dc521446a0904dccab691cb8a0": {
     "model_module": "@jupyter-widgets/controls",
     "model_module_version": "1.5.0",
     "model_name": "DescriptionStyleModel",
     "state": {
      "_model_module": "@jupyter-widgets/controls",
      "_model_module_version": "1.5.0",
      "_model_name": "DescriptionStyleModel",
      "_view_count": null,
      "_view_module": "@jupyter-widgets/base",
      "_view_module_version": "1.2.0",
      "_view_name": "StyleView",
      "description_width": ""
     }
    },
    "537fc7cacb8749888bd7b71a27e64703": {
     "model_module": "@jupyter-widgets/base",
     "model_module_version": "1.2.0",
     "model_name": "LayoutModel",
     "state": {
      "_model_module": "@jupyter-widgets/base",
      "_model_module_version": "1.2.0",
      "_model_name": "LayoutModel",
      "_view_count": null,
      "_view_module": "@jupyter-widgets/base",
      "_view_module_version": "1.2.0",
      "_view_name": "LayoutView",
      "align_content": null,
      "align_items": null,
      "align_self": null,
      "border": null,
      "bottom": null,
      "display": null,
      "flex": null,
      "flex_flow": null,
      "grid_area": null,
      "grid_auto_columns": null,
      "grid_auto_flow": null,
      "grid_auto_rows": null,
      "grid_column": null,
      "grid_gap": null,
      "grid_row": null,
      "grid_template_areas": null,
      "grid_template_columns": null,
      "grid_template_rows": null,
      "height": null,
      "justify_content": null,
      "justify_items": null,
      "left": null,
      "margin": null,
      "max_height": null,
      "max_width": null,
      "min_height": null,
      "min_width": null,
      "object_fit": null,
      "object_position": null,
      "order": null,
      "overflow": null,
      "overflow_x": null,
      "overflow_y": null,
      "padding": null,
      "right": null,
      "top": null,
      "visibility": null,
      "width": null
     }
    },
    "7867ac7dbb4143d99fc1d154c8fffb89": {
     "model_module": "@jupyter-widgets/base",
     "model_module_version": "1.2.0",
     "model_name": "LayoutModel",
     "state": {
      "_model_module": "@jupyter-widgets/base",
      "_model_module_version": "1.2.0",
      "_model_name": "LayoutModel",
      "_view_count": null,
      "_view_module": "@jupyter-widgets/base",
      "_view_module_version": "1.2.0",
      "_view_name": "LayoutView",
      "align_content": null,
      "align_items": null,
      "align_self": null,
      "border": null,
      "bottom": null,
      "display": null,
      "flex": null,
      "flex_flow": null,
      "grid_area": null,
      "grid_auto_columns": null,
      "grid_auto_flow": null,
      "grid_auto_rows": null,
      "grid_column": null,
      "grid_gap": null,
      "grid_row": null,
      "grid_template_areas": null,
      "grid_template_columns": null,
      "grid_template_rows": null,
      "height": null,
      "justify_content": null,
      "justify_items": null,
      "left": null,
      "margin": null,
      "max_height": null,
      "max_width": null,
      "min_height": null,
      "min_width": null,
      "object_fit": null,
      "object_position": null,
      "order": null,
      "overflow": null,
      "overflow_x": null,
      "overflow_y": null,
      "padding": null,
      "right": null,
      "top": null,
      "visibility": null,
      "width": null
     }
    },
    "86a7b8b220b9415ea7d56b068e70db53": {
     "model_module": "@jupyter-widgets/controls",
     "model_module_version": "1.5.0",
     "model_name": "DescriptionStyleModel",
     "state": {
      "_model_module": "@jupyter-widgets/controls",
      "_model_module_version": "1.5.0",
      "_model_name": "DescriptionStyleModel",
      "_view_count": null,
      "_view_module": "@jupyter-widgets/base",
      "_view_module_version": "1.2.0",
      "_view_name": "StyleView",
      "description_width": ""
     }
    },
    "97eb7541f71146b2acebb83c6b307905": {
     "model_module": "@jupyter-widgets/controls",
     "model_module_version": "1.5.0",
     "model_name": "HTMLModel",
     "state": {
      "_dom_classes": [],
      "_model_module": "@jupyter-widgets/controls",
      "_model_module_version": "1.5.0",
      "_model_name": "HTMLModel",
      "_view_count": null,
      "_view_module": "@jupyter-widgets/controls",
      "_view_module_version": "1.5.0",
      "_view_name": "HTMLView",
      "description": "",
      "description_tooltip": null,
      "layout": "IPY_MODEL_537fc7cacb8749888bd7b71a27e64703",
      "placeholder": "​",
      "style": "IPY_MODEL_4f5ff4dc521446a0904dccab691cb8a0",
      "value": "<div style=\"display: inline-block; width: fit-content; max-width: 100%; padding: 5px; font-size: 16px; line-height: 1.5; border: 1px solid #ccc; border-radius: 5px; background-color: #f9f9f9;\"><p>Art Tour Completed</p></div>"
     }
    },
    "ad8152bf33284573bf8ac79252454706": {
     "model_module": "@jupyter-widgets/controls",
     "model_module_version": "1.5.0",
     "model_name": "VBoxModel",
     "state": {
      "_dom_classes": [],
      "_model_module": "@jupyter-widgets/controls",
      "_model_module_version": "1.5.0",
      "_model_name": "VBoxModel",
      "_view_count": null,
      "_view_module": "@jupyter-widgets/controls",
      "_view_module_version": "1.5.0",
      "_view_name": "VBoxView",
      "box_style": "",
      "children": [
       "IPY_MODEL_97eb7541f71146b2acebb83c6b307905",
       "IPY_MODEL_b558b577c0084df2abc984076938003c",
       "IPY_MODEL_068db1bc729847f6bb2b47e202d6cd64"
      ],
      "layout": "IPY_MODEL_c83ee4fd6fc74d239be78816fa5ab6a3"
     }
    },
    "b558b577c0084df2abc984076938003c": {
     "model_module": "@jupyter-widgets/controls",
     "model_module_version": "1.5.0",
     "model_name": "HTMLModel",
     "state": {
      "_dom_classes": [],
      "_model_module": "@jupyter-widgets/controls",
      "_model_module_version": "1.5.0",
      "_model_name": "HTMLModel",
      "_view_count": null,
      "_view_module": "@jupyter-widgets/controls",
      "_view_module_version": "1.5.0",
      "_view_name": "HTMLView",
      "description": "",
      "description_tooltip": null,
      "layout": "IPY_MODEL_7867ac7dbb4143d99fc1d154c8fffb89",
      "placeholder": "​",
      "style": "IPY_MODEL_86a7b8b220b9415ea7d56b068e70db53",
      "value": "<div style=\"display: inline-block; width: fit-content; max-width: 100%; padding: 5px; font-size: 16px; line-height: 1.5; border: 1px solid #ccc; border-radius: 5px; background-color: #f9f9f9;\"><h2>Art Tour Summary: Impressionism in Paris</h2>\n<p>Today, we explored the dynamic cityscapes captured by Impressionist artists, showcasing their genius in depicting urban life and the nuanced play of light. Each artwork reflects a unique perspective on Paris, highlighting the vibrancy of the city during the late 19th century. </p>\n<p><strong>A Balcony in Paris</strong> by Gustave Caillebotte presents a scene from the artist's bourgeois home, where the urban street is framed by the ornate iron grill of a balcony, conveying a sense of intimacy intertwined with the bustling life below. On the other hand, <strong>Boulevard Montmartre Spring</strong> by Camille Pissarro immerses viewers in a lively Parisian street during springtime, capturing the essence of community and the beauty of nature juxtaposed against urban advancement.</p>\n<p>Together, these works illustrate the rich textures, lighting, and emotional atmospheres that define Impressionism. They not only encapsulate the artists' fascination with their environment but also invite us to appreciate the scenic allure of everyday life.</p>\n<p>Thank you for engaging with these remarkable pieces of art and for joining me on this insightful tour!</p></div>"
     }
    },
    "c83ee4fd6fc74d239be78816fa5ab6a3": {
     "model_module": "@jupyter-widgets/base",
     "model_module_version": "1.2.0",
     "model_name": "LayoutModel",
     "state": {
      "_model_module": "@jupyter-widgets/base",
      "_model_module_version": "1.2.0",
      "_model_name": "LayoutModel",
      "_view_count": null,
      "_view_module": "@jupyter-widgets/base",
      "_view_module_version": "1.2.0",
      "_view_name": "LayoutView",
      "align_content": null,
      "align_items": null,
      "align_self": null,
      "border": null,
      "bottom": null,
      "display": null,
      "flex": null,
      "flex_flow": null,
      "grid_area": null,
      "grid_auto_columns": null,
      "grid_auto_flow": null,
      "grid_auto_rows": null,
      "grid_column": null,
      "grid_gap": null,
      "grid_row": null,
      "grid_template_areas": null,
      "grid_template_columns": null,
      "grid_template_rows": null,
      "height": null,
      "justify_content": null,
      "justify_items": null,
      "left": null,
      "margin": null,
      "max_height": null,
      "max_width": null,
      "min_height": null,
      "min_width": null,
      "object_fit": null,
      "object_position": null,
      "order": null,
      "overflow": null,
      "overflow_x": null,
      "overflow_y": null,
      "padding": null,
      "right": null,
      "top": null,
      "visibility": null,
      "width": null
     }
    },
    "ffc89fa136df462e97c96c3595e20811": {
     "model_module": "@jupyter-widgets/controls",
     "model_module_version": "1.5.0",
     "model_name": "DescriptionStyleModel",
     "state": {
      "_model_module": "@jupyter-widgets/controls",
      "_model_module_version": "1.5.0",
      "_model_name": "DescriptionStyleModel",
      "_view_count": null,
      "_view_module": "@jupyter-widgets/base",
      "_view_module_version": "1.2.0",
      "_view_name": "StyleView",
      "description_width": ""
     }
    }
   }
  }
 },
 "nbformat": 4,
 "nbformat_minor": 0
}
